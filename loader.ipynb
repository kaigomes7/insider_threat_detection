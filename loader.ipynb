{
 "cells": [
  {
   "cell_type": "code",
   "execution_count": 1,
   "metadata": {},
   "outputs": [],
   "source": [
    "import pandas as pd\n",
    "import numpy as np\n",
    "import re"
   ]
  },
  {
   "cell_type": "markdown",
   "metadata": {},
   "source": [
    "Loads CERT 6.2 email dataset"
   ]
  },
  {
   "cell_type": "code",
   "execution_count": 2,
   "metadata": {},
   "outputs": [],
   "source": [
    "df = pd.read_csv(\"C:\\\\Users\\\\kaigo\\\\Downloads\\\\r6.2\\\\r6.2\\\\email.csv\")"
   ]
  },
  {
   "cell_type": "markdown",
   "metadata": {},
   "source": [
    "Loads answers for dataset and drops unecessary columns"
   ]
  },
  {
   "cell_type": "code",
   "execution_count": 3,
   "metadata": {},
   "outputs": [],
   "source": [
    "answers_df = pd.read_csv(\"C:\\\\Users\\\\kaigo\\\\Downloads\\\\answers\\\\answers\\\\r6.2-3.csv\", header=None)\n",
    "answers_df = answers_df.where(answers_df[0] == 'email')\n",
    "answers_df = answers_df[answers_df[0].notna()]\n",
    "answers_df = answers_df.rename(columns={1: 'id', 2: \"date\", 3: \"user\", 4: \"pc\", 5: \"to\", 6: \"cc\", 7:\"bcc\", 8:\"from\", 9:\"activity\", 10:\"size\", 11: \"attachment\", 13: \"content\" })\n",
    "answers_df = answers_df.drop([0, 12], axis=1)"
   ]
  },
  {
   "cell_type": "markdown",
   "metadata": {},
   "source": [
    "Labels email data with malicious column"
   ]
  },
  {
   "cell_type": "code",
   "execution_count": 4,
   "metadata": {},
   "outputs": [],
   "source": [
    "malicious_ids = answers_df['user'].unique()\n",
    "df['malicious'] = [1 if x in malicious_ids else 0 for x in df['user']]"
   ]
  },
  {
   "cell_type": "markdown",
   "metadata": {},
   "source": [
    "Feature Extraction"
   ]
  },
  {
   "cell_type": "markdown",
   "metadata": {},
   "source": [
    "Gets number of words in message from message content"
   ]
  },
  {
   "cell_type": "code",
   "execution_count": 5,
   "metadata": {},
   "outputs": [],
   "source": [
    "df['num_words'] = [len(x.split()) for x in df['content']]"
   ]
  },
  {
   "cell_type": "markdown",
   "metadata": {},
   "source": [
    "Gets number of destinations and number of external destinations"
   ]
  },
  {
   "cell_type": "code",
   "execution_count": 6,
   "metadata": {},
   "outputs": [],
   "source": [
    "# temp = []\n",
    "# i = 0\n",
    "# for _, x in df.iterrows():\n",
    "#     total = 0\n",
    "#     if type(x['to']) == str:\n",
    "#         total += len(x['to'].split(\";\"))\n",
    "#     if type(x['cc']) == str:\n",
    "#         total += len(x['to'].split(\";\"))\n",
    "#     if type(x['bcc']) == str:\n",
    "#         total += len(x['to'].split(\";\"))\n",
    "#     temp.append(total)\n",
    "# df['num_dest'] = temp\n"
   ]
  },
  {
   "cell_type": "code",
   "execution_count": 7,
   "metadata": {},
   "outputs": [],
   "source": [
    "df['num_dest'] = [len(re.findall(\"(@)\", x['to'] + \";\" + (x['cc'] if not pd.isnull(x['cc']) else '') + \";\" + (x['bcc'] if not pd.isnull(x['bcc']) else ''))) for _, x in df[['to', 'cc', 'bcc']].iterrows()]"
   ]
  },
  {
   "cell_type": "code",
   "execution_count": 8,
   "metadata": {},
   "outputs": [],
   "source": [
    "df['num_external'] = [len(set(re.findall(\"(?<=@)[^.]+(?=.)\", x['to'] + \";\" + (x['cc'] if not pd.isnull(x['cc']) else '') + \";\" + (x['bcc'] if not pd.isnull(x['bcc']) else ''))) - set(re.findall(\"(?<=@)[^.]+(?=.)\", x['to']))) for _, x in df[['to', 'cc', 'bcc']].iterrows()]"
   ]
  },
  {
   "cell_type": "code",
   "execution_count": null,
   "metadata": {},
   "outputs": [],
   "source": [
    "df['num_external_bcc'] = [len(set(re.findall(\"(?<=@)[^.]+(?=.)\", x['to'] + \";\" + (x['bcc'] if not pd.isnull(x['bcc']) else ''))) - set(re.findall(\"(?<=@)[^.]+(?=.)\", x['to']))) for _, x in df[['to', 'bcc']].iterrows()]"
   ]
  },
  {
   "cell_type": "code",
   "execution_count": null,
   "metadata": {},
   "outputs": [],
   "source": [
    "df['num_attach'] = [len(x.split(\";\")) if type(x) == str else 0 for x in df['attachments']]"
   ]
  },
  {
   "cell_type": "code",
   "execution_count": null,
   "metadata": {},
   "outputs": [],
   "source": [
    "df['attach_size'] = [sum(map(int, re.findall(\"\\(([^()]+)\\)\", x))) if type(x) == str else 0 for x in df['attachments']]"
   ]
  },
  {
   "cell_type": "code",
   "execution_count": null,
   "metadata": {},
   "outputs": [],
   "source": [
    "df['num_attach_type'] = [len(set(re.findall(\"\\.(.*?)\\(\", x))) if type(x) == str else 0 for x in df['attachments']]"
   ]
  },
  {
   "cell_type": "code",
   "execution_count": null,
   "metadata": {},
   "outputs": [],
   "source": [
    "df['num_bcc'] = [len(x.split(\";\")) if type(x) == str else 0 for x in df['bcc']]"
   ]
  },
  {
   "cell_type": "code",
   "execution_count": null,
   "metadata": {},
   "outputs": [],
   "source": [
    "encoder_df = df[['num_dest','num_attach','num_attach_type', 'attach_size', 'num_external', 'num_external_bcc', 'size', 'num_words', 'num_bcc']]"
   ]
  },
  {
   "cell_type": "code",
   "execution_count": null,
   "metadata": {},
   "outputs": [
    {
     "data": {
      "text/html": [
       "<div>\n",
       "<style scoped>\n",
       "    .dataframe tbody tr th:only-of-type {\n",
       "        vertical-align: middle;\n",
       "    }\n",
       "\n",
       "    .dataframe tbody tr th {\n",
       "        vertical-align: top;\n",
       "    }\n",
       "\n",
       "    .dataframe thead th {\n",
       "        text-align: right;\n",
       "    }\n",
       "</style>\n",
       "<table border=\"1\" class=\"dataframe\">\n",
       "  <thead>\n",
       "    <tr style=\"text-align: right;\">\n",
       "      <th></th>\n",
       "      <th>num_dest</th>\n",
       "      <th>num_attach</th>\n",
       "      <th>num_attach_type</th>\n",
       "      <th>attach_size</th>\n",
       "      <th>num_external</th>\n",
       "      <th>num_external_bcc</th>\n",
       "      <th>size</th>\n",
       "      <th>num_words</th>\n",
       "      <th>num_bcc</th>\n",
       "    </tr>\n",
       "  </thead>\n",
       "  <tbody>\n",
       "    <tr>\n",
       "      <th>0</th>\n",
       "      <td>3</td>\n",
       "      <td>0</td>\n",
       "      <td>0</td>\n",
       "      <td>0</td>\n",
       "      <td>0</td>\n",
       "      <td>0</td>\n",
       "      <td>45659</td>\n",
       "      <td>87</td>\n",
       "      <td>1</td>\n",
       "    </tr>\n",
       "    <tr>\n",
       "      <th>1</th>\n",
       "      <td>1</td>\n",
       "      <td>0</td>\n",
       "      <td>0</td>\n",
       "      <td>0</td>\n",
       "      <td>0</td>\n",
       "      <td>0</td>\n",
       "      <td>34142</td>\n",
       "      <td>81</td>\n",
       "      <td>0</td>\n",
       "    </tr>\n",
       "    <tr>\n",
       "      <th>2</th>\n",
       "      <td>2</td>\n",
       "      <td>2</td>\n",
       "      <td>1</td>\n",
       "      <td>1275148</td>\n",
       "      <td>1</td>\n",
       "      <td>0</td>\n",
       "      <td>1310925</td>\n",
       "      <td>108</td>\n",
       "      <td>0</td>\n",
       "    </tr>\n",
       "    <tr>\n",
       "      <th>3</th>\n",
       "      <td>1</td>\n",
       "      <td>0</td>\n",
       "      <td>0</td>\n",
       "      <td>0</td>\n",
       "      <td>0</td>\n",
       "      <td>0</td>\n",
       "      <td>23043</td>\n",
       "      <td>103</td>\n",
       "      <td>0</td>\n",
       "    </tr>\n",
       "    <tr>\n",
       "      <th>4</th>\n",
       "      <td>1</td>\n",
       "      <td>0</td>\n",
       "      <td>0</td>\n",
       "      <td>0</td>\n",
       "      <td>0</td>\n",
       "      <td>0</td>\n",
       "      <td>25210</td>\n",
       "      <td>168</td>\n",
       "      <td>0</td>\n",
       "    </tr>\n",
       "    <tr>\n",
       "      <th>...</th>\n",
       "      <td>...</td>\n",
       "      <td>...</td>\n",
       "      <td>...</td>\n",
       "      <td>...</td>\n",
       "      <td>...</td>\n",
       "      <td>...</td>\n",
       "      <td>...</td>\n",
       "      <td>...</td>\n",
       "      <td>...</td>\n",
       "    </tr>\n",
       "    <tr>\n",
       "      <th>10994952</th>\n",
       "      <td>1</td>\n",
       "      <td>1</td>\n",
       "      <td>1</td>\n",
       "      <td>537466</td>\n",
       "      <td>0</td>\n",
       "      <td>0</td>\n",
       "      <td>562755</td>\n",
       "      <td>110</td>\n",
       "      <td>0</td>\n",
       "    </tr>\n",
       "    <tr>\n",
       "      <th>10994953</th>\n",
       "      <td>2</td>\n",
       "      <td>0</td>\n",
       "      <td>0</td>\n",
       "      <td>0</td>\n",
       "      <td>1</td>\n",
       "      <td>0</td>\n",
       "      <td>27684</td>\n",
       "      <td>112</td>\n",
       "      <td>0</td>\n",
       "    </tr>\n",
       "    <tr>\n",
       "      <th>10994954</th>\n",
       "      <td>1</td>\n",
       "      <td>0</td>\n",
       "      <td>0</td>\n",
       "      <td>0</td>\n",
       "      <td>0</td>\n",
       "      <td>0</td>\n",
       "      <td>32292</td>\n",
       "      <td>53</td>\n",
       "      <td>0</td>\n",
       "    </tr>\n",
       "    <tr>\n",
       "      <th>10994955</th>\n",
       "      <td>4</td>\n",
       "      <td>0</td>\n",
       "      <td>0</td>\n",
       "      <td>0</td>\n",
       "      <td>0</td>\n",
       "      <td>0</td>\n",
       "      <td>23197</td>\n",
       "      <td>48</td>\n",
       "      <td>0</td>\n",
       "    </tr>\n",
       "    <tr>\n",
       "      <th>10994956</th>\n",
       "      <td>4</td>\n",
       "      <td>0</td>\n",
       "      <td>0</td>\n",
       "      <td>0</td>\n",
       "      <td>0</td>\n",
       "      <td>0</td>\n",
       "      <td>20480</td>\n",
       "      <td>35</td>\n",
       "      <td>1</td>\n",
       "    </tr>\n",
       "  </tbody>\n",
       "</table>\n",
       "<p>10994957 rows × 9 columns</p>\n",
       "</div>"
      ],
      "text/plain": [
       "          num_dest  num_attach  num_attach_type  attach_size  num_external  \\\n",
       "0                3           0                0            0             0   \n",
       "1                1           0                0            0             0   \n",
       "2                2           2                1      1275148             1   \n",
       "3                1           0                0            0             0   \n",
       "4                1           0                0            0             0   \n",
       "...            ...         ...              ...          ...           ...   \n",
       "10994952         1           1                1       537466             0   \n",
       "10994953         2           0                0            0             1   \n",
       "10994954         1           0                0            0             0   \n",
       "10994955         4           0                0            0             0   \n",
       "10994956         4           0                0            0             0   \n",
       "\n",
       "          num_external_bcc     size  num_words  num_bcc  \n",
       "0                        0    45659         87        1  \n",
       "1                        0    34142         81        0  \n",
       "2                        0  1310925        108        0  \n",
       "3                        0    23043        103        0  \n",
       "4                        0    25210        168        0  \n",
       "...                    ...      ...        ...      ...  \n",
       "10994952                 0   562755        110        0  \n",
       "10994953                 0    27684        112        0  \n",
       "10994954                 0    32292         53        0  \n",
       "10994955                 0    23197         48        0  \n",
       "10994956                 0    20480         35        1  \n",
       "\n",
       "[10994957 rows x 9 columns]"
      ]
     },
     "execution_count": 70,
     "metadata": {},
     "output_type": "execute_result"
    }
   ],
   "source": [
    "encoder_df"
   ]
  },
  {
   "cell_type": "code",
   "execution_count": null,
   "metadata": {},
   "outputs": [],
   "source": [
    "y = df['malicious']\n",
    "X = encoder_df"
   ]
  },
  {
   "cell_type": "code",
   "execution_count": null,
   "metadata": {},
   "outputs": [],
   "source": [
    "from sklearn.model_selection import train_test_split\n",
    "from sklearn import preprocessing"
   ]
  },
  {
   "cell_type": "code",
   "execution_count": null,
   "metadata": {},
   "outputs": [],
   "source": [
    "x = encoder_df.values\n",
    "min_max_scaler = preprocessing.MinMaxScaler()\n",
    "x_scaled = min_max_scaler.fit_transform(x)\n",
    "scaled_df = pd.DataFrame(x_scaled)"
   ]
  },
  {
   "cell_type": "code",
   "execution_count": null,
   "metadata": {},
   "outputs": [],
   "source": [
    "X_train, X_test, y_train, y_test = train_test_split(x_scaled, y, test_size=0.33, random_state=42)"
   ]
  },
  {
   "cell_type": "code",
   "execution_count": null,
   "metadata": {},
   "outputs": [],
   "source": [
    "import tensorflow as tf\n",
    "from tensorflow import keras\n",
    "from tensorflow.keras import optimizers\n",
    "from tensorflow.keras.models import Sequential, Model\n",
    "from tensorflow.keras.layers import Dense, Input, Dropout, Embedding, LSTM\n",
    "from tensorflow.keras.optimizers import RMSprop, Adam, Nadam\n",
    "from tensorflow.keras.preprocessing import sequence\n",
    "from tensorflow.keras.callbacks import TensorBoard\n",
    "import sklearn\n",
    "from sklearn.preprocessing import StandardScaler\n",
    "from sklearn.preprocessing import MinMaxScaler\n",
    "from sklearn.model_selection import train_test_split\n",
    "from sklearn.metrics import confusion_matrix, roc_auc_score, classification_report\n",
    "import pandas as pd\n",
    "import numpy as np\n",
    "import matplotlib.pyplot as plt\n",
    "import matplotlib.gridspec as gridspec"
   ]
  },
  {
   "cell_type": "code",
   "execution_count": null,
   "metadata": {},
   "outputs": [],
   "source": [
    "encoding_dim=12\n",
    "input_dim=X_train.shape[1]\n",
    "inputArray=Input(shape=(input_dim,))\n",
    "encoded=Dense(encoding_dim, activation='tanh')(inputArray)\n",
    "decoded=Dense(input_dim, activation='softmax')(encoded)\n",
    "autoencoder=Model(inputArray, decoded)\n",
    "autoencoder.summary()"
   ]
  },
  {
   "cell_type": "code",
   "execution_count": null,
   "metadata": {},
   "outputs": [],
   "source": []
  }
 ],
 "metadata": {
  "kernelspec": {
   "display_name": "Python 3.9.13 ('base')",
   "language": "python",
   "name": "python3"
  },
  "language_info": {
   "codemirror_mode": {
    "name": "ipython",
    "version": 3
   },
   "file_extension": ".py",
   "mimetype": "text/x-python",
   "name": "python",
   "nbconvert_exporter": "python",
   "pygments_lexer": "ipython3",
   "version": "3.9.13"
  },
  "orig_nbformat": 4,
  "vscode": {
   "interpreter": {
    "hash": "e174d51614154d18fac51f8128f9ed965beacd1c287b362b4857ba79bef52fa8"
   }
  }
 },
 "nbformat": 4,
 "nbformat_minor": 2
}
