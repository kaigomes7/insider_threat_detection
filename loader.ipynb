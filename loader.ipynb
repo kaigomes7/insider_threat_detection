{
 "cells": [
  {
   "cell_type": "markdown",
   "metadata": {},
   "source": [
    "# Evaluation of an LSTM-AutoEncoder on the CERT Insider Threat Detection Dataset\n",
    "# Kai Gomes, Zachary Lawton"
   ]
  },
  {
   "cell_type": "code",
   "execution_count": 1,
   "metadata": {},
   "outputs": [],
   "source": [
    "import pandas as pd\n",
    "import numpy as np\n",
    "import re\n",
    "import matplotlib.pyplot as plt\n",
    "import datetime\n",
    "\n",
    "from sklearn.model_selection import train_test_split\n",
    "from sklearn import preprocessing\n",
    "from sklearn.preprocessing import StandardScaler\n",
    "from sklearn.preprocessing import MinMaxScaler\n",
    "from sklearn.model_selection import train_test_split\n",
    "from sklearn.metrics import confusion_matrix, roc_auc_score, classification_report\n",
    "from sklearn.ensemble import IsolationForest\n",
    "\n",
    "import tensorflow as tf\n",
    "from tensorflow import keras\n",
    "from tensorflow.keras import optimizers\n",
    "from tensorflow.keras.models import Sequential, Model\n",
    "from tensorflow.keras.layers import Dense, Input, LSTM, RepeatVector, TimeDistributed, Dropout\n",
    "from tensorflow.keras.optimizers import RMSprop, Adam, Nadam\n",
    "from tensorflow.keras.preprocessing import sequence\n",
    "from tensorflow.keras.callbacks import TensorBoard\n",
    "from keras.utils import plot_model\n",
    "from imblearn.under_sampling import RandomUnderSampler\n"
   ]
  },
  {
   "cell_type": "markdown",
   "metadata": {},
   "source": [
    "## Load Dataset"
   ]
  },
  {
   "cell_type": "markdown",
   "metadata": {},
   "source": [
    "Loads CERT 6.2 email dataset"
   ]
  },
  {
   "cell_type": "code",
   "execution_count": 2,
   "metadata": {},
   "outputs": [],
   "source": [
    "# df = pd.read_csv(\"C:\\\\Users\\\\kaigo\\\\Downloads\\\\r6.2\\\\r6.2\\\\email.csv\") #kai PC\n",
    "df = pd.read_csv(\"D:\\\\r6.2\\\\email.csv\") #zach pc"
   ]
  },
  {
   "cell_type": "markdown",
   "metadata": {},
   "source": [
    "Loads answers for dataset and drops unecessary columns"
   ]
  },
  {
   "cell_type": "code",
   "execution_count": 3,
   "metadata": {},
   "outputs": [],
   "source": [
    "# answers_df = pd.read_csv(\"C:\\\\Users\\\\kaigo\\\\Downloads\\\\answers\\\\answers\\\\r6.2-3.csv\", header=None) #kai pc\n",
    "answers_df = pd.read_csv(\"D:\\\\answers\\\\r6.2-3.csv\", header=None)\n",
    "answers_df = answers_df.where(answers_df[0] == 'email')\n",
    "answers_df = answers_df[answers_df[0].notna()]\n",
    "answers_df = answers_df.rename(columns={1: 'id', 2: \"date\", 3: \"user\", 4: \"pc\", 5: \"to\", 6: \"cc\", 7:\"bcc\", 8:\"from\", 9:\"activity\", 10:\"size\", 11: \"attachment\", 13: \"content\" })\n",
    "answers_df = answers_df.drop([0, 12], axis=1)"
   ]
  },
  {
   "cell_type": "markdown",
   "metadata": {},
   "source": [
    "Labels email data with malicious column"
   ]
  },
  {
   "cell_type": "code",
   "execution_count": 4,
   "metadata": {},
   "outputs": [],
   "source": [
    "malicious_ids = answers_df['user'].unique()\n",
    "df['malicious'] = [1 if x in malicious_ids else 0 for x in df['user']]"
   ]
  },
  {
   "cell_type": "markdown",
   "metadata": {},
   "source": [
    "## Undersample data"
   ]
  },
  {
   "cell_type": "code",
   "execution_count": 5,
   "metadata": {},
   "outputs": [],
   "source": [
    "num_non_mal = len(df.loc[df['malicious'] == 0])\n",
    "num_mal = len(df.loc[df['malicious'] == 1])\n",
    "percent_want_mal = 0.2\n",
    "num_non_mal_sample = num_non_mal - int(num_non_mal - (num_non_mal - (num_mal / percent_want_mal - num_mal)))\n",
    "sample = df.loc[df['malicious'] == 0].sample(n = num_non_mal_sample, random_state=42).index.tolist()\n",
    "df = df.drop(sample, axis=0)"
   ]
  },
  {
   "cell_type": "markdown",
   "metadata": {},
   "source": [
    "## Feature Extraction"
   ]
  },
  {
   "cell_type": "markdown",
   "metadata": {},
   "source": [
    "Gets number of words in message from message content"
   ]
  },
  {
   "cell_type": "code",
   "execution_count": 6,
   "metadata": {},
   "outputs": [],
   "source": [
    "df['num_words'] = [len(x.split()) for x in df['content']]"
   ]
  },
  {
   "cell_type": "markdown",
   "metadata": {},
   "source": [
    "Gets number of destinations, number of external destinations, and number of external destinations that appear in bcc"
   ]
  },
  {
   "cell_type": "code",
   "execution_count": 7,
   "metadata": {},
   "outputs": [],
   "source": [
    "df['num_dest'] = df.apply(lambda x: len(re.findall(\"(@)\", x['to'] + \";\" + (x['cc'] if not pd.isnull(x['cc']) else '') + \";\" + (x['bcc'] if not pd.isnull(x['bcc']) else ''))), axis=1)"
   ]
  },
  {
   "cell_type": "code",
   "execution_count": 8,
   "metadata": {},
   "outputs": [],
   "source": [
    "df['num_external'] = df.apply(lambda x: len(set(re.findall(\"(?<=@)[^.]+(?=.)\", x['to'] + \";\" + (x['cc'] if not pd.isnull(x['cc']) else '') + \";\" + (x['bcc'] if not pd.isnull(x['bcc']) else ''))) - set(re.findall(\"(?<=@)[^.]+(?=.)\", x['to']))), axis=1)"
   ]
  },
  {
   "cell_type": "code",
   "execution_count": 9,
   "metadata": {},
   "outputs": [],
   "source": [
    "df['num_external_bcc'] =  df.apply(lambda x: len(set(re.findall(\"(?<=@)[^.]+(?=.)\", x['to'] + \";\" + (x['bcc'] if not pd.isnull(x['bcc']) else ''))) - set(re.findall(\"(?<=@)[^.]+(?=.)\", x['to']))), axis=1)"
   ]
  },
  {
   "cell_type": "markdown",
   "metadata": {},
   "source": [
    "Gets the number of attachments, total size of all attachments, number of different file types of attachments (.pdf, .doc, etc), and number of bcc recipients"
   ]
  },
  {
   "cell_type": "code",
   "execution_count": 10,
   "metadata": {},
   "outputs": [],
   "source": [
    "df['num_attach'] = [len(x.split(\";\")) if type(x) == str else 0 for x in df['attachments']]"
   ]
  },
  {
   "cell_type": "code",
   "execution_count": 11,
   "metadata": {},
   "outputs": [],
   "source": [
    "df['attach_size'] = [sum(map(int, re.findall(\"\\(([^()]+)\\)\", x))) if type(x) == str else 0 for x in df['attachments']]"
   ]
  },
  {
   "cell_type": "code",
   "execution_count": 12,
   "metadata": {},
   "outputs": [],
   "source": [
    "df['num_attach_type'] = [len(set(re.findall(\"\\.(.*?)\\(\", x))) if type(x) == str else 0 for x in df['attachments']]"
   ]
  },
  {
   "cell_type": "code",
   "execution_count": 13,
   "metadata": {},
   "outputs": [],
   "source": [
    "df['num_bcc'] = [len(x.split(\";\")) if type(x) == str else 0 for x in df['bcc']]"
   ]
  },
  {
   "cell_type": "markdown",
   "metadata": {},
   "source": [
    "Creates a new dataframe with only the quantitative data that is able to be parsed"
   ]
  },
  {
   "cell_type": "code",
   "execution_count": 14,
   "metadata": {},
   "outputs": [],
   "source": [
    "df = df[['date', 'num_dest','num_attach','num_attach_type', 'attach_size', 'num_external', 'num_external_bcc', 'size', 'num_words', 'num_bcc']]"
   ]
  },
  {
   "cell_type": "markdown",
   "metadata": {},
   "source": [
    "## Create Model"
   ]
  },
  {
   "cell_type": "markdown",
   "metadata": {},
   "source": [
    "Create your X variable (Features) and y (malicious or not, not used in model since unsupervised)"
   ]
  },
  {
   "cell_type": "code",
   "execution_count": null,
   "metadata": {},
   "outputs": [],
   "source": [
    "y = df['malicious']\n",
    "X = df"
   ]
  },
  {
   "cell_type": "markdown",
   "metadata": {},
   "source": [
    "Scale the features so that the model is more accurate (using min-max scaler) and split into train/test data"
   ]
  },
  {
   "cell_type": "code",
   "execution_count": 17,
   "metadata": {},
   "outputs": [],
   "source": [
    "dates = pd.to_datetime(df['date']).values\n",
    "x = df.drop('date', axis=1).values\n",
    "min_max_scaler = preprocessing.MinMaxScaler()\n",
    "x_scaled = min_max_scaler.fit_transform(x)\n",
    "df = pd.DataFrame(x_scaled)\n",
    "df['date'] = dates"
   ]
  },
  {
   "cell_type": "code",
   "execution_count": 18,
   "metadata": {},
   "outputs": [
    {
     "data": {
      "text/html": [
       "<div>\n",
       "<style scoped>\n",
       "    .dataframe tbody tr th:only-of-type {\n",
       "        vertical-align: middle;\n",
       "    }\n",
       "\n",
       "    .dataframe tbody tr th {\n",
       "        vertical-align: top;\n",
       "    }\n",
       "\n",
       "    .dataframe thead th {\n",
       "        text-align: right;\n",
       "    }\n",
       "</style>\n",
       "<table border=\"1\" class=\"dataframe\">\n",
       "  <thead>\n",
       "    <tr style=\"text-align: right;\">\n",
       "      <th></th>\n",
       "      <th>0</th>\n",
       "      <th>1</th>\n",
       "      <th>2</th>\n",
       "      <th>3</th>\n",
       "      <th>4</th>\n",
       "      <th>5</th>\n",
       "      <th>6</th>\n",
       "      <th>7</th>\n",
       "      <th>8</th>\n",
       "      <th>date</th>\n",
       "    </tr>\n",
       "  </thead>\n",
       "  <tbody>\n",
       "    <tr>\n",
       "      <th>0</th>\n",
       "      <td>0.000000</td>\n",
       "      <td>0.000000</td>\n",
       "      <td>0.000000</td>\n",
       "      <td>0.000000</td>\n",
       "      <td>0.000000</td>\n",
       "      <td>0.0</td>\n",
       "      <td>0.001493</td>\n",
       "      <td>0.473988</td>\n",
       "      <td>0.0</td>\n",
       "      <td>2010-01-02 06:47:07</td>\n",
       "    </tr>\n",
       "    <tr>\n",
       "      <th>1</th>\n",
       "      <td>0.000000</td>\n",
       "      <td>0.000000</td>\n",
       "      <td>0.000000</td>\n",
       "      <td>0.000000</td>\n",
       "      <td>0.000000</td>\n",
       "      <td>0.0</td>\n",
       "      <td>0.002556</td>\n",
       "      <td>0.274566</td>\n",
       "      <td>0.0</td>\n",
       "      <td>2010-01-02 07:11:17</td>\n",
       "    </tr>\n",
       "    <tr>\n",
       "      <th>2</th>\n",
       "      <td>0.000000</td>\n",
       "      <td>0.000000</td>\n",
       "      <td>0.000000</td>\n",
       "      <td>0.000000</td>\n",
       "      <td>0.000000</td>\n",
       "      <td>0.0</td>\n",
       "      <td>0.001128</td>\n",
       "      <td>0.459538</td>\n",
       "      <td>0.0</td>\n",
       "      <td>2010-01-02 07:26:59</td>\n",
       "    </tr>\n",
       "    <tr>\n",
       "      <th>3</th>\n",
       "      <td>0.000000</td>\n",
       "      <td>0.000000</td>\n",
       "      <td>0.000000</td>\n",
       "      <td>0.000000</td>\n",
       "      <td>0.000000</td>\n",
       "      <td>0.0</td>\n",
       "      <td>0.001570</td>\n",
       "      <td>0.352601</td>\n",
       "      <td>0.0</td>\n",
       "      <td>2010-01-02 07:27:57</td>\n",
       "    </tr>\n",
       "    <tr>\n",
       "      <th>4</th>\n",
       "      <td>0.117647</td>\n",
       "      <td>0.000000</td>\n",
       "      <td>0.000000</td>\n",
       "      <td>0.000000</td>\n",
       "      <td>0.166667</td>\n",
       "      <td>0.0</td>\n",
       "      <td>0.001407</td>\n",
       "      <td>0.092486</td>\n",
       "      <td>0.0</td>\n",
       "      <td>2010-01-02 07:34:19</td>\n",
       "    </tr>\n",
       "    <tr>\n",
       "      <th>...</th>\n",
       "      <td>...</td>\n",
       "      <td>...</td>\n",
       "      <td>...</td>\n",
       "      <td>...</td>\n",
       "      <td>...</td>\n",
       "      <td>...</td>\n",
       "      <td>...</td>\n",
       "      <td>...</td>\n",
       "      <td>...</td>\n",
       "      <td>...</td>\n",
       "    </tr>\n",
       "    <tr>\n",
       "      <th>452995</th>\n",
       "      <td>0.058824</td>\n",
       "      <td>0.111111</td>\n",
       "      <td>0.166667</td>\n",
       "      <td>0.033167</td>\n",
       "      <td>0.000000</td>\n",
       "      <td>0.0</td>\n",
       "      <td>0.034230</td>\n",
       "      <td>0.179191</td>\n",
       "      <td>0.0</td>\n",
       "      <td>2011-05-31 18:43:23</td>\n",
       "    </tr>\n",
       "    <tr>\n",
       "      <th>452996</th>\n",
       "      <td>0.000000</td>\n",
       "      <td>0.000000</td>\n",
       "      <td>0.000000</td>\n",
       "      <td>0.000000</td>\n",
       "      <td>0.000000</td>\n",
       "      <td>0.0</td>\n",
       "      <td>0.001544</td>\n",
       "      <td>0.225434</td>\n",
       "      <td>0.0</td>\n",
       "      <td>2011-05-31 18:45:17</td>\n",
       "    </tr>\n",
       "    <tr>\n",
       "      <th>452997</th>\n",
       "      <td>0.176471</td>\n",
       "      <td>0.000000</td>\n",
       "      <td>0.000000</td>\n",
       "      <td>0.000000</td>\n",
       "      <td>0.000000</td>\n",
       "      <td>0.0</td>\n",
       "      <td>0.002120</td>\n",
       "      <td>0.196532</td>\n",
       "      <td>0.0</td>\n",
       "      <td>2011-05-31 18:55:24</td>\n",
       "    </tr>\n",
       "    <tr>\n",
       "      <th>452998</th>\n",
       "      <td>0.058824</td>\n",
       "      <td>0.000000</td>\n",
       "      <td>0.000000</td>\n",
       "      <td>0.000000</td>\n",
       "      <td>0.000000</td>\n",
       "      <td>0.0</td>\n",
       "      <td>0.001448</td>\n",
       "      <td>0.401734</td>\n",
       "      <td>0.0</td>\n",
       "      <td>2011-05-31 19:12:39</td>\n",
       "    </tr>\n",
       "    <tr>\n",
       "      <th>452999</th>\n",
       "      <td>0.117647</td>\n",
       "      <td>0.111111</td>\n",
       "      <td>0.166667</td>\n",
       "      <td>0.056476</td>\n",
       "      <td>0.000000</td>\n",
       "      <td>0.0</td>\n",
       "      <td>0.059302</td>\n",
       "      <td>0.245665</td>\n",
       "      <td>0.0</td>\n",
       "      <td>2011-05-31 19:51:58</td>\n",
       "    </tr>\n",
       "  </tbody>\n",
       "</table>\n",
       "<p>453000 rows × 10 columns</p>\n",
       "</div>"
      ],
      "text/plain": [
       "               0         1         2         3         4    5         6  \\\n",
       "0       0.000000  0.000000  0.000000  0.000000  0.000000  0.0  0.001493   \n",
       "1       0.000000  0.000000  0.000000  0.000000  0.000000  0.0  0.002556   \n",
       "2       0.000000  0.000000  0.000000  0.000000  0.000000  0.0  0.001128   \n",
       "3       0.000000  0.000000  0.000000  0.000000  0.000000  0.0  0.001570   \n",
       "4       0.117647  0.000000  0.000000  0.000000  0.166667  0.0  0.001407   \n",
       "...          ...       ...       ...       ...       ...  ...       ...   \n",
       "452995  0.058824  0.111111  0.166667  0.033167  0.000000  0.0  0.034230   \n",
       "452996  0.000000  0.000000  0.000000  0.000000  0.000000  0.0  0.001544   \n",
       "452997  0.176471  0.000000  0.000000  0.000000  0.000000  0.0  0.002120   \n",
       "452998  0.058824  0.000000  0.000000  0.000000  0.000000  0.0  0.001448   \n",
       "452999  0.117647  0.111111  0.166667  0.056476  0.000000  0.0  0.059302   \n",
       "\n",
       "               7    8                date  \n",
       "0       0.473988  0.0 2010-01-02 06:47:07  \n",
       "1       0.274566  0.0 2010-01-02 07:11:17  \n",
       "2       0.459538  0.0 2010-01-02 07:26:59  \n",
       "3       0.352601  0.0 2010-01-02 07:27:57  \n",
       "4       0.092486  0.0 2010-01-02 07:34:19  \n",
       "...          ...  ...                 ...  \n",
       "452995  0.179191  0.0 2011-05-31 18:43:23  \n",
       "452996  0.225434  0.0 2011-05-31 18:45:17  \n",
       "452997  0.196532  0.0 2011-05-31 18:55:24  \n",
       "452998  0.401734  0.0 2011-05-31 19:12:39  \n",
       "452999  0.245665  0.0 2011-05-31 19:51:58  \n",
       "\n",
       "[453000 rows x 10 columns]"
      ]
     },
     "execution_count": 18,
     "metadata": {},
     "output_type": "execute_result"
    }
   ],
   "source": [
    "df"
   ]
  },
  {
   "cell_type": "markdown",
   "metadata": {},
   "source": [
    "Undersample"
   ]
  },
  {
   "cell_type": "code",
   "execution_count": null,
   "metadata": {},
   "outputs": [],
   "source": [
    "X_train, X_test, y_train, y_test = train_test_split(df, y, test_size=0.33, random_state=42)"
   ]
  },
  {
   "cell_type": "markdown",
   "metadata": {},
   "source": [
    "### Very Simple AutoEncoder"
   ]
  },
  {
   "cell_type": "code",
   "execution_count": null,
   "metadata": {},
   "outputs": [
    {
     "ename": "TypeError",
     "evalue": "Dimension value must be integer or None or have an __index__ method, got value ''date'' with type '<class 'str'>'",
     "output_type": "error",
     "traceback": [
      "\u001b[1;31m---------------------------------------------------------------------------\u001b[0m",
      "\u001b[1;31mTypeError\u001b[0m                                 Traceback (most recent call last)",
      "Cell \u001b[1;32mIn[274], line 9\u001b[0m\n\u001b[0;32m      6\u001b[0m decoder \u001b[39m=\u001b[39m Dense(input_dim, activation\u001b[39m=\u001b[39m\u001b[39m\"\u001b[39m\u001b[39mlinear\u001b[39m\u001b[39m\"\u001b[39m, use_bias \u001b[39m=\u001b[39m \u001b[39mTrue\u001b[39;00m)\n\u001b[0;32m      8\u001b[0m autoencoder \u001b[39m=\u001b[39m Sequential()\n\u001b[1;32m----> 9\u001b[0m autoencoder\u001b[39m.\u001b[39;49madd(encoder)\n\u001b[0;32m     10\u001b[0m autoencoder\u001b[39m.\u001b[39madd(decoder)\n\u001b[0;32m     12\u001b[0m autoencoder\u001b[39m.\u001b[39mcompile(metrics\u001b[39m=\u001b[39m[\u001b[39m'\u001b[39m\u001b[39maccuracy\u001b[39m\u001b[39m'\u001b[39m],loss\u001b[39m=\u001b[39m\u001b[39m'\u001b[39m\u001b[39mmean_squared_error\u001b[39m\u001b[39m'\u001b[39m, optimizer\u001b[39m=\u001b[39m\u001b[39m'\u001b[39m\u001b[39msgd\u001b[39m\u001b[39m'\u001b[39m)\n",
      "File \u001b[1;32m~\\AppData\\Local\\Packages\\PythonSoftwareFoundation.Python.3.10_qbz5n2kfra8p0\\LocalCache\\local-packages\\Python310\\site-packages\\tensorflow\\python\\trackable\\base.py:205\u001b[0m, in \u001b[0;36mno_automatic_dependency_tracking.<locals>._method_wrapper\u001b[1;34m(self, *args, **kwargs)\u001b[0m\n\u001b[0;32m    203\u001b[0m \u001b[39mself\u001b[39m\u001b[39m.\u001b[39m_self_setattr_tracking \u001b[39m=\u001b[39m \u001b[39mFalse\u001b[39;00m  \u001b[39m# pylint: disable=protected-access\u001b[39;00m\n\u001b[0;32m    204\u001b[0m \u001b[39mtry\u001b[39;00m:\n\u001b[1;32m--> 205\u001b[0m   result \u001b[39m=\u001b[39m method(\u001b[39mself\u001b[39m, \u001b[39m*\u001b[39margs, \u001b[39m*\u001b[39m\u001b[39m*\u001b[39mkwargs)\n\u001b[0;32m    206\u001b[0m \u001b[39mfinally\u001b[39;00m:\n\u001b[0;32m    207\u001b[0m   \u001b[39mself\u001b[39m\u001b[39m.\u001b[39m_self_setattr_tracking \u001b[39m=\u001b[39m previous_value  \u001b[39m# pylint: disable=protected-access\u001b[39;00m\n",
      "File \u001b[1;32m~\\AppData\\Local\\Packages\\PythonSoftwareFoundation.Python.3.10_qbz5n2kfra8p0\\LocalCache\\local-packages\\Python310\\site-packages\\keras\\utils\\traceback_utils.py:70\u001b[0m, in \u001b[0;36mfilter_traceback.<locals>.error_handler\u001b[1;34m(*args, **kwargs)\u001b[0m\n\u001b[0;32m     67\u001b[0m     filtered_tb \u001b[39m=\u001b[39m _process_traceback_frames(e\u001b[39m.\u001b[39m__traceback__)\n\u001b[0;32m     68\u001b[0m     \u001b[39m# To get the full stack trace, call:\u001b[39;00m\n\u001b[0;32m     69\u001b[0m     \u001b[39m# `tf.debugging.disable_traceback_filtering()`\u001b[39;00m\n\u001b[1;32m---> 70\u001b[0m     \u001b[39mraise\u001b[39;00m e\u001b[39m.\u001b[39mwith_traceback(filtered_tb) \u001b[39mfrom\u001b[39;00m \u001b[39mNone\u001b[39m\n\u001b[0;32m     71\u001b[0m \u001b[39mfinally\u001b[39;00m:\n\u001b[0;32m     72\u001b[0m     \u001b[39mdel\u001b[39;00m filtered_tb\n",
      "File \u001b[1;32m~\\AppData\\Local\\Packages\\PythonSoftwareFoundation.Python.3.10_qbz5n2kfra8p0\\LocalCache\\local-packages\\Python310\\site-packages\\tensorflow\\python\\framework\\tensor_shape.py:214\u001b[0m, in \u001b[0;36mDimension.__init__\u001b[1;34m(self, value)\u001b[0m\n\u001b[0;32m    212\u001b[0m   \u001b[39mself\u001b[39m\u001b[39m.\u001b[39m_value \u001b[39m=\u001b[39m \u001b[39mint\u001b[39m(value\u001b[39m.\u001b[39m\u001b[39m__index__\u001b[39m())\n\u001b[0;32m    213\u001b[0m \u001b[39mexcept\u001b[39;00m \u001b[39mAttributeError\u001b[39;00m:\n\u001b[1;32m--> 214\u001b[0m   \u001b[39mraise\u001b[39;00m \u001b[39mTypeError\u001b[39;00m(\n\u001b[0;32m    215\u001b[0m       \u001b[39m\"\u001b[39m\u001b[39mDimension value must be integer or None or have \u001b[39m\u001b[39m\"\u001b[39m\n\u001b[0;32m    216\u001b[0m       \u001b[39m\"\u001b[39m\u001b[39man __index__ method, got value \u001b[39m\u001b[39m'\u001b[39m\u001b[39m{0!r}\u001b[39;00m\u001b[39m'\u001b[39m\u001b[39m with type \u001b[39m\u001b[39m'\u001b[39m\u001b[39m{1!r}\u001b[39;00m\u001b[39m'\u001b[39m\u001b[39m\"\u001b[39m\u001b[39m.\u001b[39mformat(\n\u001b[0;32m    217\u001b[0m           value, \u001b[39mtype\u001b[39m(value))) \u001b[39mfrom\u001b[39;00m \u001b[39mNone\u001b[39m\n\u001b[0;32m    218\u001b[0m \u001b[39mif\u001b[39;00m \u001b[39mself\u001b[39m\u001b[39m.\u001b[39m_value \u001b[39m<\u001b[39m \u001b[39m0\u001b[39m:\n\u001b[0;32m    219\u001b[0m   \u001b[39mraise\u001b[39;00m \u001b[39mValueError\u001b[39;00m(\u001b[39m\"\u001b[39m\u001b[39mDimension \u001b[39m\u001b[39m%d\u001b[39;00m\u001b[39m must be >= 0\u001b[39m\u001b[39m\"\u001b[39m \u001b[39m%\u001b[39m \u001b[39mself\u001b[39m\u001b[39m.\u001b[39m_value)\n",
      "\u001b[1;31mTypeError\u001b[0m: Dimension value must be integer or None or have an __index__ method, got value ''date'' with type '<class 'str'>'"
     ]
    }
   ],
   "source": [
    "# Fit Autoencoder\n",
    "input_dim = X_train.shape[1] #num of predictor variables, \n",
    "encoding_dim = 2\n",
    "\n",
    "encoder = Dense(encoding_dim, activation=\"linear\", input_shape=('date',), use_bias = True) \n",
    "decoder = Dense(input_dim, activation=\"linear\", use_bias = True)\n",
    "\n",
    "autoencoder = Sequential()\n",
    "autoencoder.add(encoder)\n",
    "autoencoder.add(decoder)\n",
    "\n",
    "autoencoder.compile(metrics=['accuracy'],loss='mean_squared_error', optimizer='sgd')\n",
    "autoencoder.summary()\n",
    "\n",
    "autoencoder.fit(X_train, X_train, epochs=50, batch_size=1000, validation_data=(X_test, X_test))"
   ]
  },
  {
   "cell_type": "markdown",
   "metadata": {},
   "source": [
    "### AutoEncoder with LSTM"
   ]
  },
  {
   "cell_type": "code",
   "execution_count": null,
   "metadata": {},
   "outputs": [
    {
     "name": "stdout",
     "output_type": "stream",
     "text": [
      "Model: \"sequential_50\"\n",
      "_________________________________________________________________\n",
      " Layer (type)                Output Shape              Param #   \n",
      "=================================================================\n",
      " lstm_80 (LSTM)              (None, 50)                10400     \n",
      "                                                                 \n",
      " repeat_vector_38 (RepeatVec  (None, 9, 50)            0         \n",
      " tor)                                                            \n",
      "                                                                 \n",
      " lstm_81 (LSTM)              (None, 9, 50)             20200     \n",
      "                                                                 \n",
      " time_distributed_26 (TimeDi  (None, 9, 1)             51        \n",
      " stributed)                                                      \n",
      "                                                                 \n",
      "=================================================================\n",
      "Total params: 30,651\n",
      "Trainable params: 30,651\n",
      "Non-trainable params: 0\n",
      "_________________________________________________________________\n",
      "Epoch 1/30\n",
      "31/31 [==============================] - 7s 191ms/step - loss: 0.0140 - val_loss: 0.0129\n",
      "Epoch 2/30\n",
      "31/31 [==============================] - 6s 180ms/step - loss: 0.0121 - val_loss: 0.0117\n",
      "Epoch 3/30\n",
      "31/31 [==============================] - 6s 191ms/step - loss: 0.0115 - val_loss: 0.0114\n",
      "Epoch 4/30\n",
      "31/31 [==============================] - 6s 186ms/step - loss: 0.0110 - val_loss: 0.0106\n",
      "Epoch 5/30\n",
      "31/31 [==============================] - 6s 186ms/step - loss: 0.0100 - val_loss: 0.0094\n",
      "Epoch 6/30\n",
      "31/31 [==============================] - 6s 187ms/step - loss: 0.0090 - val_loss: 0.0085\n",
      "Epoch 7/30\n",
      "31/31 [==============================] - 6s 192ms/step - loss: 0.0080 - val_loss: 0.0074\n",
      "Epoch 8/30\n",
      "31/31 [==============================] - 6s 191ms/step - loss: 0.0068 - val_loss: 0.0067\n",
      "Epoch 9/30\n",
      "31/31 [==============================] - 6s 181ms/step - loss: 0.0056 - val_loss: 0.0050\n",
      "Epoch 10/30\n",
      "31/31 [==============================] - 6s 180ms/step - loss: 0.0043 - val_loss: 0.0040\n",
      "Epoch 11/30\n",
      "31/31 [==============================] - 6s 178ms/step - loss: 0.0038 - val_loss: 0.0037\n",
      "Epoch 12/30\n",
      "31/31 [==============================] - 6s 180ms/step - loss: 0.0037 - val_loss: 0.0043\n",
      "Epoch 13/30\n",
      "31/31 [==============================] - 5s 177ms/step - loss: 0.0035 - val_loss: 0.0033\n",
      "Epoch 14/30\n",
      "31/31 [==============================] - 6s 190ms/step - loss: 0.0037 - val_loss: 0.0033\n",
      "Epoch 15/30\n",
      "31/31 [==============================] - 6s 180ms/step - loss: 0.0030 - val_loss: 0.0029\n",
      "Epoch 16/30\n",
      "31/31 [==============================] - 6s 179ms/step - loss: 0.0030 - val_loss: 0.0028\n",
      "Epoch 17/30\n",
      "31/31 [==============================] - 6s 179ms/step - loss: 0.0027 - val_loss: 0.0027\n",
      "Epoch 18/30\n",
      "31/31 [==============================] - 6s 179ms/step - loss: 0.0026 - val_loss: 0.0026\n",
      "Epoch 19/30\n",
      "31/31 [==============================] - 6s 179ms/step - loss: 0.0026 - val_loss: 0.0026\n",
      "Epoch 20/30\n",
      "31/31 [==============================] - 6s 188ms/step - loss: 0.0025 - val_loss: 0.0025\n",
      "Epoch 21/30\n",
      "31/31 [==============================] - 6s 189ms/step - loss: 0.0025 - val_loss: 0.0024\n",
      "Epoch 22/30\n",
      "31/31 [==============================] - 6s 187ms/step - loss: 0.0023 - val_loss: 0.0023\n",
      "Epoch 23/30\n",
      "31/31 [==============================] - 6s 185ms/step - loss: 0.0023 - val_loss: 0.0022\n",
      "Epoch 24/30\n",
      "31/31 [==============================] - 6s 184ms/step - loss: 0.0022 - val_loss: 0.0022\n",
      "Epoch 25/30\n",
      "31/31 [==============================] - 6s 184ms/step - loss: 0.0021 - val_loss: 0.0021\n",
      "Epoch 26/30\n",
      "31/31 [==============================] - 6s 183ms/step - loss: 0.0021 - val_loss: 0.0020\n",
      "Epoch 27/30\n",
      "31/31 [==============================] - 6s 183ms/step - loss: 0.0020 - val_loss: 0.0020\n",
      "Epoch 28/30\n",
      "31/31 [==============================] - 6s 183ms/step - loss: 0.0019 - val_loss: 0.0019\n",
      "Epoch 29/30\n",
      "31/31 [==============================] - 6s 183ms/step - loss: 0.0019 - val_loss: 0.0018\n",
      "Epoch 30/30\n",
      "31/31 [==============================] - 6s 185ms/step - loss: 0.0018 - val_loss: 0.0018\n"
     ]
    },
    {
     "ename": "ValueError",
     "evalue": "Classification metrics can't handle a mix of binary and unknown targets",
     "output_type": "error",
     "traceback": [
      "\u001b[1;31m---------------------------------------------------------------------------\u001b[0m",
      "\u001b[1;31mValueError\u001b[0m                                Traceback (most recent call last)",
      "Cell \u001b[1;32mIn[275], line 16\u001b[0m\n\u001b[0;32m     14\u001b[0m \u001b[39m# demonstrate recreation\u001b[39;00m\n\u001b[0;32m     15\u001b[0m yhat \u001b[39m=\u001b[39m model\u001b[39m.\u001b[39mpredict(X_test, verbose\u001b[39m=\u001b[39m\u001b[39m0\u001b[39m)\n\u001b[1;32m---> 16\u001b[0m cfm \u001b[39m=\u001b[39m confusion_matrix(y_test, yhat)\n\u001b[0;32m     17\u001b[0m \u001b[39mprint\u001b[39m(cfm)\n",
      "File \u001b[1;32m~\\AppData\\Local\\Packages\\PythonSoftwareFoundation.Python.3.10_qbz5n2kfra8p0\\LocalCache\\local-packages\\Python310\\site-packages\\sklearn\\metrics\\_classification.py:307\u001b[0m, in \u001b[0;36mconfusion_matrix\u001b[1;34m(y_true, y_pred, labels, sample_weight, normalize)\u001b[0m\n\u001b[0;32m    222\u001b[0m \u001b[39mdef\u001b[39;00m \u001b[39mconfusion_matrix\u001b[39m(\n\u001b[0;32m    223\u001b[0m     y_true, y_pred, \u001b[39m*\u001b[39m, labels\u001b[39m=\u001b[39m\u001b[39mNone\u001b[39;00m, sample_weight\u001b[39m=\u001b[39m\u001b[39mNone\u001b[39;00m, normalize\u001b[39m=\u001b[39m\u001b[39mNone\u001b[39;00m\n\u001b[0;32m    224\u001b[0m ):\n\u001b[0;32m    225\u001b[0m     \u001b[39m\"\"\"Compute confusion matrix to evaluate the accuracy of a classification.\u001b[39;00m\n\u001b[0;32m    226\u001b[0m \n\u001b[0;32m    227\u001b[0m \u001b[39m    By definition a confusion matrix :math:`C` is such that :math:`C_{i, j}`\u001b[39;00m\n\u001b[1;32m   (...)\u001b[0m\n\u001b[0;32m    305\u001b[0m \u001b[39m    (0, 2, 1, 1)\u001b[39;00m\n\u001b[0;32m    306\u001b[0m \u001b[39m    \"\"\"\u001b[39;00m\n\u001b[1;32m--> 307\u001b[0m     y_type, y_true, y_pred \u001b[39m=\u001b[39m _check_targets(y_true, y_pred)\n\u001b[0;32m    308\u001b[0m     \u001b[39mif\u001b[39;00m y_type \u001b[39mnot\u001b[39;00m \u001b[39min\u001b[39;00m (\u001b[39m\"\u001b[39m\u001b[39mbinary\u001b[39m\u001b[39m\"\u001b[39m, \u001b[39m\"\u001b[39m\u001b[39mmulticlass\u001b[39m\u001b[39m\"\u001b[39m):\n\u001b[0;32m    309\u001b[0m         \u001b[39mraise\u001b[39;00m \u001b[39mValueError\u001b[39;00m(\u001b[39m\"\u001b[39m\u001b[39m%s\u001b[39;00m\u001b[39m is not supported\u001b[39m\u001b[39m\"\u001b[39m \u001b[39m%\u001b[39m y_type)\n",
      "File \u001b[1;32m~\\AppData\\Local\\Packages\\PythonSoftwareFoundation.Python.3.10_qbz5n2kfra8p0\\LocalCache\\local-packages\\Python310\\site-packages\\sklearn\\metrics\\_classification.py:93\u001b[0m, in \u001b[0;36m_check_targets\u001b[1;34m(y_true, y_pred)\u001b[0m\n\u001b[0;32m     90\u001b[0m     y_type \u001b[39m=\u001b[39m {\u001b[39m\"\u001b[39m\u001b[39mmulticlass\u001b[39m\u001b[39m\"\u001b[39m}\n\u001b[0;32m     92\u001b[0m \u001b[39mif\u001b[39;00m \u001b[39mlen\u001b[39m(y_type) \u001b[39m>\u001b[39m \u001b[39m1\u001b[39m:\n\u001b[1;32m---> 93\u001b[0m     \u001b[39mraise\u001b[39;00m \u001b[39mValueError\u001b[39;00m(\n\u001b[0;32m     94\u001b[0m         \u001b[39m\"\u001b[39m\u001b[39mClassification metrics can\u001b[39m\u001b[39m'\u001b[39m\u001b[39mt handle a mix of \u001b[39m\u001b[39m{0}\u001b[39;00m\u001b[39m and \u001b[39m\u001b[39m{1}\u001b[39;00m\u001b[39m targets\u001b[39m\u001b[39m\"\u001b[39m\u001b[39m.\u001b[39mformat(\n\u001b[0;32m     95\u001b[0m             type_true, type_pred\n\u001b[0;32m     96\u001b[0m         )\n\u001b[0;32m     97\u001b[0m     )\n\u001b[0;32m     99\u001b[0m \u001b[39m# We can't have more than one value on y_type => The set is no more needed\u001b[39;00m\n\u001b[0;32m    100\u001b[0m y_type \u001b[39m=\u001b[39m y_type\u001b[39m.\u001b[39mpop()\n",
      "\u001b[1;31mValueError\u001b[0m: Classification metrics can't handle a mix of binary and unknown targets"
     ]
    },
    {
     "data": {
      "image/png": "[encoded data removed]",
      "text/plain": [
       "<Figure size 640x480 with 1 Axes>"
      ]
     },
     "metadata": {},
     "output_type": "display_data"
    }
   ],
   "source": [
    "# define model\n",
    "model = Sequential()\n",
    "model.add(LSTM(50, activation='relu', input_shape=(input_dim,1)))\n",
    "model.add(RepeatVector(input_dim))\n",
    "model.add(LSTM(50, activation='relu', return_sequences=True))\n",
    "model.add(TimeDistributed(Dense(1)))\n",
    "model.compile(optimizer='adam', loss='mse')\n",
    "model.summary()\n",
    "# fit model\n",
    "history = model.fit(X_train, X_train, epochs=30, batch_size=10000, validation_data=(X_test, X_test))\n",
    "# plot_model(model, show_shapes=True)\n",
    "plt.plot(history.history['loss'])\n",
    "plt.plot(history.history['val_loss'])\n",
    "# demonstrate recreation\n",
    "yhat = model.predict(X_test, verbose=0)\n",
    "cfm = confusion_matrix(y_test, yhat)\n",
    "print(cfm)"
   ]
  },
  {
   "cell_type": "code",
   "execution_count": null,
   "metadata": {},
   "outputs": [
    {
     "name": "stdout",
     "output_type": "stream",
     "text": [
      "29799\n"
     ]
    },
    {
     "data": {
      "text/plain": [
       "149490"
      ]
     },
     "execution_count": 328,
     "metadata": {},
     "output_type": "execute_result"
    }
   ],
   "source": [
    "print(y_test.to_numpy().sum())\n",
    "len(y_test)\n"
   ]
  },
  {
   "cell_type": "code",
   "execution_count": null,
   "metadata": {},
   "outputs": [
    {
     "data": {
      "text/plain": [
       "array([[0.        , 0.        , 0.        , ..., 0.00267554, 0.17630058,\n",
       "        0.        ],\n",
       "       [0.11764706, 0.44444444, 0.33333333, ..., 0.42305504, 0.05780347,\n",
       "        0.        ],\n",
       "       [0.11764706, 0.        , 0.        , ..., 0.00167797, 0.50289017,\n",
       "        0.        ],\n",
       "       ...,\n",
       "       [0.17647059, 0.        , 0.        , ..., 0.00086232, 0.4132948 ,\n",
       "        0.        ],\n",
       "       [0.        , 0.        , 0.        , ..., 0.00121877, 0.08381503,\n",
       "        0.        ],\n",
       "       [0.        , 0.33333333, 0.33333333, ..., 0.23133794, 0.23699422,\n",
       "        0.        ]])"
      ]
     },
     "execution_count": 359,
     "metadata": {},
     "output_type": "execute_result"
    }
   ],
   "source": [
    "X_test.to_numpy()"
   ]
  },
  {
   "cell_type": "code",
   "execution_count": null,
   "metadata": {},
   "outputs": [
    {
     "data": {
      "image/png": "[encoded data removed]",
      "text/plain": [
       "<Figure size 640x480 with 1 Axes>"
      ]
     },
     "metadata": {},
     "output_type": "display_data"
    }
   ],
   "source": [
    "# print(len(X_test[6]), len(yhat))\n",
    "# print(yhat[6], X_test.iloc[6])\n",
    "# plt.scatter(X_test[6], [x[6] for x in yhat])\n",
    "X_test[6].to_numpy()\n",
    "diff = [abs(sum(x) - sum(y))[0] for x, y in zip(X_test.to_numpy(), yhat)]\n",
    "# for val in diff:\n",
    "#     if val > 0.4\n",
    "# diff = [X_test.loc[6], yhat]\n",
    "# diff\n",
    "# new_df = pd.DataFrame(columns=[X_test[6], yhat])\n",
    "# print(abs(diff[0] - diff[1][6]))\n",
    "# print([abs(x - y[6]) for x, y in diff])\n",
    "plot = plt.hist(diff, bins='auto')"
   ]
  },
  {
   "cell_type": "code",
   "execution_count": null,
   "metadata": {},
   "outputs": [
    {
     "data": {
      "text/plain": [
       "[Text(0, 0, '119687'), Text(0, 0, '29762')]"
      ]
     },
     "execution_count": 368,
     "metadata": {},
     "output_type": "execute_result"
    },
    {
     "data": {
      "image/png": "[encoded data removed]",
      "text/plain": [
       "<Figure size 640x480 with 1 Axes>"
      ]
     },
     "metadata": {},
     "output_type": "display_data"
    }
   ],
   "source": [
    "counts, edges, bars = plt.hist(diff, bins=[0, 0.105, 0.4])\n",
    "plt.bar_label(bars)"
   ]
  },
  {
   "cell_type": "code",
   "execution_count": null,
   "metadata": {},
   "outputs": [
    {
     "data": {
      "text/plain": [
       "array([3.65194865e-07, 7.14640482e-04, 1.42891577e-03, 2.14319094e-03,\n",
       "       2.85746623e-03, 3.57174152e-03, 4.28601680e-03, 5.00029232e-03,\n",
       "       5.71456738e-03, 6.42884290e-03, 7.14311795e-03, 7.85739347e-03,\n",
       "       8.57166853e-03, 9.28594358e-03, 1.00002186e-02, 1.07144946e-02,\n",
       "       1.14287697e-02, 1.21430447e-02, 1.28573198e-02, 1.35715958e-02,\n",
       "       1.42858708e-02, 1.50001459e-02, 1.57144219e-02, 1.64286960e-02,\n",
       "       1.71429720e-02, 1.78572480e-02, 1.85715221e-02, 1.92857981e-02,\n",
       "       2.00000722e-02, 2.07143482e-02, 2.14286242e-02, 2.21428983e-02,\n",
       "       2.28571743e-02, 2.35714484e-02, 2.42857244e-02, 2.50000004e-02,\n",
       "       2.57142745e-02, 2.64285505e-02, 2.71428265e-02, 2.78571006e-02,\n",
       "       2.85713766e-02, 2.92856507e-02, 2.99999267e-02, 3.07142027e-02,\n",
       "       3.14284787e-02, 3.21427509e-02, 3.28570269e-02, 3.35713029e-02,\n",
       "       3.42855789e-02, 3.49998549e-02, 3.57141271e-02, 3.64284031e-02,\n",
       "       3.71426791e-02, 3.78569551e-02, 3.85712311e-02, 3.92855071e-02,\n",
       "       3.99997793e-02, 4.07140553e-02, 4.14283313e-02, 4.21426073e-02,\n",
       "       4.28568833e-02, 4.35711555e-02, 4.42854315e-02, 4.49997075e-02,\n",
       "       4.57139835e-02, 4.64282595e-02, 4.71425317e-02, 4.78568077e-02,\n",
       "       4.85710837e-02, 4.92853597e-02, 4.99996357e-02, 5.07139079e-02,\n",
       "       5.14281839e-02, 5.21424599e-02, 5.28567359e-02, 5.35710119e-02,\n",
       "       5.42852879e-02, 5.49995601e-02, 5.57138361e-02, 5.64281121e-02,\n",
       "       5.71423881e-02, 5.78566641e-02, 5.85709363e-02, 5.92852123e-02,\n",
       "       5.99994883e-02, 6.07137643e-02, 6.14280403e-02, 6.21423125e-02,\n",
       "       6.28565922e-02, 6.35708645e-02, 6.42851368e-02, 6.49994165e-02,\n",
       "       6.57136887e-02, 6.64279684e-02, 6.71422407e-02, 6.78565130e-02,\n",
       "       6.85707927e-02, 6.92850649e-02, 6.99993446e-02, 7.07136169e-02,\n",
       "       7.14278892e-02, 7.21421689e-02, 7.28564411e-02, 7.35707209e-02,\n",
       "       7.42849931e-02, 7.49992654e-02, 7.57135451e-02, 7.64278173e-02,\n",
       "       7.71420971e-02, 7.78563693e-02, 7.85706490e-02, 7.92849213e-02,\n",
       "       7.99991935e-02, 8.07134733e-02, 8.14277455e-02, 8.21420252e-02,\n",
       "       8.28562975e-02, 8.35705698e-02, 8.42848495e-02, 8.49991217e-02,\n",
       "       8.57134014e-02, 8.64276737e-02, 8.71419460e-02, 8.78562257e-02,\n",
       "       8.85704979e-02, 8.92847776e-02, 8.99990499e-02, 9.07133222e-02,\n",
       "       9.14276019e-02, 9.21418741e-02, 9.28561538e-02, 9.35704261e-02,\n",
       "       9.42846984e-02, 9.49989781e-02, 9.57132503e-02, 9.64275301e-02,\n",
       "       9.71418023e-02, 9.78560746e-02, 9.85703543e-02, 9.92846265e-02,\n",
       "       9.99989063e-02, 1.00713179e-01, 1.01427451e-01, 1.02141730e-01,\n",
       "       1.02856003e-01, 1.03570282e-01, 1.04284555e-01, 1.04998827e-01,\n",
       "       1.05713107e-01, 1.06427379e-01, 1.07141659e-01, 1.07855931e-01,\n",
       "       1.08570211e-01, 1.09284483e-01, 1.09998755e-01, 1.10713035e-01,\n",
       "       1.11427307e-01, 1.12141587e-01, 1.12855859e-01, 1.13570131e-01,\n",
       "       1.14284411e-01, 1.14998683e-01, 1.15712963e-01, 1.16427235e-01,\n",
       "       1.17141508e-01, 1.17855787e-01, 1.18570060e-01, 1.19284339e-01,\n",
       "       1.19998612e-01, 1.20712884e-01, 1.21427163e-01, 1.22141436e-01,\n",
       "       1.22855715e-01, 1.23569988e-01, 1.24284260e-01, 1.24998540e-01,\n",
       "       1.25712812e-01, 1.26427084e-01, 1.27141371e-01, 1.27855644e-01,\n",
       "       1.28569916e-01, 1.29284188e-01, 1.29998460e-01, 1.30712748e-01,\n",
       "       1.31427020e-01, 1.32141292e-01, 1.32855564e-01, 1.33569837e-01,\n",
       "       1.34284124e-01, 1.34998396e-01, 1.35712668e-01, 1.36426941e-01,\n",
       "       1.37141213e-01, 1.37855500e-01, 1.38569772e-01, 1.39284045e-01,\n",
       "       1.39998317e-01, 1.40712589e-01, 1.41426876e-01, 1.42141148e-01,\n",
       "       1.42855421e-01, 1.43569693e-01, 1.44283965e-01, 1.44998252e-01,\n",
       "       1.45712525e-01, 1.46426797e-01, 1.47141069e-01, 1.47855341e-01,\n",
       "       1.48569629e-01, 1.49283901e-01, 1.49998173e-01, 1.50712445e-01,\n",
       "       1.51426718e-01, 1.52141005e-01, 1.52855277e-01, 1.53569549e-01,\n",
       "       1.54283822e-01, 1.54998094e-01, 1.55712381e-01, 1.56426653e-01,\n",
       "       1.57140926e-01, 1.57855198e-01, 1.58569470e-01, 1.59283757e-01,\n",
       "       1.59998029e-01, 1.60712302e-01, 1.61426574e-01, 1.62140846e-01,\n",
       "       1.62855133e-01, 1.63569406e-01, 1.64283678e-01, 1.64997950e-01,\n",
       "       1.65712222e-01, 1.66426510e-01, 1.67140782e-01, 1.67855054e-01,\n",
       "       1.68569326e-01, 1.69283599e-01, 1.69997886e-01, 1.70712158e-01,\n",
       "       1.71426430e-01, 1.72140703e-01, 1.72854975e-01, 1.73569262e-01,\n",
       "       1.74283534e-01, 1.74997807e-01, 1.75712079e-01, 1.76426351e-01,\n",
       "       1.77140638e-01, 1.77854910e-01, 1.78569183e-01, 1.79283455e-01,\n",
       "       1.79997727e-01, 1.80712014e-01, 1.81426287e-01, 1.82140559e-01,\n",
       "       1.82854831e-01, 1.83569103e-01, 1.84283391e-01, 1.84997663e-01,\n",
       "       1.85711935e-01, 1.86426207e-01, 1.87140495e-01, 1.87854767e-01,\n",
       "       1.88569039e-01, 1.89283311e-01, 1.89997584e-01, 1.90711871e-01,\n",
       "       1.91426143e-01, 1.92140415e-01, 1.92854688e-01, 1.93568960e-01,\n",
       "       1.94283247e-01, 1.94997519e-01, 1.95711792e-01, 1.96426064e-01,\n",
       "       1.97140336e-01, 1.97854623e-01, 1.98568895e-01, 1.99283168e-01,\n",
       "       1.99997440e-01, 2.00711712e-01, 2.01425999e-01, 2.02140272e-01,\n",
       "       2.02854544e-01, 2.03568816e-01, 2.04283088e-01, 2.04997376e-01,\n",
       "       2.05711648e-01, 2.06425920e-01, 2.07140192e-01, 2.07854465e-01,\n",
       "       2.08568752e-01, 2.09283024e-01, 2.09997296e-01, 2.10711569e-01,\n",
       "       2.11425841e-01, 2.12140128e-01, 2.12854400e-01, 2.13568673e-01,\n",
       "       2.14282945e-01, 2.14997217e-01, 2.15711504e-01, 2.16425776e-01,\n",
       "       2.17140049e-01, 2.17854321e-01, 2.18568593e-01, 2.19282880e-01,\n",
       "       2.19997153e-01, 2.20711425e-01, 2.21425697e-01, 2.22139969e-01,\n",
       "       2.22854257e-01, 2.23568529e-01, 2.24282801e-01, 2.24997073e-01,\n",
       "       2.25711346e-01, 2.26425633e-01, 2.27139905e-01, 2.27854177e-01,\n",
       "       2.28568450e-01, 2.29282722e-01, 2.29997009e-01, 2.30711281e-01,\n",
       "       2.31425554e-01, 2.32139826e-01, 2.32854098e-01, 2.33568385e-01,\n",
       "       2.34282658e-01, 2.34996930e-01, 2.35711202e-01, 2.36425474e-01,\n",
       "       2.37139761e-01, 2.37854034e-01, 2.38568306e-01, 2.39282578e-01,\n",
       "       2.39996850e-01, 2.40711138e-01, 2.41425410e-01, 2.42139682e-01,\n",
       "       2.42853954e-01, 2.43568227e-01, 2.44282514e-01, 2.44996786e-01,\n",
       "       2.45711058e-01, 2.46425331e-01, 2.47139603e-01, 2.47853890e-01,\n",
       "       2.48568162e-01, 2.49282435e-01, 2.49996707e-01, 2.50710994e-01,\n",
       "       2.51425266e-01, 2.52139539e-01, 2.52853811e-01, 2.53568083e-01,\n",
       "       2.54282355e-01, 2.54996628e-01, 2.55710900e-01, 2.56425202e-01,\n",
       "       2.57139474e-01, 2.57853746e-01, 2.58568019e-01, 2.59282291e-01,\n",
       "       2.59996563e-01, 2.60710835e-01, 2.61425108e-01, 2.62139380e-01,\n",
       "       2.62853652e-01, 2.63567954e-01, 2.64282227e-01, 2.64996499e-01,\n",
       "       2.65710771e-01, 2.66425043e-01, 2.67139316e-01, 2.67853588e-01,\n",
       "       2.68567860e-01, 2.69282132e-01, 2.69996405e-01, 2.70710707e-01,\n",
       "       2.71424979e-01, 2.72139251e-01, 2.72853523e-01, 2.73567796e-01,\n",
       "       2.74282068e-01, 2.74996340e-01, 2.75710613e-01, 2.76424885e-01,\n",
       "       2.77139157e-01, 2.77853459e-01, 2.78567731e-01, 2.79282004e-01,\n",
       "       2.79996276e-01, 2.80710548e-01, 2.81424820e-01, 2.82139093e-01,\n",
       "       2.82853365e-01, 2.83567637e-01, 2.84281939e-01, 2.84996212e-01,\n",
       "       2.85710484e-01, 2.86424756e-01, 2.87139028e-01, 2.87853301e-01,\n",
       "       2.88567573e-01, 2.89281845e-01, 2.89996117e-01, 2.90710390e-01,\n",
       "       2.91424692e-01, 2.92138964e-01, 2.92853236e-01, 2.93567508e-01,\n",
       "       2.94281781e-01, 2.94996053e-01, 2.95710325e-01, 2.96424598e-01,\n",
       "       2.97138870e-01, 2.97853142e-01, 2.98567444e-01, 2.99281716e-01,\n",
       "       2.99995989e-01, 3.00710261e-01, 3.01424533e-01, 3.02138805e-01,\n",
       "       3.02853078e-01, 3.03567350e-01, 3.04281622e-01, 3.04995894e-01,\n",
       "       3.05710196e-01, 3.06424469e-01, 3.07138741e-01, 3.07853013e-01,\n",
       "       3.08567286e-01, 3.09281558e-01, 3.09995830e-01, 3.10710102e-01,\n",
       "       3.11424375e-01, 3.12138647e-01, 3.12852949e-01, 3.13567221e-01,\n",
       "       3.14281493e-01, 3.14995766e-01, 3.15710038e-01, 3.16424310e-01,\n",
       "       3.17138582e-01, 3.17852855e-01, 3.18567127e-01, 3.19281399e-01,\n",
       "       3.19995701e-01, 3.20709974e-01, 3.21424246e-01, 3.22138518e-01,\n",
       "       3.22852790e-01, 3.23567063e-01, 3.24281335e-01, 3.24995607e-01,\n",
       "       3.25709879e-01, 3.26424152e-01, 3.27138454e-01, 3.27852726e-01,\n",
       "       3.28566998e-01, 3.29281271e-01, 3.29995543e-01, 3.30709815e-01,\n",
       "       3.31424087e-01, 3.32138360e-01, 3.32852632e-01, 3.33566904e-01,\n",
       "       3.34281206e-01, 3.34995478e-01, 3.35709751e-01, 3.36424023e-01,\n",
       "       3.37138295e-01, 3.37852567e-01, 3.38566840e-01, 3.39281112e-01,\n",
       "       3.39995384e-01, 3.40709656e-01, 3.41423959e-01, 3.42138231e-01,\n",
       "       3.42852503e-01, 3.43566775e-01, 3.44281048e-01, 3.44995320e-01,\n",
       "       3.45709592e-01, 3.46423864e-01, 3.47138137e-01, 3.47852439e-01,\n",
       "       3.48566711e-01, 3.49280983e-01, 3.49995255e-01, 3.50709528e-01,\n",
       "       3.51423800e-01, 3.52138072e-01, 3.52852345e-01, 3.53566617e-01,\n",
       "       3.54280889e-01, 3.54995191e-01, 3.55709463e-01, 3.56423736e-01,\n",
       "       3.57138008e-01, 3.57852280e-01, 3.58566552e-01, 3.59280825e-01,\n",
       "       3.59995097e-01, 3.60709369e-01, 3.61423641e-01, 3.62137944e-01,\n",
       "       3.62852216e-01, 3.63566488e-01, 3.64280760e-01, 3.64995033e-01,\n",
       "       3.65709305e-01, 3.66423577e-01, 3.67137849e-01, 3.67852122e-01,\n",
       "       3.68566394e-01, 3.69280696e-01, 3.69994968e-01, 3.70709240e-01,\n",
       "       3.71423513e-01, 3.72137785e-01, 3.72852057e-01, 3.73566329e-01,\n",
       "       3.74280602e-01, 3.74994874e-01, 3.75709146e-01, 3.76423448e-01,\n",
       "       3.77137721e-01, 3.77851993e-01, 3.78566265e-01, 3.79280537e-01,\n",
       "       3.79994810e-01, 3.80709082e-01, 3.81423354e-01, 3.82137626e-01,\n",
       "       3.82851899e-01, 3.83566201e-01, 3.84280473e-01, 3.84994745e-01,\n",
       "       3.85709018e-01, 3.86423290e-01, 3.87137562e-01, 3.87851834e-01,\n",
       "       3.88566107e-01, 3.89280379e-01, 3.89994651e-01, 3.90708953e-01,\n",
       "       3.91423225e-01, 3.92137498e-01, 3.92851770e-01, 3.93566042e-01,\n",
       "       3.94280314e-01, 3.94994587e-01, 3.95708859e-01, 3.96423131e-01,\n",
       "       3.97137403e-01, 3.97851706e-01, 3.98565978e-01, 3.99280250e-01,\n",
       "       3.99994522e-01, 4.00708795e-01, 4.01423067e-01, 4.02137339e-01,\n",
       "       4.02851611e-01, 4.03565884e-01, 4.04280156e-01, 4.04994458e-01,\n",
       "       4.05708730e-01, 4.06423002e-01, 4.07137275e-01, 4.07851547e-01,\n",
       "       4.08565819e-01, 4.09280092e-01, 4.09994364e-01, 4.10708636e-01,\n",
       "       4.11422938e-01, 4.12137210e-01, 4.12851483e-01, 4.13565755e-01,\n",
       "       4.14280027e-01, 4.14994299e-01, 4.15708572e-01, 4.16422844e-01,\n",
       "       4.17137116e-01, 4.17851388e-01, 4.18565691e-01, 4.19279963e-01,\n",
       "       4.19994235e-01, 4.20708507e-01, 4.21422780e-01, 4.22137052e-01,\n",
       "       4.22851324e-01, 4.23565596e-01, 4.24279869e-01, 4.24994141e-01,\n",
       "       4.25708443e-01, 4.26422715e-01, 4.27136987e-01, 4.27851260e-01,\n",
       "       4.28565532e-01, 4.29279804e-01, 4.29994076e-01, 4.30708349e-01,\n",
       "       4.31422621e-01, 4.32136893e-01, 4.32851195e-01, 4.33565468e-01,\n",
       "       4.34279740e-01, 4.34994012e-01, 4.35708284e-01, 4.36422557e-01,\n",
       "       4.37136829e-01, 4.37851101e-01, 4.38565373e-01, 4.39279646e-01,\n",
       "       4.39993948e-01, 4.40708220e-01, 4.41422492e-01, 4.42136765e-01,\n",
       "       4.42851037e-01, 4.43565309e-01, 4.44279581e-01, 4.44993854e-01,\n",
       "       4.45708126e-01, 4.46422398e-01, 4.47136700e-01, 4.47850972e-01,\n",
       "       4.48565245e-01, 4.49279517e-01, 4.49993789e-01, 4.50708061e-01,\n",
       "       4.51422334e-01, 4.52136606e-01, 4.52850878e-01, 4.53565150e-01,\n",
       "       4.54279453e-01, 4.54993725e-01, 4.55707997e-01, 4.56422269e-01,\n",
       "       4.57136542e-01, 4.57850814e-01, 4.58565086e-01, 4.59279358e-01,\n",
       "       4.59993631e-01, 4.60707903e-01, 4.61422205e-01, 4.62136477e-01,\n",
       "       4.62850749e-01, 4.63565022e-01, 4.64279294e-01, 4.64993566e-01,\n",
       "       4.65707839e-01, 4.66422111e-01, 4.67136383e-01, 4.67850655e-01,\n",
       "       4.68564957e-01, 4.69279230e-01, 4.69993502e-01, 4.70707774e-01,\n",
       "       4.71422046e-01])"
      ]
     },
     "execution_count": 348,
     "metadata": {},
     "output_type": "execute_result"
    }
   ],
   "source": [
    "# sum(plot[0][0] < 500)\n",
    "plot[1]"
   ]
  },
  {
   "cell_type": "markdown",
   "metadata": {},
   "source": [
    "## LSTM w/ time series"
   ]
  },
  {
   "cell_type": "code",
   "execution_count": null,
   "metadata": {},
   "outputs": [],
   "source": [
    "\n",
    "def get_days(x, i, current_time):\n",
    "    start_day = current_time\n",
    "    while current_time == start_day and i < len(x):\n",
    "        current_time = x.iloc[i]['date']\n",
    "        i+=1\n",
    "    return i, current_time\n",
    "\n",
    "\n",
    "def to_sequences(x, y):\n",
    "    x_values = []\n",
    "    y_values = []\n",
    "    current_time = x['date'].iloc[0]\n",
    "    end_time = x['date'].iloc[-1]\n",
    "    j = 0\n",
    "    while current_time <= end_time:\n",
    "        step, next_day = get_days(x,j,current_time)\n",
    "        if step < len(x):\n",
    "            x_values.append(x.iloc[j:step].values)\n",
    "            y_values.append(y.iloc[step])            \n",
    "            current_time = next_day\n",
    "        else:\n",
    "            x_values.append(x.iloc[j:step-1].values)\n",
    "            y_values.append(y.iloc[step-1])\n",
    "            break   \n",
    "        j=step\n",
    "    return np.array(x_values), np.array(y_values)"
   ]
  },
  {
   "cell_type": "code",
   "execution_count": 23,
   "metadata": {},
   "outputs": [],
   "source": [
    "def to_sequences_homogenous(x, y, seq_size=1):\n",
    "    x_values = []\n",
    "    y_values = []\n",
    "\n",
    "    for i in range(len(x)-seq_size):\n",
    "        print(i)\n",
    "        x_values.append(x.iloc[i:(i+seq_size)].values)\n",
    "        y_values.append(y.iloc[i+seq_size])\n",
    "        \n",
    "    return np.array(x_values), np.array(y_values)"
   ]
  },
  {
   "cell_type": "code",
   "execution_count": 20,
   "metadata": {},
   "outputs": [],
   "source": [
    "elapsed = pd.to_datetime(df['date']).max().timestamp() - pd.to_datetime(df['date']).min().timestamp()\n",
    "seq_size = len(df) // datetime.timedelta(seconds=elapsed).days"
   ]
  },
  {
   "cell_type": "code",
   "execution_count": 22,
   "metadata": {},
   "outputs": [
    {
     "ename": "KeyboardInterrupt",
     "evalue": "",
     "output_type": "error",
     "traceback": [
      "\u001b[1;31m---------------------------------------------------------------------------\u001b[0m",
      "\u001b[1;31mKeyboardInterrupt\u001b[0m                         Traceback (most recent call last)",
      "Cell \u001b[1;32mIn[22], line 2\u001b[0m\n\u001b[0;32m      1\u001b[0m \u001b[39m# xtrain, ytrain = to_sequences(df, df.drop('date', axis=1))\u001b[39;00m\n\u001b[1;32m----> 2\u001b[0m X, y \u001b[39m=\u001b[39m to_sequences_homogenous(df, df\u001b[39m.\u001b[39;49mdrop(\u001b[39m'\u001b[39;49m\u001b[39mdate\u001b[39;49m\u001b[39m'\u001b[39;49m, axis\u001b[39m=\u001b[39;49m\u001b[39m1\u001b[39;49m), seq_size)\n\u001b[0;32m      3\u001b[0m X_train, X_test, y_train, y_test \u001b[39m=\u001b[39m train_test_split(X, y, test_size\u001b[39m=\u001b[39m\u001b[39m0.33\u001b[39m, random_state\u001b[39m=\u001b[39m\u001b[39m42\u001b[39m)\n",
      "Cell \u001b[1;32mIn[19], line 7\u001b[0m, in \u001b[0;36mto_sequences_homogenous\u001b[1;34m(x, y, seq_size)\u001b[0m\n\u001b[0;32m      3\u001b[0m y_values \u001b[39m=\u001b[39m []\n\u001b[0;32m      5\u001b[0m \u001b[39mfor\u001b[39;00m i \u001b[39min\u001b[39;00m \u001b[39mrange\u001b[39m(\u001b[39mlen\u001b[39m(x)\u001b[39m-\u001b[39mseq_size):\n\u001b[0;32m      6\u001b[0m     \u001b[39m#print(i)\u001b[39;00m\n\u001b[1;32m----> 7\u001b[0m     x_values\u001b[39m.\u001b[39mappend(x\u001b[39m.\u001b[39;49miloc[i:(i\u001b[39m+\u001b[39;49mseq_size)]\u001b[39m.\u001b[39;49mvalues)\n\u001b[0;32m      8\u001b[0m     y_values\u001b[39m.\u001b[39mappend(y\u001b[39m.\u001b[39miloc[i\u001b[39m+\u001b[39mseq_size])\n\u001b[0;32m     10\u001b[0m \u001b[39mreturn\u001b[39;00m np\u001b[39m.\u001b[39marray(x_values), np\u001b[39m.\u001b[39marray(y_values)\n",
      "File \u001b[1;32m~\\AppData\\Local\\Packages\\PythonSoftwareFoundation.Python.3.10_qbz5n2kfra8p0\\LocalCache\\local-packages\\Python310\\site-packages\\pandas\\core\\frame.py:11736\u001b[0m, in \u001b[0;36mDataFrame.values\u001b[1;34m(self)\u001b[0m\n\u001b[0;32m  11663\u001b[0m \u001b[39m\"\"\"\u001b[39;00m\n\u001b[0;32m  11664\u001b[0m \u001b[39mReturn a Numpy representation of the DataFrame.\u001b[39;00m\n\u001b[0;32m  11665\u001b[0m \n\u001b[1;32m   (...)\u001b[0m\n\u001b[0;32m  11733\u001b[0m \u001b[39m       ['monkey', nan, None]], dtype=object)\u001b[39;00m\n\u001b[0;32m  11734\u001b[0m \u001b[39m\"\"\"\u001b[39;00m\n\u001b[0;32m  11735\u001b[0m \u001b[39mself\u001b[39m\u001b[39m.\u001b[39m_consolidate_inplace()\n\u001b[1;32m> 11736\u001b[0m \u001b[39mreturn\u001b[39;00m \u001b[39mself\u001b[39;49m\u001b[39m.\u001b[39;49m_mgr\u001b[39m.\u001b[39;49mas_array()\n",
      "File \u001b[1;32m~\\AppData\\Local\\Packages\\PythonSoftwareFoundation.Python.3.10_qbz5n2kfra8p0\\LocalCache\\local-packages\\Python310\\site-packages\\pandas\\core\\internals\\managers.py:1767\u001b[0m, in \u001b[0;36mBlockManager.as_array\u001b[1;34m(self, dtype, copy, na_value)\u001b[0m\n\u001b[0;32m   1765\u001b[0m             arr \u001b[39m=\u001b[39m arr\u001b[39m.\u001b[39mastype(dtype, copy\u001b[39m=\u001b[39m\u001b[39mFalse\u001b[39;00m)\n\u001b[0;32m   1766\u001b[0m \u001b[39melse\u001b[39;00m:\n\u001b[1;32m-> 1767\u001b[0m     arr \u001b[39m=\u001b[39m \u001b[39mself\u001b[39;49m\u001b[39m.\u001b[39;49m_interleave(dtype\u001b[39m=\u001b[39;49mdtype, na_value\u001b[39m=\u001b[39;49mna_value)\n\u001b[0;32m   1768\u001b[0m     \u001b[39m# The underlying data was copied within _interleave\u001b[39;00m\n\u001b[0;32m   1769\u001b[0m     copy \u001b[39m=\u001b[39m \u001b[39mFalse\u001b[39;00m\n",
      "File \u001b[1;32m~\\AppData\\Local\\Packages\\PythonSoftwareFoundation.Python.3.10_qbz5n2kfra8p0\\LocalCache\\local-packages\\Python310\\site-packages\\pandas\\core\\internals\\managers.py:1814\u001b[0m, in \u001b[0;36mBlockManager._interleave\u001b[1;34m(self, dtype, na_value)\u001b[0m\n\u001b[0;32m   1812\u001b[0m \u001b[39mfor\u001b[39;00m blk \u001b[39min\u001b[39;00m \u001b[39mself\u001b[39m\u001b[39m.\u001b[39mblocks:\n\u001b[0;32m   1813\u001b[0m     rl \u001b[39m=\u001b[39m blk\u001b[39m.\u001b[39mmgr_locs\n\u001b[1;32m-> 1814\u001b[0m     arr \u001b[39m=\u001b[39m blk\u001b[39m.\u001b[39;49mget_values(dtype)\n\u001b[0;32m   1815\u001b[0m     result[rl\u001b[39m.\u001b[39mindexer] \u001b[39m=\u001b[39m arr\n\u001b[0;32m   1816\u001b[0m     itemmask[rl\u001b[39m.\u001b[39mindexer] \u001b[39m=\u001b[39m \u001b[39m1\u001b[39m\n",
      "File \u001b[1;32m~\\AppData\\Local\\Packages\\PythonSoftwareFoundation.Python.3.10_qbz5n2kfra8p0\\LocalCache\\local-packages\\Python310\\site-packages\\pandas\\core\\internals\\blocks.py:1604\u001b[0m, in \u001b[0;36mEABackedBlock.get_values\u001b[1;34m(self, dtype)\u001b[0m\n\u001b[0;32m   1602\u001b[0m values: ArrayLike \u001b[39m=\u001b[39m \u001b[39mself\u001b[39m\u001b[39m.\u001b[39mvalues\n\u001b[0;32m   1603\u001b[0m \u001b[39mif\u001b[39;00m dtype \u001b[39m==\u001b[39m _dtype_obj:\n\u001b[1;32m-> 1604\u001b[0m     values \u001b[39m=\u001b[39m values\u001b[39m.\u001b[39;49mastype(\u001b[39mobject\u001b[39;49m)\n\u001b[0;32m   1605\u001b[0m \u001b[39m# TODO(EA2D): reshape not needed with 2D EAs\u001b[39;00m\n\u001b[0;32m   1606\u001b[0m \u001b[39mreturn\u001b[39;00m np\u001b[39m.\u001b[39masarray(values)\u001b[39m.\u001b[39mreshape(\u001b[39mself\u001b[39m\u001b[39m.\u001b[39mshape)\n",
      "File \u001b[1;32m~\\AppData\\Local\\Packages\\PythonSoftwareFoundation.Python.3.10_qbz5n2kfra8p0\\LocalCache\\local-packages\\Python310\\site-packages\\pandas\\core\\arrays\\datetimes.py:650\u001b[0m, in \u001b[0;36mDatetimeArray.astype\u001b[1;34m(self, dtype, copy)\u001b[0m\n\u001b[0;32m    648\u001b[0m \u001b[39melif\u001b[39;00m is_period_dtype(dtype):\n\u001b[0;32m    649\u001b[0m     \u001b[39mreturn\u001b[39;00m \u001b[39mself\u001b[39m\u001b[39m.\u001b[39mto_period(freq\u001b[39m=\u001b[39mdtype\u001b[39m.\u001b[39mfreq)\n\u001b[1;32m--> 650\u001b[0m \u001b[39mreturn\u001b[39;00m dtl\u001b[39m.\u001b[39;49mDatetimeLikeArrayMixin\u001b[39m.\u001b[39;49mastype(\u001b[39mself\u001b[39;49m, dtype, copy)\n",
      "\u001b[1;31mKeyboardInterrupt\u001b[0m: "
     ]
    }
   ],
   "source": [
    "# xtrain, ytrain = to_sequences(df, df.drop('date', axis=1))\n",
    "X, y = to_sequences_homogenous(df, df.drop('date', axis=1), seq_size)\n",
    "X_train, X_test, y_train, y_test = train_test_split(X, y, test_size=0.33, random_state=42)"
   ]
  },
  {
   "cell_type": "code",
   "execution_count": null,
   "metadata": {},
   "outputs": [
    {
     "data": {
      "text/plain": [
       "(515,)"
      ]
     },
     "execution_count": 550,
     "metadata": {},
     "output_type": "execute_result"
    }
   ],
   "source": [
    "X_train.shape"
   ]
  },
  {
   "cell_type": "code",
   "execution_count": null,
   "metadata": {},
   "outputs": [
    {
     "ename": "IndexError",
     "evalue": "tuple index out of range",
     "output_type": "error",
     "traceback": [
      "\u001b[1;31m---------------------------------------------------------------------------\u001b[0m",
      "\u001b[1;31mIndexError\u001b[0m                                Traceback (most recent call last)",
      "Cell \u001b[1;32mIn[543], line 2\u001b[0m\n\u001b[0;32m      1\u001b[0m model \u001b[39m=\u001b[39m Sequential()\n\u001b[1;32m----> 2\u001b[0m model\u001b[39m.\u001b[39madd(LSTM(\u001b[39m128\u001b[39m, input_shape\u001b[39m=\u001b[39m(xtrain\u001b[39m.\u001b[39;49mshape[\u001b[39m1\u001b[39;49m], xtrain\u001b[39m.\u001b[39mshape[\u001b[39m2\u001b[39m])))\n\u001b[0;32m      3\u001b[0m model\u001b[39m.\u001b[39madd(Dropout(rate\u001b[39m=\u001b[39m\u001b[39m0.2\u001b[39m))\n\u001b[0;32m      5\u001b[0m model\u001b[39m.\u001b[39madd(RepeatVector(xtrain\u001b[39m.\u001b[39mshape[\u001b[39m1\u001b[39m]))\n",
      "\u001b[1;31mIndexError\u001b[0m: tuple index out of range"
     ]
    }
   ],
   "source": [
    "model = Sequential()\n",
    "model.add(LSTM(128, input_shape=(X_train.shape[1], X_train.shape[2])))\n",
    "model.add(Dropout(rate=0.2))\n",
    "\n",
    "model.add(RepeatVector(X_train.shape[1]))\n",
    "\n",
    "model.add(LSTM(128, return_sequences=True))\n",
    "model.add(Dropout(rate=0.2))\n",
    "model.add(TimeDistributed(Dense(X_train.shape[2])))\n",
    "model.compile(optimizer='adam', loss='mae')\n",
    "model.summary()"
   ]
  }
 ],
 "metadata": {
  "kernelspec": {
   "display_name": "Python 3.10.8 64-bit (microsoft store)",
   "language": "python",
   "name": "python3"
  },
  "language_info": {
   "codemirror_mode": {
    "name": "ipython",
    "version": 3
   },
   "file_extension": ".py",
   "mimetype": "text/x-python",
   "name": "python",
   "nbconvert_exporter": "python",
   "pygments_lexer": "ipython3",
   "version": "3.10.8"
  },
  "orig_nbformat": 4,
  "vscode": {
   "interpreter": {
    "hash": "7d304f8a788dc357851e8e26f4f2d0b96a5ad1a5f24ff2e713e3216619007ad4"
   }
  }
 },
 "nbformat": 4,
 "nbformat_minor": 2
}
