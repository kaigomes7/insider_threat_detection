{
 "cells": [
  {
   "cell_type": "markdown",
   "metadata": {},
   "source": [
    "# Evaluation of an LSTM-AutoEncoder on the CERT Insider Threat Detection Dataset\n",
    "# Kai Gomes, Zachary Lawton"
   ]
  },
  {
   "cell_type": "markdown",
   "metadata": {},
   "source": [
    "Dependencies"
   ]
  },
  {
   "cell_type": "code",
   "execution_count": 1,
   "metadata": {},
   "outputs": [],
   "source": [
    "import pandas as pd\n",
    "import numpy as np\n",
    "import re\n",
    "import matplotlib.pyplot as plt\n",
    "import datetime\n",
    "\n",
    "from sklearn.model_selection import train_test_split\n",
    "from sklearn import preprocessing\n",
    "from sklearn.preprocessing import StandardScaler\n",
    "from sklearn.preprocessing import MinMaxScaler\n",
    "from sklearn.model_selection import train_test_split\n",
    "from sklearn.metrics import confusion_matrix, classification_report\n",
    "from sklearn.ensemble import IsolationForest\n",
    "from sklearn.svm import OneClassSVM\n",
    "\n",
    "import tensorflow as tf\n",
    "from tensorflow import keras\n",
    "from tensorflow.keras import optimizers\n",
    "from tensorflow.keras.models import Sequential, Model\n",
    "from tensorflow.keras.layers import Dense, Input, LSTM, RepeatVector, TimeDistributed, Dropout\n",
    "from tensorflow.keras.optimizers import RMSprop, Adam, Nadam\n",
    "from tensorflow.keras.preprocessing import sequence\n",
    "from tensorflow.keras.callbacks import TensorBoard\n",
    "from keras.utils import plot_model\n",
    "from imblearn.under_sampling import RandomUnderSampler\n"
   ]
  },
  {
   "cell_type": "markdown",
   "metadata": {},
   "source": [
    "## Load Dataset"
   ]
  },
  {
   "cell_type": "markdown",
   "metadata": {},
   "source": [
    "Loads CERT v6.2 email dataset"
   ]
  },
  {
   "cell_type": "code",
   "execution_count": 2,
   "metadata": {},
   "outputs": [
    {
     "data": {
      "text/plain": [
       "10994957"
      ]
     },
     "execution_count": 2,
     "metadata": {},
     "output_type": "execute_result"
    }
   ],
   "source": [
    "# df = pd.read_csv(\"C:\\\\Users\\\\kaigo\\\\Downloads\\\\r6.2\\\\r6.2\\\\email.csv\") #kai PC\n",
    "df = pd.read_csv(\"D:\\\\r6.2\\\\email.csv\") #zach pc\n",
    "len(df)"
   ]
  },
  {
   "cell_type": "markdown",
   "metadata": {},
   "source": [
    "Loads answers (malicious) for dataset and drops unecessary columns (all that aren't in email dataset)"
   ]
  },
  {
   "cell_type": "code",
   "execution_count": 3,
   "metadata": {},
   "outputs": [],
   "source": [
    "# answers_df = pd.read_csv(\"C:\\\\Users\\\\kaigo\\\\Downloads\\\\answers\\\\answers\\\\r6.2-3.csv\", header=None) #kai pc\n",
    "answers_df = pd.read_csv(\"D:\\\\answers\\\\r6.2-3.csv\", header=None)\n",
    "answers_df = answers_df.where(answers_df[0] == 'email')\n",
    "answers_df = answers_df[answers_df[0].notna()]\n",
    "answers_df = answers_df.rename(columns={1: 'id', 2: \"date\", 3: \"user\", 4: \"pc\", 5: \"to\", 6: \"cc\", 7:\"bcc\", 8:\"from\", 9:\"activity\", 10:\"size\", 11: \"attachment\", 13: \"content\" })\n",
    "answers_df = answers_df.drop([0, 12], axis=1)"
   ]
  },
  {
   "cell_type": "markdown",
   "metadata": {},
   "source": [
    "Labels email data with malicious column"
   ]
  },
  {
   "cell_type": "code",
   "execution_count": 4,
   "metadata": {},
   "outputs": [],
   "source": [
    "malicious_ids = answers_df['user'].unique()\n",
    "df['malicious'] = [1 if x in malicious_ids else 0 for x in df['user']]"
   ]
  },
  {
   "cell_type": "markdown",
   "metadata": {},
   "source": [
    "## Undersample data"
   ]
  },
  {
   "cell_type": "markdown",
   "metadata": {},
   "source": [
    "Picks percentage of malicious data wanted and then scales non-malicious down to equal percentage"
   ]
  },
  {
   "cell_type": "code",
   "execution_count": 5,
   "metadata": {},
   "outputs": [],
   "source": [
    "num_non_mal = len(df.loc[df['malicious'] == 0])\n",
    "num_mal = len(df.loc[df['malicious'] == 1])\n",
    "percent_want_mal = 0.1\n",
    "num_non_mal_sample = num_non_mal - int(num_non_mal - (num_non_mal - (num_mal / percent_want_mal - num_mal)))\n",
    "sample = df.loc[df['malicious'] == 0].sample(n = num_non_mal_sample, random_state=42).index.tolist()\n",
    "df = df.drop(sample, axis=0)"
   ]
  },
  {
   "cell_type": "code",
   "execution_count": 6,
   "metadata": {},
   "outputs": [
    {
     "name": "stdout",
     "output_type": "stream",
     "text": [
      "90600 815400\n"
     ]
    }
   ],
   "source": [
    "print(num_mal, len(df) - num_mal)"
   ]
  },
  {
   "cell_type": "markdown",
   "metadata": {},
   "source": [
    "## Feature Extraction"
   ]
  },
  {
   "cell_type": "markdown",
   "metadata": {},
   "source": [
    "Gets number of words in message from message content"
   ]
  },
  {
   "cell_type": "code",
   "execution_count": 7,
   "metadata": {},
   "outputs": [],
   "source": [
    "df['num_words'] = [len(x.split()) for x in df['content']]"
   ]
  },
  {
   "cell_type": "markdown",
   "metadata": {},
   "source": [
    "Gets number of destinations, number of external destinations, and number of external destinations that appear in bcc:"
   ]
  },
  {
   "cell_type": "code",
   "execution_count": 8,
   "metadata": {},
   "outputs": [],
   "source": [
    "df['num_dest'] = df.apply(lambda x: len(re.findall(\"(@)\", x['to'] + \";\" + (x['cc'] if not pd.isnull(x['cc']) else '') + \";\" + (x['bcc'] if not pd.isnull(x['bcc']) else ''))), axis=1)"
   ]
  },
  {
   "cell_type": "code",
   "execution_count": 9,
   "metadata": {},
   "outputs": [],
   "source": [
    "df['num_external'] = df.apply(lambda x: len(set(re.findall(\"(?<=@)[^.]+(?=.)\", x['to'] + \";\" + (x['cc'] if not pd.isnull(x['cc']) else '') + \";\" + (x['bcc'] if not pd.isnull(x['bcc']) else ''))) - set(re.findall(\"(?<=@)[^.]+(?=.)\", x['to']))), axis=1)"
   ]
  },
  {
   "cell_type": "code",
   "execution_count": 10,
   "metadata": {},
   "outputs": [],
   "source": [
    "df['num_external_bcc'] =  df.apply(lambda x: len(set(re.findall(\"(?<=@)[^.]+(?=.)\", x['to'] + \";\" + (x['bcc'] if not pd.isnull(x['bcc']) else ''))) - set(re.findall(\"(?<=@)[^.]+(?=.)\", x['to']))), axis=1)"
   ]
  },
  {
   "cell_type": "markdown",
   "metadata": {},
   "source": [
    "Gets the number of attachments, total size of all attachments, number of different file types of attachments (.pdf, .doc, etc), and number of bcc recipients"
   ]
  },
  {
   "cell_type": "code",
   "execution_count": 11,
   "metadata": {},
   "outputs": [],
   "source": [
    "df['num_attach'] = [len(x.split(\";\")) if type(x) == str else 0 for x in df['attachments']]"
   ]
  },
  {
   "cell_type": "code",
   "execution_count": 12,
   "metadata": {},
   "outputs": [],
   "source": [
    "df['attach_size'] = [sum(map(int, re.findall(\"\\(([^()]+)\\)\", x))) if type(x) == str else 0 for x in df['attachments']]"
   ]
  },
  {
   "cell_type": "code",
   "execution_count": 13,
   "metadata": {},
   "outputs": [],
   "source": [
    "df['num_attach_type'] = [len(set(re.findall(\"\\.(.*?)\\(\", x))) if type(x) == str else 0 for x in df['attachments']]"
   ]
  },
  {
   "cell_type": "code",
   "execution_count": 14,
   "metadata": {},
   "outputs": [],
   "source": [
    "df['num_bcc'] = [len(x.split(\";\")) if type(x) == str else 0 for x in df['bcc']]"
   ]
  },
  {
   "cell_type": "markdown",
   "metadata": {},
   "source": [
    "Creates a new dataframe with only the quantitative data that is able to be parsed"
   ]
  },
  {
   "cell_type": "code",
   "execution_count": 15,
   "metadata": {},
   "outputs": [],
   "source": [
    "df = df[['date', 'num_dest','num_attach','num_attach_type', 'attach_size', 'num_external', 'num_external_bcc', 'size', 'num_words', 'num_bcc', 'malicious']]"
   ]
  },
  {
   "cell_type": "markdown",
   "metadata": {},
   "source": [
    "Create y (malicious or not, not used in model itself since unsupervised)"
   ]
  },
  {
   "cell_type": "code",
   "execution_count": 16,
   "metadata": {},
   "outputs": [],
   "source": [
    "y = df['malicious']\n",
    "df = df.drop('malicious', axis=1)"
   ]
  },
  {
   "cell_type": "markdown",
   "metadata": {},
   "source": [
    "## Normalize Data"
   ]
  },
  {
   "cell_type": "markdown",
   "metadata": {},
   "source": [
    "Scale the features so that the model is more accurate (using `MinMaxScaler()`) and split into train/test data"
   ]
  },
  {
   "cell_type": "code",
   "execution_count": 17,
   "metadata": {},
   "outputs": [],
   "source": [
    "dates = pd.to_datetime(df['date']).values\n",
    "x = df.drop('date', axis=1).values\n",
    "min_max_scaler = preprocessing.MinMaxScaler()\n",
    "x_scaled = min_max_scaler.fit_transform(x)\n",
    "df = pd.DataFrame(x_scaled)\n",
    "# df['date'] = dates"
   ]
  },
  {
   "cell_type": "markdown",
   "metadata": {},
   "source": [
    "## Create and Run Models"
   ]
  },
  {
   "cell_type": "markdown",
   "metadata": {},
   "source": [
    "Split Data into train and test data: 66% train and 33% test"
   ]
  },
  {
   "cell_type": "code",
   "execution_count": 18,
   "metadata": {},
   "outputs": [],
   "source": [
    "X_train, X_test, y_train, y_test = train_test_split(df, y, test_size=0.33, random_state=42)"
   ]
  },
  {
   "cell_type": "markdown",
   "metadata": {},
   "source": [
    "### AutoEncoder"
   ]
  },
  {
   "cell_type": "markdown",
   "metadata": {},
   "source": [
    "Creates model: encoder has 3 dense layers and 3 dropoout layers, repeat vector, and decoder has 3 dense layers and 3 dropoout layers"
   ]
  },
  {
   "cell_type": "code",
   "execution_count": 19,
   "metadata": {},
   "outputs": [
    {
     "name": "stdout",
     "output_type": "stream",
     "text": [
      "Model: \"sequential\"\n",
      "_________________________________________________________________\n",
      " Layer (type)                Output Shape              Param #   \n",
      "=================================================================\n",
      " dense (Dense)               (None, 128)               1280      \n",
      "                                                                 \n",
      " dropout (Dropout)           (None, 128)               0         \n",
      "                                                                 \n",
      " dense_1 (Dense)             (None, 64)                8256      \n",
      "                                                                 \n",
      " dropout_1 (Dropout)         (None, 64)                0         \n",
      "                                                                 \n",
      " dense_2 (Dense)             (None, 32)                2080      \n",
      "                                                                 \n",
      " dense_3 (Dense)             (None, 32)                1056      \n",
      "                                                                 \n",
      " dropout_2 (Dropout)         (None, 32)                0         \n",
      "                                                                 \n",
      " dense_4 (Dense)             (None, 64)                2112      \n",
      "                                                                 \n",
      " dropout_3 (Dropout)         (None, 64)                0         \n",
      "                                                                 \n",
      " dense_5 (Dense)             (None, 9)                 585       \n",
      "                                                                 \n",
      "=================================================================\n",
      "Total params: 15,369\n",
      "Trainable params: 15,369\n",
      "Non-trainable params: 0\n",
      "_________________________________________________________________\n",
      "Epoch 1/15\n",
      "61/61 [==============================] - 2s 21ms/step - loss: 0.0089 - val_loss: 0.0023\n",
      "Epoch 2/15\n",
      "61/61 [==============================] - 1s 19ms/step - loss: 0.0026 - val_loss: 7.3097e-04\n",
      "Epoch 3/15\n",
      "61/61 [==============================] - 1s 19ms/step - loss: 0.0018 - val_loss: 5.0424e-04\n",
      "Epoch 4/15\n",
      "61/61 [==============================] - 1s 19ms/step - loss: 0.0014 - val_loss: 4.0582e-04\n",
      "Epoch 5/15\n",
      "61/61 [==============================] - 1s 19ms/step - loss: 0.0012 - val_loss: 3.6206e-04\n",
      "Epoch 6/15\n",
      "61/61 [==============================] - 1s 19ms/step - loss: 0.0011 - val_loss: 3.4091e-04\n",
      "Epoch 7/15\n",
      "61/61 [==============================] - 1s 19ms/step - loss: 0.0011 - val_loss: 3.2741e-04\n",
      "Epoch 8/15\n",
      "61/61 [==============================] - 1s 20ms/step - loss: 9.9374e-04 - val_loss: 3.2887e-04\n",
      "Epoch 9/15\n",
      "61/61 [==============================] - 1s 18ms/step - loss: 9.4462e-04 - val_loss: 3.7065e-04\n",
      "Epoch 10/15\n",
      "61/61 [==============================] - 1s 19ms/step - loss: 9.0164e-04 - val_loss: 3.2746e-04\n",
      "Epoch 11/15\n",
      "61/61 [==============================] - 1s 20ms/step - loss: 8.6096e-04 - val_loss: 3.2203e-04\n",
      "Epoch 12/15\n",
      "61/61 [==============================] - 1s 19ms/step - loss: 8.2602e-04 - val_loss: 3.0696e-04\n",
      "Epoch 13/15\n",
      "61/61 [==============================] - 1s 20ms/step - loss: 7.9367e-04 - val_loss: 3.4018e-04\n",
      "Epoch 14/15\n",
      "61/61 [==============================] - 1s 18ms/step - loss: 7.7098e-04 - val_loss: 3.1083e-04\n",
      "Epoch 15/15\n",
      "61/61 [==============================] - 1s 19ms/step - loss: 7.4294e-04 - val_loss: 2.9590e-04\n"
     ]
    },
    {
     "data": {
      "text/plain": [
       "<matplotlib.legend.Legend at 0x24e593cafe0>"
      ]
     },
     "execution_count": 19,
     "metadata": {},
     "output_type": "execute_result"
    },
    {
     "data": {
      "image/png": "[encoded data removed]",
      "text/plain": [
       "<Figure size 640x480 with 1 Axes>"
      ]
     },
     "metadata": {},
     "output_type": "display_data"
    }
   ],
   "source": [
    "input_dim = X_train.shape[1] #num of predictor variables, \n",
    "encoding_dim = 2\n",
    "\n",
    "# define model\n",
    "model = Sequential()\n",
    "model.add(Input(shape=(input_dim,)))\n",
    "#encoder\n",
    "model.add(Dense(128, activation='relu'))\n",
    "model.add(Dropout(rate=0.2))\n",
    "model.add(Dense(64, activation='relu'))\n",
    "model.add(Dropout(rate=0.2))\n",
    "model.add(Dense(32, activation='relu' ))\n",
    "# model.add(RepeatVector(input_dim))\n",
    "#decoder\n",
    "model.add(Dense(32, activation='relu'))\n",
    "model.add(Dropout(rate=0.2))\n",
    "model.add(Dense(64, activation='relu'))\n",
    "model.add(Dropout(rate=0.2))\n",
    "model.add(Dense(X_train.shape[1], activation='relu'))\n",
    "model.compile(optimizer='adam', loss='mse')\n",
    "model.summary()\n",
    "model\n",
    "# fit model\n",
    "history = model.fit(X_train, X_train, epochs=15, batch_size=10000, validation_data=(X_test, X_test))\n",
    "# plot_model(model, show_shapes=True)\n",
    "plt.plot(history.history['loss'], label='loss')\n",
    "plt.plot(history.history['val_loss'], label='val_loss')\n",
    "plt.title(\"AutoEncoder: Loss and Validation Loss over Epochs\")\n",
    "plt.xlabel('Epochs')\n",
    "plt.ylabel('Loss')\n",
    "plt.legend()"
   ]
  },
  {
   "cell_type": "markdown",
   "metadata": {},
   "source": [
    "Predicts the values using the testing data"
   ]
  },
  {
   "cell_type": "code",
   "execution_count": 20,
   "metadata": {},
   "outputs": [],
   "source": [
    "yhat = model.predict(X_test, verbose=0)"
   ]
  },
  {
   "cell_type": "markdown",
   "metadata": {},
   "source": [
    "Calculates the anomoly score for each input in the testing data by the difference of the sum of the features and the predicted y value. Then established the anomoly cutoff based on the percentage of malicious datapoints in our sample and plots a histogram. This usually is done experimentally, but since we know the percentage of malicious in our dataset, we are able to evaluate the perfomance of the model."
   ]
  },
  {
   "cell_type": "code",
   "execution_count": 21,
   "metadata": {},
   "outputs": [
    {
     "name": "stdout",
     "output_type": "stream",
     "text": [
      "Threshold: 0.10698431607953615\n"
     ]
    },
    {
     "data": {
      "image/png": "[encoded data removed]",
      "text/plain": [
       "<Figure size 640x480 with 1 Axes>"
      ]
     },
     "metadata": {},
     "output_type": "display_data"
    }
   ],
   "source": [
    "diff = [abs(x.sum() - y.sum()) for x, y in zip(X_test.to_numpy(), yhat)]\n",
    "plot = plt.hist(diff, bins='auto')\n",
    "plt.title(\"Total Histogram of Difference\")\n",
    "plt.xlabel(\"Size Differential\")\n",
    "\n",
    "i, total, percent = 0,0,0\n",
    "while percent < .9:\n",
    "    total+=plot[0][i]\n",
    "    percent =  total / X_test.shape[0]\n",
    "    i+=1\n",
    "print(\"Threshold:\", plot[1][i])\n",
    "plt.axvline(plot[1][i], color='red', linestyle='dashed', linewidth=1)\n",
    "plt.show()"
   ]
  },
  {
   "cell_type": "markdown",
   "metadata": {},
   "source": [
    "Seperates the anomolies from the regular data using the threshold value"
   ]
  },
  {
   "cell_type": "code",
   "execution_count": 22,
   "metadata": {},
   "outputs": [
    {
     "data": {
      "image/png": "[encoded data removed]",
      "text/plain": [
       "<Figure size 640x480 with 1 Axes>"
      ]
     },
     "metadata": {},
     "output_type": "display_data"
    }
   ],
   "source": [
    "counts, edges, bars = plt.hist(diff,bins=[0,plot[1][i],1])\n",
    "size_bar = plt.bar_label(bars)\n",
    "plt.title(\"Histogram of Difference\")\n",
    "plt.xlabel(\"Size Difference\")\n",
    "plt.show()"
   ]
  },
  {
   "cell_type": "code",
   "execution_count": 23,
   "metadata": {},
   "outputs": [
    {
     "data": {
      "text/plain": [
       "[0.06967658582094982,\n",
       " 0.05000108162983996,\n",
       " 0.001015858004743131,\n",
       " 0.0066888019056555725,\n",
       " 0.042367354594536444,\n",
       " 0.04076156154475452,\n",
       " 0.0037042552146062113,\n",
       " 0.022204498680296614,\n",
       " 0.048302010661049444,\n",
       " 0.06291811135057124,\n",
       " 0.0153680305150099,\n",
       " 0.015265158434567605,\n",
       " 0.05148530122024543,\n",
       " 0.07553268129526325,\n",
       " 0.056234902542640075,\n",
       " 0.012025266498027626,\n",
       " 0.00193406938164703,\n",
       " 0.014553924553720399,\n",
       " 0.0007534393751753021,\n",
       " 0.0007156189219063025,\n",
       " 0.07798334226482107,\n",
       " 0.0052074560328240205,\n",
       " 0.0022126263483019937,\n",
       " 8.761567174983553e-05,\n",
       " 0.000875174645505683,\n",
       " 0.0024485670383538882,\n",
       " 0.005437209677853105,\n",
       " 0.019062974618477224,\n",
       " 0.027950290082907392,\n",
       " 0.023085099013886223,\n",
       " 0.013070614309293127,\n",
       " 0.009385175868191653,\n",
       " 0.09836681061439156,\n",
       " 0.00966025039158891,\n",
       " 0.019702612472449643,\n",
       " 0.03260387501974987,\n",
       " 0.006501135679152836,\n",
       " 0.0004076387469750531,\n",
       " 0.003648621737580876,\n",
       " 0.008718769847264607,\n",
       " 0.043372543891456616,\n",
       " 0.002981831718646577,\n",
       " 0.002986140561229589,\n",
       " 0.004735652201973917,\n",
       " 0.07071868764733669,\n",
       " 0.008398385767334038,\n",
       " 0.0178804334125387,\n",
       " 0.0026813618063753764,\n",
       " 0.10507932790896624,\n",
       " 0.014744566539730886,\n",
       " 0.011296909084685836,\n",
       " 0.07498096814896904,\n",
       " 0.0026570368000403133,\n",
       " 0.0334126484073487,\n",
       " 0.0038682270779989425,\n",
       " 0.010782017876130534,\n",
       " 0.036193658661841044,\n",
       " 0.00027343534604573616,\n",
       " 0.14749924849213802,\n",
       " 0.01003376227430508,\n",
       " 0.05247189146335962,\n",
       " 0.024747647310466414,\n",
       " 0.007768897157583166,\n",
       " 0.005636576659540649,\n",
       " 0.001332307692849033,\n",
       " 0.002196904674361677,\n",
       " 0.0021043933013308036,\n",
       " 0.010572818712639376,\n",
       " 1.5314453409409623e-05,\n",
       " 0.09772343265691052,\n",
       " 0.00045234023362944464,\n",
       " 0.03913361413107719,\n",
       " 0.06923371742056417,\n",
       " 0.030220142265251493,\n",
       " 0.0042270989087001415,\n",
       " 0.117313718163913,\n",
       " 0.004160891371640996,\n",
       " 0.004562025118021673,\n",
       " 0.0725083177026088,\n",
       " 0.024250052543438594,\n",
       " 0.10987316827243054,\n",
       " 0.009424449287984638,\n",
       " 0.16708678163278545,\n",
       " 0.13352967760424828,\n",
       " 0.0007912780385996299,\n",
       " 0.03031006285200255,\n",
       " 0.01837684964579367,\n",
       " 0.542804536680368,\n",
       " 0.014043900309558266,\n",
       " 0.017806602303794106,\n",
       " 0.08243313690662957,\n",
       " 0.00288127573793584,\n",
       " 0.11021880063851608,\n",
       " 0.052417183747191065,\n",
       " 0.04183447566069698,\n",
       " 0.005043960893448496,\n",
       " 0.02851494665007448,\n",
       " 0.580385995657732,\n",
       " 0.030877814701154582,\n",
       " 2.3369528096894854e-05,\n",
       " 0.0031748552641810424,\n",
       " 0.00741159010762904,\n",
       " 0.022974335139739788,\n",
       " 0.015759355558025656,\n",
       " 0.003903788165722011,\n",
       " 0.006756112810409276,\n",
       " 0.05543008625867962,\n",
       " 0.0010014998923971452,\n",
       " 0.464635642247643,\n",
       " 0.00297353288882668,\n",
       " 0.012797703854149911,\n",
       " 0.04601130334633252,\n",
       " 0.0743007059227847,\n",
       " 0.2532785267983284,\n",
       " 0.008707275167518347,\n",
       " 0.004264860063705356,\n",
       " 0.003259377707085953,\n",
       " 0.006887199370730346,\n",
       " 0.002453061409947388,\n",
       " 0.05147008851669921,\n",
       " 0.02307372679080788,\n",
       " 0.03267503569350522,\n",
       " 0.004076396859868436,\n",
       " 0.02120562834053108,\n",
       " 0.06220407433426878,\n",
       " 0.02927374315550879,\n",
       " 0.019226455263551323,\n",
       " 0.0008353669927373408,\n",
       " 0.0032424048559783203,\n",
       " 0.001911842560145427,\n",
       " 0.028493124096674927,\n",
       " 0.009969277625682116,\n",
       " 0.008953571467514299,\n",
       " 0.00048775157927627433,\n",
       " 0.0034253792289280216,\n",
       " 0.0818496251346752,\n",
       " 0.02108027720245892,\n",
       " 0.006119028174467689,\n",
       " 0.04163645789333659,\n",
       " 0.005022756669263995,\n",
       " 0.052941399673847145,\n",
       " 0.018467543008407306,\n",
       " 0.012142973043502203,\n",
       " 0.14479305047631663,\n",
       " 0.09930936087354991,\n",
       " 0.0038841859741072238,\n",
       " 0.1771490869402801,\n",
       " 0.009606785315039668,\n",
       " 0.0013698739552130412,\n",
       " 0.0015947744529019592,\n",
       " 0.00019472416534022097,\n",
       " 0.03226178744221331,\n",
       " 0.01974600233955781,\n",
       " 0.012346528540015111,\n",
       " 0.017444116811110633,\n",
       " 0.011842866094817994,\n",
       " 0.012832915858169092,\n",
       " 0.015199968139892661,\n",
       " 0.003112886181255492,\n",
       " 0.01548190436457042,\n",
       " 0.08037731755020194,\n",
       " 0.040898536677771324,\n",
       " 0.019743782186199765,\n",
       " 0.015663898082189848,\n",
       " 0.023509524148161987,\n",
       " 0.0009380286636050394,\n",
       " 0.06409754860807759,\n",
       " 0.05095524449948874,\n",
       " 0.09060509851258436,\n",
       " 0.0015906316099190687,\n",
       " 0.057688292522815154,\n",
       " 0.042838616640037075,\n",
       " 0.09493663054656443,\n",
       " 0.006510851874056978,\n",
       " 0.019642661867754874,\n",
       " 0.036183358711173286,\n",
       " 0.0026101421213076126,\n",
       " 0.015895024708358685,\n",
       " 0.03941658971654377,\n",
       " 0.015725954442553036,\n",
       " 0.002503578027274189,\n",
       " 0.050119016952495765,\n",
       " 0.11963778095584421,\n",
       " 0.0037986228359378482,\n",
       " 0.19110122949338382,\n",
       " 0.07418501041126757,\n",
       " 0.01099946839614696,\n",
       " 0.1352544079931841,\n",
       " 0.001634014831534747,\n",
       " 0.007246334801474352,\n",
       " 0.06874190023861859,\n",
       " 0.0061328245321330965,\n",
       " 0.00447617406335038,\n",
       " 0.011413913019439281,\n",
       " 0.004256190994813613,\n",
       " 0.05835327596962703,\n",
       " 0.0007233327416710511,\n",
       " 0.003162290089945341,\n",
       " 0.00398653181698283,\n",
       " 0.030467027748712683,\n",
       " 0.019977130796409392,\n",
       " 9.509224684400852e-05,\n",
       " 0.0004949514749306855,\n",
       " 0.006993240786476396,\n",
       " 0.019430617251135707,\n",
       " 0.001599846719268494,\n",
       " 0.031518037080955574,\n",
       " 0.013322782827414559,\n",
       " 0.013370987719589375,\n",
       " 0.0031305531874142034,\n",
       " 0.012902159720390716,\n",
       " 0.000663078648422244,\n",
       " 0.0025061350527003645,\n",
       " 0.11093813151457088,\n",
       " 0.0010770246216768031,\n",
       " 0.011979939948173812,\n",
       " 0.001226766047313449,\n",
       " 0.0033737123690936177,\n",
       " 0.007498375688800907,\n",
       " 0.019998470171060434,\n",
       " 0.023546098150728723,\n",
       " 0.00036338781026495903,\n",
       " 0.3347003583268786,\n",
       " 0.005066259458149647,\n",
       " 0.12262250246887718,\n",
       " 0.007140806711736225,\n",
       " 0.005286578444403278,\n",
       " 0.03468446952602422,\n",
       " 0.011817119109584343,\n",
       " 0.5855225887649103,\n",
       " 0.1292630613930914,\n",
       " 0.012024295917882788,\n",
       " 0.07797697820402849,\n",
       " 0.012089578218136776,\n",
       " 0.09220735768438626,\n",
       " 0.0006593286528268627,\n",
       " 0.030736365155120238,\n",
       " 0.07514436342247222,\n",
       " 0.08086495949466488,\n",
       " 0.0036016000124943215,\n",
       " 0.003229976002287638,\n",
       " 0.0008774018970681974,\n",
       " 0.025205821104920423,\n",
       " 0.0304125831391745,\n",
       " 0.00143120884159062,\n",
       " 0.014309692950666197,\n",
       " 0.011329819709143374,\n",
       " 0.0005534665919373349,\n",
       " 0.011084739786276332,\n",
       " 0.006309024237057093,\n",
       " 0.001766932794872722,\n",
       " 0.1497261246744117,\n",
       " 0.008284601941091485,\n",
       " 0.00022201980096364649,\n",
       " 0.0023026316074062914,\n",
       " 0.002964255291067419,\n",
       " 0.0008933995916422521,\n",
       " 0.009183191211354469,\n",
       " 0.0023620070108115176,\n",
       " 0.019183278269433224,\n",
       " 0.053423373113423045,\n",
       " 0.15114219152207875,\n",
       " 0.000642988735929273,\n",
       " 0.002013482573715031,\n",
       " 0.004390796773763805,\n",
       " 0.011918136078735042,\n",
       " 0.02915758312189276,\n",
       " 0.005816622930596371,\n",
       " 0.011913047350345152,\n",
       " 0.015390957494658186,\n",
       " 0.020023882360930556,\n",
       " 0.09634437643614846,\n",
       " 0.01908885225892637,\n",
       " 0.02161396729770443,\n",
       " 0.05676201409325854,\n",
       " 0.030621125513985492,\n",
       " 0.05219016001540844,\n",
       " 0.1092152686713126,\n",
       " 0.04260067089946673,\n",
       " 0.015221416922155562,\n",
       " 0.003041737291871377,\n",
       " 0.0026101670598339677,\n",
       " 0.1071261828570007,\n",
       " 0.0016937769665829605,\n",
       " 0.039232345923163436,\n",
       " 0.05030821471149616,\n",
       " 0.03230618596826207,\n",
       " 0.014513677924764268,\n",
       " 0.06810331455181484,\n",
       " 0.01958825121939195,\n",
       " 0.0007573477270508278,\n",
       " 0.0007874231523205266,\n",
       " 7.917600874843278e-05,\n",
       " 0.011678766933051588,\n",
       " 0.09963091825599246,\n",
       " 0.012617783957063644,\n",
       " 0.0007247148314711294,\n",
       " 0.015783639928646287,\n",
       " 0.03871077278110219,\n",
       " 0.14674468010538844,\n",
       " 0.08530098573756373,\n",
       " 0.03234858014783626,\n",
       " 0.05906596551997656,\n",
       " 0.0035973207386383876,\n",
       " 0.013152929875357156,\n",
       " 0.029044066880550057,\n",
       " 0.004913222780872806,\n",
       " 0.03578592795336677,\n",
       " 0.01739539526331918,\n",
       " 0.0008305888076592383,\n",
       " 0.004965635339626018,\n",
       " 0.005437203564428367,\n",
       " 0.006134527940945544,\n",
       " 0.0019816581873936534,\n",
       " 0.003932411660612201,\n",
       " 0.03493540715010446,\n",
       " 0.06537556230132835,\n",
       " 0.14555518225888298,\n",
       " 0.03650136279604965,\n",
       " 0.0017025397455741609,\n",
       " 0.011304904025765672,\n",
       " 0.018538811415100775,\n",
       " 0.005525357238416739,\n",
       " 0.015788224275223084,\n",
       " 0.005893965539177426,\n",
       " 0.18477529432868778,\n",
       " 0.0116191123145431,\n",
       " 0.010460533574781328,\n",
       " 0.04232646518976618,\n",
       " 0.02358733100485566,\n",
       " 0.014111406586195807,\n",
       " 0.0495795387448521,\n",
       " 0.031827652621232994,\n",
       " 0.004349257991030975,\n",
       " 0.017689484824070956,\n",
       " 0.16279283107561504,\n",
       " 0.0485119534044437,\n",
       " 0.2707611161640662,\n",
       " 0.002432457061554566,\n",
       " 0.06508103262281228,\n",
       " 0.04384282568619002,\n",
       " 0.006509181298439803,\n",
       " 0.13634383223362445,\n",
       " 0.006725151042826338,\n",
       " 0.01605064737702938,\n",
       " 0.0005164509960278174,\n",
       " 0.01016239976806993,\n",
       " 0.005865958993596543,\n",
       " 0.07715610229249381,\n",
       " 0.0016474501990974,\n",
       " 0.011585954404704613,\n",
       " 0.0075068828275648425,\n",
       " 0.005616910174954637,\n",
       " 0.5798639105981089,\n",
       " 0.0190162813318826,\n",
       " 0.0025317430328841706,\n",
       " 0.0005546895072645053,\n",
       " 0.000851929026714493,\n",
       " 0.03637963604530392,\n",
       " 0.02653743351174831,\n",
       " 0.09010394237289354,\n",
       " 0.0026365722692507365,\n",
       " 0.017539517227139312,\n",
       " 0.0739738529776035,\n",
       " 0.022229498060007957,\n",
       " 0.28822168915004287,\n",
       " 0.004945870483891168,\n",
       " 0.06862939961031644,\n",
       " 0.013422146128768908,\n",
       " 0.003941551014506661,\n",
       " 0.009195708307677464,\n",
       " 4.207338570610952e-05,\n",
       " 0.0030001696617706075,\n",
       " 0.021575244350037215,\n",
       " 0.0011680960832594067,\n",
       " 0.006719556465480669,\n",
       " 0.021852352517677476,\n",
       " 0.05040517487249474,\n",
       " 0.098418196752869,\n",
       " 0.17507113903688487,\n",
       " 0.15072264650037015,\n",
       " 0.0303891380451492,\n",
       " 0.24640423946476253,\n",
       " 0.008224371367062888,\n",
       " 0.029199652426642686,\n",
       " 0.03443831685470544,\n",
       " 0.03229159236124057,\n",
       " 0.001254631958570257,\n",
       " 0.06356524698497612,\n",
       " 0.07186041546242361,\n",
       " 0.0012970439359744068,\n",
       " 0.0009358076698267603,\n",
       " 0.007822865707405424,\n",
       " 0.4278184562503027,\n",
       " 0.014071728729220634,\n",
       " 0.1437368405328363,\n",
       " 0.003586803543415479,\n",
       " 0.015977491559102608,\n",
       " 0.019853699826459403,\n",
       " 0.0019639064033502573,\n",
       " 0.007271086585417086,\n",
       " 0.02716297413389368,\n",
       " 0.004117056373160205,\n",
       " 0.001434560172399929,\n",
       " 0.11815105727192488,\n",
       " 0.013163247048381121,\n",
       " 0.02270358668938377,\n",
       " 0.08814036113018542,\n",
       " 0.0016818870801244834,\n",
       " 0.01938469664016579,\n",
       " 0.0018148317171085004,\n",
       " 0.041212999532070804,\n",
       " 0.019689002345588014,\n",
       " 0.017987798163643376,\n",
       " 0.0012512943309326563,\n",
       " 0.012585745234874823,\n",
       " 0.001235336382500618,\n",
       " 0.006224993587695737,\n",
       " 0.03314860818520149,\n",
       " 0.043206119413147226,\n",
       " 0.005979116649644234,\n",
       " 0.005491167008642717,\n",
       " 0.028645390860116082,\n",
       " 0.034007294025964585,\n",
       " 0.005603204368353543,\n",
       " 0.019854100374702477,\n",
       " 0.20245775057789084,\n",
       " 0.0008694369330204954,\n",
       " 0.0362171866024692,\n",
       " 0.0004723210180090087,\n",
       " 0.2437969892441465,\n",
       " 0.0189180016082387,\n",
       " 0.0016043091226002337,\n",
       " 0.0005539011634778657,\n",
       " 0.002567431646482099,\n",
       " 0.0036334906677147893,\n",
       " 0.018590898365827113,\n",
       " 0.0003267084358889172,\n",
       " 0.0054203731946768086,\n",
       " 0.09888638234299485,\n",
       " 0.0012587274300656093,\n",
       " 0.1418455431145853,\n",
       " 0.38981041066855404,\n",
       " 0.032388784665785875,\n",
       " 0.03812503598663641,\n",
       " 0.01601324454909303,\n",
       " 0.03584816953728026,\n",
       " 0.13495544345160182,\n",
       " 0.14444912498775997,\n",
       " 0.006134256457884568,\n",
       " 0.0553468642342342,\n",
       " 0.008246195712416138,\n",
       " 0.004145340042948642,\n",
       " 0.013627357411708119,\n",
       " 0.00015384465687975912,\n",
       " 0.0459397972401383,\n",
       " 0.06310032022654588,\n",
       " 0.03374618888429497,\n",
       " 0.003941177811525143,\n",
       " 0.11150099862273966,\n",
       " 0.016525731235901564,\n",
       " 0.07292505326799259,\n",
       " 0.0018772313616946534,\n",
       " 0.12981832931561588,\n",
       " 0.0005135314174034011,\n",
       " 0.0023920031832902477,\n",
       " 0.011501285769710101,\n",
       " 0.437330685159254,\n",
       " 0.1184490638874891,\n",
       " 0.04669350450223603,\n",
       " 0.15767398857258397,\n",
       " 0.039085177100699364,\n",
       " 0.040098228087965815,\n",
       " 0.027316765040731217,\n",
       " 0.0010298626515950204,\n",
       " 0.020616959910236266,\n",
       " 0.009594740095852039,\n",
       " 0.001895720654849109,\n",
       " 0.0025817613145128204,\n",
       " 0.006501028930530728,\n",
       " 0.010230117335759514,\n",
       " 0.004903531871380873,\n",
       " 0.004286168467761364,\n",
       " 0.0021101568037070195,\n",
       " 0.002340708255975127,\n",
       " 0.02423748761811817,\n",
       " 0.0928961444193685,\n",
       " 0.14030933734927764,\n",
       " 0.0017572904643459175,\n",
       " 0.16900881179924232,\n",
       " 0.0007906964674727623,\n",
       " 0.0034640694492603097,\n",
       " 0.07341930273233421,\n",
       " 0.04712239125109208,\n",
       " 0.00361142280855542,\n",
       " 0.020930406282316127,\n",
       " 0.004047692296504257,\n",
       " 0.00021604206417674687,\n",
       " 0.0030213600641005867,\n",
       " 0.008883299259332011,\n",
       " 0.10052702094406474,\n",
       " 0.0012024074931966111,\n",
       " 0.04867517708296937,\n",
       " 0.025807730638078896,\n",
       " 0.0007087591233153057,\n",
       " 0.010255022721560425,\n",
       " 0.001137384366297567,\n",
       " 0.005039909312927027,\n",
       " 0.0012786591794118896,\n",
       " 0.006941032426455829,\n",
       " 0.027651913098812875,\n",
       " 0.21180185878213287,\n",
       " 0.012907473825546023,\n",
       " 0.49715844644353613,\n",
       " 0.0010481392953428093,\n",
       " 0.09645764952445424,\n",
       " 0.0003647561604158134,\n",
       " 0.054785648131729814,\n",
       " 0.004666704335005267,\n",
       " 0.007788203013081307,\n",
       " 0.001892402007983851,\n",
       " 0.022612264946273553,\n",
       " 0.02330959693337764,\n",
       " 0.00025873311308721725,\n",
       " 0.04759310805398703,\n",
       " 0.02417951768081128,\n",
       " 0.010099196419085743,\n",
       " 0.10853803214870839,\n",
       " 0.09020678426436612,\n",
       " 0.03435312308004085,\n",
       " 0.000445279445017821,\n",
       " 0.0002977366102883683,\n",
       " 0.018963547623072285,\n",
       " 0.0016924926252965267,\n",
       " 0.004693639503914548,\n",
       " 0.03372517654408069,\n",
       " 0.0020101014297027042,\n",
       " 0.001734568951734905,\n",
       " 0.005740953800080051,\n",
       " 0.017029784777513046,\n",
       " 0.18985600239034506,\n",
       " 0.011523153848337964,\n",
       " 0.033935819528668865,\n",
       " 0.03616401403896302,\n",
       " 0.013005030260619332,\n",
       " 0.15281416772823597,\n",
       " 0.32542733067317187,\n",
       " 0.0037849419607097756,\n",
       " 0.01360571148003309,\n",
       " 0.005379288121230286,\n",
       " 0.0003122111683969142,\n",
       " 0.018393755232465114,\n",
       " 0.034453799627860326,\n",
       " 0.003977853792135833,\n",
       " 0.2274872458067052,\n",
       " 0.01898984379793417,\n",
       " 0.026333945490292415,\n",
       " 0.0429646830770537,\n",
       " 0.05469535832782246,\n",
       " 0.010964133880581317,\n",
       " 0.0068143945095940905,\n",
       " 0.06415261660844407,\n",
       " 0.03553019474808672,\n",
       " 0.017143053805807273,\n",
       " 0.11793993189221386,\n",
       " 0.06350106255973076,\n",
       " 0.00418945559917111,\n",
       " 0.009676020910651562,\n",
       " 0.03082433812882196,\n",
       " 0.1632071972144522,\n",
       " 0.00041983039565235414,\n",
       " 0.006623876770777637,\n",
       " 0.08959763016314692,\n",
       " 0.014965127731348282,\n",
       " 0.032416192004793676,\n",
       " 0.012855821635604961,\n",
       " 0.04800316018447104,\n",
       " 0.029046256867521825,\n",
       " 0.002724590018707229,\n",
       " 0.03260419800571773,\n",
       " 0.0003802824199468646,\n",
       " 0.010386619617972381,\n",
       " 0.005595578323855821,\n",
       " 0.005204238645225845,\n",
       " 0.007147707407750614,\n",
       " 0.02023418706723673,\n",
       " 0.011885759699604814,\n",
       " 0.005489625113956231,\n",
       " 0.03609607381621116,\n",
       " 0.0010813870786909874,\n",
       " 0.019993248607432346,\n",
       " 0.021993674111054573,\n",
       " 0.004253904907760342,\n",
       " 0.016241264469741,\n",
       " 0.10510333167045749,\n",
       " 0.0017504815129744111,\n",
       " 0.011413657491960494,\n",
       " 0.0049595962484205725,\n",
       " 0.0886341223225453,\n",
       " 0.004669005178651681,\n",
       " 0.5309933697552087,\n",
       " 0.005976353910174037,\n",
       " 0.002808428532088264,\n",
       " 0.056083892698332694,\n",
       " 0.00011972904586440847,\n",
       " 0.007655913144146709,\n",
       " 0.02309775424297733,\n",
       " 0.04194608473033201,\n",
       " 0.004478565352348307,\n",
       " 0.00394072245375543,\n",
       " 0.030657266470152322,\n",
       " 0.017592242476883235,\n",
       " 0.006407926057244828,\n",
       " 0.01080990389752895,\n",
       " 0.011429728444575238,\n",
       " 0.00371278424759669,\n",
       " 0.016899124110520303,\n",
       " 0.00961021480268709,\n",
       " 0.018987558143699956,\n",
       " 0.002994608517787878,\n",
       " 0.005925920842375587,\n",
       " 0.014570327595141097,\n",
       " 0.046591360980061836,\n",
       " 4.373065143675747e-05,\n",
       " 0.10068634336145421,\n",
       " 0.04158392732187044,\n",
       " 0.020044125569932625,\n",
       " 0.15617254429112437,\n",
       " 0.014813513600311523,\n",
       " 0.023237400031850597,\n",
       " 0.004183062660599479,\n",
       " 0.005954642748530969,\n",
       " 0.03012631319995418,\n",
       " 0.035649748075221144,\n",
       " 0.018498643426157035,\n",
       " 0.3800804074063686,\n",
       " 0.13867241890799986,\n",
       " 0.11561870827877385,\n",
       " 0.0031263136922340673,\n",
       " 0.019936974405023955,\n",
       " 0.0002589850026167295,\n",
       " 0.015269285816700895,\n",
       " 0.03982141782501747,\n",
       " 0.020884860704146635,\n",
       " 0.03242736941849267,\n",
       " 0.00627800610585183,\n",
       " 0.29538438763660313,\n",
       " 0.0030340118124579374,\n",
       " 0.0002974480957616543,\n",
       " 0.018394084383955622,\n",
       " 0.010455257836575416,\n",
       " 0.0004282240783717306,\n",
       " 0.00718407409248889,\n",
       " 0.032273778441368695,\n",
       " 0.07284477974162762,\n",
       " 0.026188086759036056,\n",
       " 0.0019166325512283977,\n",
       " 0.00463951023301834,\n",
       " 0.028525167036694887,\n",
       " 0.009985596461059454,\n",
       " 0.01946295026476208,\n",
       " 0.0172053970604662,\n",
       " 0.023336285865464435,\n",
       " 0.010225498350118656,\n",
       " 0.04021900553041963,\n",
       " 0.018003683018044836,\n",
       " 0.15911318169989186,\n",
       " 0.1973616401853311,\n",
       " 0.0009610676670646634,\n",
       " 0.0036447811199212254,\n",
       " 0.0013019094066265557,\n",
       " 0.026876293598179668,\n",
       " 0.01470852448487392,\n",
       " 0.028123409177646774,\n",
       " 0.04096906965914193,\n",
       " 0.0002894363464600591,\n",
       " 0.004337813136905788,\n",
       " 0.016207371138247828,\n",
       " 0.2346808619508376,\n",
       " 0.439005772695787,\n",
       " 0.2236834259116065,\n",
       " 0.028011289588477317,\n",
       " 0.006131453030046252,\n",
       " 0.02898883786665274,\n",
       " 0.009224787468244011,\n",
       " 0.0072557127582669745,\n",
       " 0.2041165344221323,\n",
       " 0.10989500375452854,\n",
       " 0.004429699097032669,\n",
       " 0.1050975664100533,\n",
       " 0.0022027930725526668,\n",
       " 0.05134499938116255,\n",
       " 0.07926214434933843,\n",
       " 0.012530657250868493,\n",
       " 0.14269334530466804,\n",
       " 0.02652789696238045,\n",
       " 0.006174644539099938,\n",
       " 0.00012806199268727836,\n",
       " 0.03487254784807142,\n",
       " 0.0043665879390734075,\n",
       " 0.0668615698388988,\n",
       " 0.013640304486498556,\n",
       " 0.034166577620080685,\n",
       " 0.0013280070510166553,\n",
       " 0.1316809413988893,\n",
       " 0.0021705351798509964,\n",
       " 0.011189645746746135,\n",
       " 0.02451080311084186,\n",
       " 0.00513670231270702,\n",
       " 0.09304834106949078,\n",
       " 0.0014013297240900169,\n",
       " 0.035723899959296146,\n",
       " 0.0009916592203020325,\n",
       " 0.003979314152834923,\n",
       " 0.0008016090958344879,\n",
       " 0.003685835607247223,\n",
       " 0.04434855563615381,\n",
       " 0.03570215133278798,\n",
       " 0.05874953125386584,\n",
       " 0.005720167322570802,\n",
       " 0.14498190025198499,\n",
       " 0.1240816385396517,\n",
       " 0.03169218138361174,\n",
       " 0.0057668491074645,\n",
       " 0.0042438940731331365,\n",
       " 0.001510724137458952,\n",
       " 0.0013585073735032926,\n",
       " 0.002091999869715866,\n",
       " 0.01120956957308647,\n",
       " 0.057647766063863126,\n",
       " 0.024326549069020764,\n",
       " 0.07601693202541537,\n",
       " 0.15460448022281081,\n",
       " 0.08169226396428342,\n",
       " 0.08675225182278434,\n",
       " 0.03245741167793441,\n",
       " 0.0027296915393675847,\n",
       " 0.002975838117954155,\n",
       " 0.0016050453080169724,\n",
       " 0.032131215829660276,\n",
       " 0.003889154565935582,\n",
       " 0.011043591145977416,\n",
       " 0.07954134059165319,\n",
       " 0.0018110305186962439,\n",
       " 0.03624366623556563,\n",
       " 0.00018178953466890801,\n",
       " 0.0034512804424536303,\n",
       " 0.10509486288651826,\n",
       " 0.03713477406909749,\n",
       " 0.021377391443471838,\n",
       " 0.003716983386784778,\n",
       " 0.0007649970279797746,\n",
       " 0.08138332884606081,\n",
       " 0.003379216352464187,\n",
       " 0.03966887706786704,\n",
       " 0.1420691154115734,\n",
       " 0.0033605427057231407,\n",
       " 0.05065574491573832,\n",
       " 0.034531116559884834,\n",
       " 0.02477696351370673,\n",
       " 0.022273741843759853,\n",
       " 0.03543547766473587,\n",
       " 0.0017465479173944254,\n",
       " 0.04201229302554131,\n",
       " 0.00472143966004257,\n",
       " 0.14884906859425961,\n",
       " 0.03353976226302924,\n",
       " 0.07681817702123905,\n",
       " 0.002529667617910125,\n",
       " 0.12700399243326388,\n",
       " 0.0009716981291402194,\n",
       " 0.004083677369636607,\n",
       " 0.0500046158904337,\n",
       " 0.004352845679281403,\n",
       " 0.003195080562421071,\n",
       " 0.005303269113975384,\n",
       " 0.026627513574723954,\n",
       " 0.04416437056058942,\n",
       " 0.010270771464525708,\n",
       " 0.018998985192869966,\n",
       " 0.15287428896995947,\n",
       " 0.00018962560477964185,\n",
       " 0.00310785119445417,\n",
       " 0.0056675436456325445,\n",
       " 0.07117572087629154,\n",
       " 0.07935329481486875,\n",
       " 0.0017117719829076727,\n",
       " 0.009166100483306738,\n",
       " 0.03474758817029397,\n",
       " 0.03628047928451761,\n",
       " 0.2280697577026487,\n",
       " 0.28622216100381603,\n",
       " 0.005195205002117009,\n",
       " 0.022046019122879068,\n",
       " 0.037594791392095206,\n",
       " 0.035251290608465935,\n",
       " 0.22833940895909222,\n",
       " 0.001136977660168459,\n",
       " 0.005209433860452806,\n",
       " 0.004211064209482418,\n",
       " 0.025156211364765313,\n",
       " 0.017998653913438745,\n",
       " 0.09954868462425748,\n",
       " 0.0038003844731306358,\n",
       " 0.14774012229649158,\n",
       " 0.012028360412048411,\n",
       " 0.00756873210753406,\n",
       " 0.002027990746534203,\n",
       " 0.00044719084007838195,\n",
       " 0.014179508840006294,\n",
       " 0.017775955743245364,\n",
       " 0.0012564832943381954,\n",
       " 0.044976773137372694,\n",
       " 0.004639022306525409,\n",
       " 0.023047205470459353,\n",
       " 0.001886041017575224,\n",
       " 0.004564499461156057,\n",
       " 0.010610310042440396,\n",
       " 0.1849474271010696,\n",
       " 0.04855353342445912,\n",
       " 0.07533329307773529,\n",
       " 0.287667280875997,\n",
       " 0.10104191055689893,\n",
       " 0.01844886604107343,\n",
       " 0.11075188590021989,\n",
       " 0.006486535114498343,\n",
       " 0.037543630616115986,\n",
       " 0.02815158494142944,\n",
       " 0.02819634392230619,\n",
       " 0.01868740943448599,\n",
       " 0.011401448602364361,\n",
       " 0.001770803995404191,\n",
       " 0.014915476395600313,\n",
       " 0.013049125879867562,\n",
       " 0.00435143188138809,\n",
       " 0.04464267540864375,\n",
       " 0.03689423438451578,\n",
       " 0.0034574904363975367,\n",
       " 0.006245002387877285,\n",
       " 0.0028797716040679378,\n",
       " 0.008387483025041775,\n",
       " 0.002181456768663409,\n",
       " 0.035619359249458915,\n",
       " 0.014288139508306152,\n",
       " 0.012255516960773927,\n",
       " 0.012442537752117733,\n",
       " 0.005195856974393287,\n",
       " 0.020818719226006643,\n",
       " 0.010316013498988919,\n",
       " 0.0040751864993638365,\n",
       " 0.006037260540593836,\n",
       " 0.005024271978230743,\n",
       " 0.00823196305036289,\n",
       " 0.010332090770418079,\n",
       " 0.002788774168365815,\n",
       " 0.012983536728067735,\n",
       " 0.0024913181308530152,\n",
       " 0.08998629205362163,\n",
       " 0.002955050369887413,\n",
       " 0.07807589017609029,\n",
       " 0.0007536313555808749,\n",
       " 0.03573183162844029,\n",
       " 0.0003290054634980666,\n",
       " 0.000556404526870502,\n",
       " 0.022398668476263206,\n",
       " 0.037790226844999386,\n",
       " 1.8945797774283513e-05,\n",
       " 0.03282150797317451,\n",
       " 0.021670389991384598,\n",
       " 0.01908116111715663,\n",
       " 0.004650064522555397,\n",
       " 0.011138637864552825,\n",
       " 0.011965363757957592,\n",
       " 0.04259861657296732,\n",
       " 0.02699417084854755,\n",
       " 0.03946693165162085,\n",
       " 0.2165418154688057,\n",
       " 0.03131043187520771,\n",
       " 0.00439807870854686,\n",
       " 0.0024579404368159363,\n",
       " 0.03329519915330725,\n",
       " 0.030085682756397558,\n",
       " 0.02905541985623805,\n",
       " 0.013110759782551273,\n",
       " 0.031110363326811163,\n",
       " 0.0003238645953994035,\n",
       " 0.16904613466824658,\n",
       " 0.004036892184144325,\n",
       " 0.0016022255284783293,\n",
       " 0.006970934288360375,\n",
       " 0.021219502578720628,\n",
       " 0.008448281601893759,\n",
       " 0.009527931188710648,\n",
       " 0.0007802193265827317,\n",
       " 0.005433173163626792,\n",
       " 0.15388179825025605,\n",
       " 0.016965566477895544,\n",
       " 0.15275328304155456,\n",
       " 0.009817367793458653,\n",
       " 0.03824257916247775,\n",
       " 0.03977661309328895,\n",
       " 0.035967747974725905,\n",
       " 0.006760492919126837,\n",
       " 0.0014076270562396465,\n",
       " 0.002599926356325888,\n",
       " 0.0026634985075930095,\n",
       " 0.01826090125092178,\n",
       " 0.16289146375422092,\n",
       " 0.020987526969775683,\n",
       " 0.01126527684544587,\n",
       " 0.002166744075414645,\n",
       " 0.021832842052603163,\n",
       " 0.14797213864970393,\n",
       " 0.08858231249024784,\n",
       " 0.05496430236945993,\n",
       " 0.012156591021576957,\n",
       " 0.00398892628626199,\n",
       " 0.0157001734625426,\n",
       " 0.06372817108038054,\n",
       " 0.005050318618619792,\n",
       " 0.003934901355872045,\n",
       " 0.0015000098676175022,\n",
       " 0.00576291759438613,\n",
       " 0.005126830855632758,\n",
       " 0.048270082187604535,\n",
       " 0.003187352199696014,\n",
       " 0.007709495187361581,\n",
       " 0.0010578298340873649,\n",
       " 0.10680885489182157,\n",
       " 0.008164364192169371,\n",
       " 0.0023235610611050395,\n",
       " 0.005549356136795414,\n",
       " 0.003256857149273873,\n",
       " 0.012892165053582816,\n",
       " 0.005050472302803921,\n",
       " 0.036935006456173314,\n",
       " 0.016632527654857787,\n",
       " 0.13084896135026636,\n",
       " 0.005435540881667533,\n",
       " 0.0036952581475098167,\n",
       " 0.0010534775102616634,\n",
       " 0.02490115224925682,\n",
       " 0.015026098686414247,\n",
       " 0.10507008449527744,\n",
       " 0.018823998547782272,\n",
       " 0.004254050317457625,\n",
       " 0.02344632725721063,\n",
       " 0.003085864628408319,\n",
       " 0.0021468056455478113,\n",
       " 0.008359402662601378,\n",
       " 0.0023452849967033895,\n",
       " 0.005684024134311294,\n",
       " 7.207901534991845e-05,\n",
       " 0.11218688338921101,\n",
       " 0.005172159127864284,\n",
       " 0.0013258701929053096,\n",
       " 0.06896065435324394,\n",
       " 0.00732600358388702,\n",
       " 0.08996650007474716,\n",
       " 0.007552269093221292,\n",
       " 0.1323068354789283,\n",
       " 0.001391058359184627,\n",
       " 0.031194895034125425,\n",
       " 0.0057601433692386905,\n",
       " 0.03587695222549292,\n",
       " 0.0525762134223931,\n",
       " 0.1082525854222931,\n",
       " 0.05568685689599018,\n",
       " 0.03918814879300081,\n",
       " 0.1776073876842872,\n",
       " 0.18347803020487197,\n",
       " 0.023405330872982633,\n",
       " 0.017979741336251853,\n",
       " 0.03367928500312245,\n",
       " 0.006644593836124368,\n",
       " 0.01641921370533611,\n",
       " 0.11594450958721025,\n",
       " 0.000797791976459572,\n",
       " 0.11669717846298466,\n",
       " 0.04766147027645529,\n",
       " 0.012893749075726268,\n",
       " 0.010943656714036465,\n",
       " 0.009297190885257378,\n",
       " 0.16850073673635402,\n",
       " 0.02445267887006075,\n",
       " 0.002034749370774247,\n",
       " 7.334312341816807e-05,\n",
       " 0.005671790537895682,\n",
       " 0.006925207224603491,\n",
       " 0.013929916994128821,\n",
       " 0.004945563738260411,\n",
       " 0.001902177782909742,\n",
       " 0.21745671661889743,\n",
       " 0.03767617010523472,\n",
       " 0.00516451525722339,\n",
       " 0.10861638234631887,\n",
       " 0.0009464555499147098,\n",
       " 0.0015512180587010649,\n",
       " 0.019154436691499077,\n",
       " 0.008246195712416138,\n",
       " ...]"
      ]
     },
     "execution_count": 23,
     "metadata": {},
     "output_type": "execute_result"
    }
   ],
   "source": [
    "diff"
   ]
  },
  {
   "cell_type": "code",
   "execution_count": 24,
   "metadata": {},
   "outputs": [
    {
     "data": {
      "text/plain": [
       "0.8212087765067898"
      ]
     },
     "execution_count": 24,
     "metadata": {},
     "output_type": "execute_result"
    }
   ],
   "source": [
    "threshold = plot[1][i]\n",
    "thresh_classification = [0 if x < threshold else 1 for x in diff]\n",
    "\n",
    "accuracy = sum([1 if i == j else 0 for i, j in zip(thresh_classification, y_test)]) / len(y_test)\n",
    "accuracy"
   ]
  },
  {
   "cell_type": "markdown",
   "metadata": {},
   "source": [
    "### LSTM w/ timeseries"
   ]
  },
  {
   "cell_type": "markdown",
   "metadata": {},
   "source": [
    "This creates timesteps that are 1 day apart. However, each day does not have an equal number of datapoints"
   ]
  },
  {
   "cell_type": "code",
   "execution_count": 25,
   "metadata": {},
   "outputs": [],
   "source": [
    "# def get_days(x, i, current_time):\n",
    "#     start_day = current_time\n",
    "#     while current_time == start_day and i < len(x):\n",
    "#         current_time = x.iloc[i]['date']\n",
    "#         i+=1\n",
    "#     return i, current_time\n",
    "\n",
    "\n",
    "# def to_sequences(x, y):\n",
    "#     x_values = []\n",
    "#     y_values = []\n",
    "#     current_time = x['date'].iloc[0]\n",
    "#     end_time = x['date'].iloc[-1]\n",
    "#     j = 0\n",
    "#     while current_time <= end_time:\n",
    "#         step, next_day = get_days(x,j,current_time)\n",
    "#         if step < len(x):\n",
    "#             x_values.append(x.iloc[j:step].values)\n",
    "#             y_values.append(y.iloc[step])            \n",
    "#             current_time = next_day\n",
    "#         else:\n",
    "#             x_values.append(x.iloc[j:step-1].values)\n",
    "#             y_values.append(y.iloc[step-1])\n",
    "#             break   \n",
    "#         j=step\n",
    "#     return np.array(x_values), np.array(y_values)"
   ]
  },
  {
   "cell_type": "markdown",
   "metadata": {},
   "source": [
    "Seperates into equal siaed timesteps"
   ]
  },
  {
   "cell_type": "code",
   "execution_count": 27,
   "metadata": {},
   "outputs": [],
   "source": [
    "def to_sequences_homogenous(x, y, seq_size=1):\n",
    "    x_values = [x.iloc[i:(i+seq_size)].values for i in range(len(x)-seq_size)]\n",
    "    y_values = [y.iloc[i:i+seq_size] for i in range(len(x)-seq_size)]\n",
    "        \n",
    "    return np.array(x_values), np.array(y_values)"
   ]
  },
  {
   "cell_type": "markdown",
   "metadata": {},
   "source": [
    "Pick timesteps and split into train and test"
   ]
  },
  {
   "cell_type": "code",
   "execution_count": 28,
   "metadata": {},
   "outputs": [],
   "source": [
    "# xtrain, ytrain = to_sequences(df, df.drop('date', axis=1))\n",
    "X_timeseries, _ = to_sequences_homogenous(df, df, 50)"
   ]
  },
  {
   "cell_type": "code",
   "execution_count": 30,
   "metadata": {},
   "outputs": [
    {
     "name": "stderr",
     "output_type": "stream",
     "text": [
      "C:\\Users\\zlaw6\\AppData\\Local\\Temp\\ipykernel_32648\\2723171822.py:1: FutureWarning: The behavior of `series[i:j]` with an integer-dtype index is deprecated. In a future version, this will be treated as *label-based* indexing, consistent with e.g. `series[i]` lookups. To retain the old behavior, use `series.iloc[i:j]`. To get the future behavior, use `series.loc[i:j]`.\n",
      "  X_train, X_test, y_train, y_test = train_test_split(X_timeseries, y[:-50], test_size=0.33, random_state=42)\n"
     ]
    }
   ],
   "source": [
    "X_train, X_test, y_train, y_test = train_test_split(X_timeseries, y[:-50], test_size=0.33, random_state=42)"
   ]
  },
  {
   "cell_type": "markdown",
   "metadata": {},
   "source": [
    "Creates model: encoder has 1 LSTM layer and dropoout layer, repeat vector, and decoder has 1 LSTM and dropout layer and then processes timeseries data with the TimeDistributed wrapper "
   ]
  },
  {
   "cell_type": "code",
   "execution_count": 31,
   "metadata": {},
   "outputs": [
    {
     "name": "stdout",
     "output_type": "stream",
     "text": [
      "Model: \"sequential_1\"\n",
      "_________________________________________________________________\n",
      " Layer (type)                Output Shape              Param #   \n",
      "=================================================================\n",
      " lstm (LSTM)                 (None, 128)               70656     \n",
      "                                                                 \n",
      " dropout (Dropout)           (None, 128)               0         \n",
      "                                                                 \n",
      " repeat_vector (RepeatVector  (None, 50, 128)          0         \n",
      " )                                                               \n",
      "                                                                 \n",
      " lstm_1 (LSTM)               (None, 50, 128)           131584    \n",
      "                                                                 \n",
      " dropout_1 (Dropout)         (None, 50, 128)           0         \n",
      "                                                                 \n",
      " time_distributed (TimeDistr  (None, 50, 9)            1161      \n",
      " ibuted)                                                         \n",
      "                                                                 \n",
      "=================================================================\n",
      "Total params: 203,401\n",
      "Trainable params: 203,401\n",
      "Non-trainable params: 0\n",
      "_________________________________________________________________\n"
     ]
    }
   ],
   "source": [
    "model = Sequential()\n",
    "model.add(LSTM(128, input_shape=(X_train.shape[1], X_train.shape[2])))\n",
    "model.add(Dropout(rate=0.2))\n",
    "\n",
    "model.add(RepeatVector(X_train.shape[1]))\n",
    "\n",
    "model.add(LSTM(128, return_sequences=True))\n",
    "model.add(Dropout(rate=0.2))\n",
    "model.add(TimeDistributed(Dense(X_train.shape[2])))\n",
    "model.compile(optimizer='adam', loss='mae')\n",
    "model.summary()"
   ]
  },
  {
   "cell_type": "markdown",
   "metadata": {},
   "source": [
    "Fits model and calculates the losses"
   ]
  },
  {
   "cell_type": "markdown",
   "metadata": {},
   "source": [
    "Creates model: encoder has 1 LSTM layer and dropoout layer, repeat vector, and decoder has 1 LSTM and dropout layer and then processes timeseries data with the TimeDistributed wrapper "
   ]
  },
  {
   "cell_type": "code",
   "execution_count": 32,
   "metadata": {},
   "outputs": [
    {
     "name": "stdout",
     "output_type": "stream",
     "text": [
      "Epoch 1/10\n",
      "12140/12140 [==============================] - 1190s 98ms/step - loss: 0.0413 - val_loss: 0.0403\n",
      "Epoch 2/10\n",
      "12140/12140 [==============================] - 1172s 97ms/step - loss: 0.0400 - val_loss: 0.0396\n",
      "Epoch 3/10\n",
      "12140/12140 [==============================] - 1179s 97ms/step - loss: 0.0395 - val_loss: 0.0389\n",
      "Epoch 4/10\n",
      "12140/12140 [==============================] - 1204s 99ms/step - loss: 0.0389 - val_loss: 0.0383\n",
      "Epoch 5/10\n",
      "12140/12140 [==============================] - 1204s 99ms/step - loss: 0.0385 - val_loss: 0.0378\n",
      "Epoch 6/10\n",
      "12140/12140 [==============================] - 1177s 97ms/step - loss: 0.0380 - val_loss: 0.0372\n",
      "Epoch 7/10\n",
      "12140/12140 [==============================] - 1166s 96ms/step - loss: 0.0376 - val_loss: 0.0365\n",
      "Epoch 8/10\n",
      "12140/12140 [==============================] - 1162s 96ms/step - loss: 0.0371 - val_loss: 0.0358\n",
      "Epoch 9/10\n",
      "12140/12140 [==============================] - 1164s 96ms/step - loss: 0.0366 - val_loss: 0.0352\n",
      "Epoch 10/10\n",
      "12140/12140 [==============================] - 1184s 98ms/step - loss: 0.0361 - val_loss: 0.0343\n"
     ]
    },
    {
     "data": {
      "text/plain": [
       "<matplotlib.legend.Legend at 0x1b40d9de740>"
      ]
     },
     "execution_count": 32,
     "metadata": {},
     "output_type": "execute_result"
    },
    {
     "data": {
      "image/png": "[encoded data removed]",
      "text/plain": [
       "<Figure size 640x480 with 1 Axes>"
      ]
     },
     "metadata": {},
     "output_type": "display_data"
    }
   ],
   "source": [
    "history = model.fit(X_train, X_train, epochs=10, batch_size=X_train.shape[1], validation_data=(X_test, X_test), verbose=1)\n",
    "plt.plot(history.history['loss'], label='loss')\n",
    "plt.plot(history.history['val_loss'], label='val_loss')\n",
    "plt.title(\"TimeSeries AutoEncoder LSTM: Loss and Validation Loss over Epochs\")\n",
    "plt.xlabel('Epochs')\n",
    "plt.ylabel('Loss')\n",
    "plt.legend()"
   ]
  },
  {
   "cell_type": "markdown",
   "metadata": {},
   "source": [
    "Predicts the values using the testing data"
   ]
  },
  {
   "cell_type": "code",
   "execution_count": 33,
   "metadata": {},
   "outputs": [],
   "source": [
    "yhat = model.predict(X_test, verbose=0)"
   ]
  },
  {
   "cell_type": "markdown",
   "metadata": {},
   "source": [
    "Calculates the anomoly score for each input in the testing data by the difference of the sum of the features and the predicted y value. Then established the anomoly cutoff based on the percentage of malicious datapoints in our sample and plots a histogram. This usually is done experimentally, but since we know the percentage of malicious in our dataset, we are able to evaluate the perfomance of the model."
   ]
  },
  {
   "cell_type": "code",
   "execution_count": 34,
   "metadata": {},
   "outputs": [
    {
     "name": "stdout",
     "output_type": "stream",
     "text": [
      "Threshold: 0.3229578652535313\n"
     ]
    },
    {
     "data": {
      "image/png": "[encoded data removed]",
      "text/plain": [
       "<Figure size 640x480 with 1 Axes>"
      ]
     },
     "metadata": {},
     "output_type": "display_data"
    }
   ],
   "source": [
    "diff = [abs(x.sum() - y.sum())/X_test.shape[1] for x, y in zip(X_test, yhat)]\n",
    "plot = plt.hist(diff, bins='auto')\n",
    "plt.title(\"Total Histogram of Difference\")\n",
    "plt.xlabel(\"Size Differential\")\n",
    "\n",
    "i, total, percent = 0,0,0\n",
    "while percent < .9:\n",
    "    total+=plot[0][i]\n",
    "    percent =  total / X_test.shape[0]\n",
    "    i+=1\n",
    "print(\"Threshold:\", plot[1][i])\n",
    "plt.axvline(plot[1][i], color='red', linestyle='dashed', linewidth=1)\n",
    "plt.show()"
   ]
  },
  {
   "cell_type": "markdown",
   "metadata": {},
   "source": [
    "Seperates the anomolies from the regular data using the threshold value"
   ]
  },
  {
   "cell_type": "code",
   "execution_count": 35,
   "metadata": {},
   "outputs": [
    {
     "data": {
      "image/png": "[encoded data removed]",
      "text/plain": [
       "<Figure size 640x480 with 1 Axes>"
      ]
     },
     "metadata": {},
     "output_type": "display_data"
    }
   ],
   "source": [
    "counts, edges, bars = plt.hist(diff,bins=[0,plot[1][i],1])\n",
    "size_bar = plt.bar_label(bars)\n",
    "plt.title(\"Histogram of Difference\")\n",
    "plt.xlabel(\"Size Difference\")\n",
    "plt.show()"
   ]
  },
  {
   "cell_type": "code",
   "execution_count": 36,
   "metadata": {},
   "outputs": [
    {
     "data": {
      "text/plain": [
       "0.8227746484526565"
      ]
     },
     "execution_count": 36,
     "metadata": {},
     "output_type": "execute_result"
    }
   ],
   "source": [
    "threshold = plot[1][i]\n",
    "thresh_classification = [0 if x < threshold else 1 for x in diff]\n",
    "\n",
    "accuracy = sum([1 if i == j else 0 for i, j in zip(thresh_classification, y_test)]) / len(y_test)\n",
    "accuracy"
   ]
  },
  {
   "cell_type": "markdown",
   "metadata": {},
   "source": [
    "### SVM"
   ]
  },
  {
   "cell_type": "markdown",
   "metadata": {},
   "source": [
    "Splits data into test and training data"
   ]
  },
  {
   "cell_type": "code",
   "execution_count": 19,
   "metadata": {},
   "outputs": [],
   "source": [
    "X_train, X_test, y_train, y_test = train_test_split(df, y, test_size=0.33, random_state=42)"
   ]
  },
  {
   "cell_type": "markdown",
   "metadata": {},
   "source": [
    "Creates OneClassSVM model since we want binary classification of the data. Using linear kernel because it is faster than RBF kernel. Additionally limits max_iterations to 20 for training time."
   ]
  },
  {
   "cell_type": "code",
   "execution_count": 20,
   "metadata": {},
   "outputs": [],
   "source": [
    "one_class_svm = OneClassSVM(nu=0.1, kernel = 'linear', gamma = 'auto', verbose=1, max_iter=20)"
   ]
  },
  {
   "cell_type": "markdown",
   "metadata": {},
   "source": [
    "Fits data to model"
   ]
  },
  {
   "cell_type": "code",
   "execution_count": 21,
   "metadata": {},
   "outputs": [
    {
     "name": "stdout",
     "output_type": "stream",
     "text": [
      "[LibSVM]"
     ]
    },
    {
     "name": "stderr",
     "output_type": "stream",
     "text": [
      "C:\\Users\\zlaw6\\AppData\\Local\\Packages\\PythonSoftwareFoundation.Python.3.10_qbz5n2kfra8p0\\LocalCache\\local-packages\\Python310\\site-packages\\sklearn\\svm\\_base.py:301: ConvergenceWarning: Solver terminated early (max_iter=20).  Consider pre-processing your data with StandardScaler or MinMaxScaler.\n",
      "  warnings.warn(\n"
     ]
    },
    {
     "data": {
      "text/html": [
       "<style>#sk-container-id-1 {color: black;background-color: white;}#sk-container-id-1 pre{padding: 0;}#sk-container-id-1 div.sk-toggleable {background-color: white;}#sk-container-id-1 label.sk-toggleable__label {cursor: pointer;display: block;width: 100%;margin-bottom: 0;padding: 0.3em;box-sizing: border-box;text-align: center;}#sk-container-id-1 label.sk-toggleable__label-arrow:before {content: \"▸\";float: left;margin-right: 0.25em;color: #696969;}#sk-container-id-1 label.sk-toggleable__label-arrow:hover:before {color: black;}#sk-container-id-1 div.sk-estimator:hover label.sk-toggleable__label-arrow:before {color: black;}#sk-container-id-1 div.sk-toggleable__content {max-height: 0;max-width: 0;overflow: hidden;text-align: left;background-color: #f0f8ff;}#sk-container-id-1 div.sk-toggleable__content pre {margin: 0.2em;color: black;border-radius: 0.25em;background-color: #f0f8ff;}#sk-container-id-1 input.sk-toggleable__control:checked~div.sk-toggleable__content {max-height: 200px;max-width: 100%;overflow: auto;}#sk-container-id-1 input.sk-toggleable__control:checked~label.sk-toggleable__label-arrow:before {content: \"▾\";}#sk-container-id-1 div.sk-estimator input.sk-toggleable__control:checked~label.sk-toggleable__label {background-color: #d4ebff;}#sk-container-id-1 div.sk-label input.sk-toggleable__control:checked~label.sk-toggleable__label {background-color: #d4ebff;}#sk-container-id-1 input.sk-hidden--visually {border: 0;clip: rect(1px 1px 1px 1px);clip: rect(1px, 1px, 1px, 1px);height: 1px;margin: -1px;overflow: hidden;padding: 0;position: absolute;width: 1px;}#sk-container-id-1 div.sk-estimator {font-family: monospace;background-color: #f0f8ff;border: 1px dotted black;border-radius: 0.25em;box-sizing: border-box;margin-bottom: 0.5em;}#sk-container-id-1 div.sk-estimator:hover {background-color: #d4ebff;}#sk-container-id-1 div.sk-parallel-item::after {content: \"\";width: 100%;border-bottom: 1px solid gray;flex-grow: 1;}#sk-container-id-1 div.sk-label:hover label.sk-toggleable__label {background-color: #d4ebff;}#sk-container-id-1 div.sk-serial::before {content: \"\";position: absolute;border-left: 1px solid gray;box-sizing: border-box;top: 0;bottom: 0;left: 50%;z-index: 0;}#sk-container-id-1 div.sk-serial {display: flex;flex-direction: column;align-items: center;background-color: white;padding-right: 0.2em;padding-left: 0.2em;position: relative;}#sk-container-id-1 div.sk-item {position: relative;z-index: 1;}#sk-container-id-1 div.sk-parallel {display: flex;align-items: stretch;justify-content: center;background-color: white;position: relative;}#sk-container-id-1 div.sk-item::before, #sk-container-id-1 div.sk-parallel-item::before {content: \"\";position: absolute;border-left: 1px solid gray;box-sizing: border-box;top: 0;bottom: 0;left: 50%;z-index: -1;}#sk-container-id-1 div.sk-parallel-item {display: flex;flex-direction: column;z-index: 1;position: relative;background-color: white;}#sk-container-id-1 div.sk-parallel-item:first-child::after {align-self: flex-end;width: 50%;}#sk-container-id-1 div.sk-parallel-item:last-child::after {align-self: flex-start;width: 50%;}#sk-container-id-1 div.sk-parallel-item:only-child::after {width: 0;}#sk-container-id-1 div.sk-dashed-wrapped {border: 1px dashed gray;margin: 0 0.4em 0.5em 0.4em;box-sizing: border-box;padding-bottom: 0.4em;background-color: white;}#sk-container-id-1 div.sk-label label {font-family: monospace;font-weight: bold;display: inline-block;line-height: 1.2em;}#sk-container-id-1 div.sk-label-container {text-align: center;}#sk-container-id-1 div.sk-container {/* jupyter's `normalize.less` sets `[hidden] { display: none; }` but bootstrap.min.css set `[hidden] { display: none !important; }` so we also need the `!important` here to be able to override the default hidden behavior on the sphinx rendered scikit-learn.org. See: https://github.com/scikit-learn/scikit-learn/issues/21755 */display: inline-block !important;position: relative;}#sk-container-id-1 div.sk-text-repr-fallback {display: none;}</style><div id=\"sk-container-id-1\" class=\"sk-top-container\"><div class=\"sk-text-repr-fallback\"><pre>OneClassSVM(gamma=&#x27;auto&#x27;, kernel=&#x27;linear&#x27;, max_iter=20, nu=0.1, verbose=1)</pre><b>In a Jupyter environment, please rerun this cell to show the HTML representation or trust the notebook. <br />On GitHub, the HTML representation is unable to render, please try loading this page with nbviewer.org.</b></div><div class=\"sk-container\" hidden><div class=\"sk-item\"><div class=\"sk-estimator sk-toggleable\"><input class=\"sk-toggleable__control sk-hidden--visually\" id=\"sk-estimator-id-1\" type=\"checkbox\" checked><label for=\"sk-estimator-id-1\" class=\"sk-toggleable__label sk-toggleable__label-arrow\">OneClassSVM</label><div class=\"sk-toggleable__content\"><pre>OneClassSVM(gamma=&#x27;auto&#x27;, kernel=&#x27;linear&#x27;, max_iter=20, nu=0.1, verbose=1)</pre></div></div></div></div></div>"
      ],
      "text/plain": [
       "OneClassSVM(gamma='auto', kernel='linear', max_iter=20, nu=0.1, verbose=1)"
      ]
     },
     "execution_count": 21,
     "metadata": {},
     "output_type": "execute_result"
    }
   ],
   "source": [
    "one_class_svm.fit(X_train)"
   ]
  },
  {
   "cell_type": "code",
   "execution_count": 22,
   "metadata": {},
   "outputs": [],
   "source": [
    "ypred = one_class_svm.predict(X_test)"
   ]
  },
  {
   "cell_type": "code",
   "execution_count": 25,
   "metadata": {},
   "outputs": [
    {
     "data": {
      "image/png": "[encoded data removed]",
      "text/plain": [
       "<Figure size 640x480 with 1 Axes>"
      ]
     },
     "metadata": {},
     "output_type": "display_data"
    }
   ],
   "source": [
    "counts, edges, bars = plt.hist(ypred,bins='auto')\n",
    "size_bar = plt.bar_label(bars)\n",
    "plt.title(\"Histogram of Anomaly Scores (Isolation Forest)\")\n",
    "plt.xlabel(\"Anomaly Score\")\n",
    "plt.show()"
   ]
  },
  {
   "cell_type": "code",
   "execution_count": 26,
   "metadata": {},
   "outputs": [
    {
     "name": "stdout",
     "output_type": "stream",
     "text": [
      "              precision    recall  f1-score   support\n",
      "\n",
      "           0       0.89      0.01      0.02    269274\n",
      "           1       0.10      0.99      0.18     29706\n",
      "\n",
      "    accuracy                           0.11    298980\n",
      "   macro avg       0.50      0.50      0.10    298980\n",
      "weighted avg       0.81      0.11      0.04    298980\n",
      "\n"
     ]
    }
   ],
   "source": [
    "converted_anomaly_scores = [0 if x == 1 else 1 for x in ypred]\n",
    "print(classification_report(y_test, converted_anomaly_scores))"
   ]
  },
  {
   "cell_type": "markdown",
   "metadata": {},
   "source": [
    "### Isolation Forest"
   ]
  },
  {
   "cell_type": "markdown",
   "metadata": {},
   "source": [
    "Creates Isolation Forest model"
   ]
  },
  {
   "cell_type": "code",
   "execution_count": 101,
   "metadata": {},
   "outputs": [],
   "source": [
    "model=IsolationForest(n_estimators=500,max_samples='auto',random_state=42,n_jobs=-1, max_features=9, verbose=True)"
   ]
  },
  {
   "cell_type": "markdown",
   "metadata": {},
   "source": [
    "Trains model based on training data"
   ]
  },
  {
   "cell_type": "code",
   "execution_count": 102,
   "metadata": {},
   "outputs": [
    {
     "name": "stderr",
     "output_type": "stream",
     "text": [
      "[Parallel(n_jobs=20)]: Using backend ThreadingBackend with 20 concurrent workers.\n",
      "[Parallel(n_jobs=20)]: Done   2 out of  20 | elapsed:    4.5s remaining:   41.0s\n"
     ]
    },
    {
     "name": "stdout",
     "output_type": "stream",
     "text": [
      "{'bootstrap': False, 'contamination': 'auto', 'max_features': 9, 'max_samples': 'auto', 'n_estimators': 500, 'n_jobs': -1, 'random_state': 42, 'verbose': True, 'warm_start': False}\n"
     ]
    },
    {
     "name": "stderr",
     "output_type": "stream",
     "text": [
      "[Parallel(n_jobs=20)]: Done  20 out of  20 | elapsed:    4.7s finished\n"
     ]
    }
   ],
   "source": [
    "model.fit(X_train)\n",
    "print(model.get_params())"
   ]
  },
  {
   "cell_type": "markdown",
   "metadata": {},
   "source": [
    "Predicts anomaly score and plots a histogram. Establishes threshold to classify data as malicious."
   ]
  },
  {
   "cell_type": "code",
   "execution_count": 103,
   "metadata": {},
   "outputs": [
    {
     "data": {
      "image/png": "[encoded data removed]",
      "text/plain": [
       "<Figure size 640x480 with 1 Axes>"
      ]
     },
     "metadata": {},
     "output_type": "display_data"
    }
   ],
   "source": [
    "anomaly_scores = model.predict(X_test)\n",
    "counts, edges, bars = plt.hist(anomaly_scores,bins=2)\n",
    "size_bar = plt.bar_label(bars)\n",
    "plt.title(\"Histogram of Anomaly Scores (Isolation Forest)\")\n",
    "plt.xlabel(\"Anomaly Score\")\n",
    "plt.show()"
   ]
  },
  {
   "cell_type": "markdown",
   "metadata": {},
   "source": [
    "Uses the threshold to find accurracy of model."
   ]
  },
  {
   "cell_type": "code",
   "execution_count": 104,
   "metadata": {},
   "outputs": [],
   "source": [
    "converted_anomaly_scores = [0 if x == 1 else 1 for x in anomaly_scores]"
   ]
  },
  {
   "cell_type": "code",
   "execution_count": 105,
   "metadata": {},
   "outputs": [
    {
     "data": {
      "text/plain": [
       "0.7682554016991103"
      ]
     },
     "execution_count": 105,
     "metadata": {},
     "output_type": "execute_result"
    }
   ],
   "source": [
    "thresh_classification = [0 if x < threshold else 1 for x in converted_anomaly_scores]\n",
    "accuracy = sum([1 if i == j else 0 for i, j in zip(converted_anomaly_scores, y_test)]) / len(y_test)\n",
    "accuracy"
   ]
  }
 ],
 "metadata": {
  "kernelspec": {
   "display_name": "Python 3.10.8 64-bit (microsoft store)",
   "language": "python",
   "name": "python3"
  },
  "language_info": {
   "codemirror_mode": {
    "name": "ipython",
    "version": 3
   },
   "file_extension": ".py",
   "mimetype": "text/x-python",
   "name": "python",
   "nbconvert_exporter": "python",
   "pygments_lexer": "ipython3",
   "version": "3.10.8"
  },
  "orig_nbformat": 4,
  "vscode": {
   "interpreter": {
    "hash": "7d304f8a788dc357851e8e26f4f2d0b96a5ad1a5f24ff2e713e3216619007ad4"
   }
  }
 },
 "nbformat": 4,
 "nbformat_minor": 2
}
