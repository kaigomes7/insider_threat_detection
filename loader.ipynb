{
 "cells": [
  {
   "cell_type": "markdown",
   "metadata": {},
   "source": [
    "# Evaluation of an LSTM-AutoEncoder on the CERT Insider Threat Detection Dataset\n",
    "# Kai Gomes, Zachary Lawton"
   ]
  },
  {
   "cell_type": "markdown",
   "metadata": {},
   "source": [
    "Dependencies"
   ]
  },
  {
   "cell_type": "code",
   "execution_count": 1,
   "metadata": {},
   "outputs": [],
   "source": [
    "import pandas as pd\n",
    "import numpy as np\n",
    "import re\n",
    "import matplotlib.pyplot as plt\n",
    "import datetime\n",
    "\n",
    "from sklearn.model_selection import train_test_split\n",
    "from sklearn import preprocessing\n",
    "from sklearn.preprocessing import StandardScaler\n",
    "from sklearn.preprocessing import MinMaxScaler\n",
    "from sklearn.model_selection import train_test_split\n",
    "from sklearn.metrics import confusion_matrix, classification_report\n",
    "from sklearn.ensemble import IsolationForest\n",
    "from sklearn.svm import OneClassSVM\n",
    "\n",
    "import tensorflow as tf\n",
    "from tensorflow import keras\n",
    "from tensorflow.keras import optimizers\n",
    "from tensorflow.keras.models import Sequential, Model\n",
    "from tensorflow.keras.layers import Dense, Input, LSTM, RepeatVector, TimeDistributed, Dropout\n",
    "from tensorflow.keras.optimizers import RMSprop, Adam, Nadam\n",
    "from tensorflow.keras.preprocessing import sequence\n",
    "from tensorflow.keras.callbacks import TensorBoard\n",
    "from keras.utils import plot_model\n",
    "from imblearn.under_sampling import RandomUnderSampler\n"
   ]
  },
  {
   "cell_type": "markdown",
   "metadata": {},
   "source": [
    "## Load Dataset"
   ]
  },
  {
   "cell_type": "markdown",
   "metadata": {},
   "source": [
    "Loads CERT v6.2 email dataset"
   ]
  },
  {
   "cell_type": "code",
   "execution_count": 2,
   "metadata": {},
   "outputs": [
    {
     "data": {
      "text/plain": [
       "10994957"
      ]
     },
     "execution_count": 2,
     "metadata": {},
     "output_type": "execute_result"
    }
   ],
   "source": [
    "# df = pd.read_csv(\"C:\\\\Users\\\\kaigo\\\\Downloads\\\\r6.2\\\\r6.2\\\\email.csv\") #kai PC\n",
    "df = pd.read_csv(\"D:\\\\r6.2\\\\email.csv\") #zach pc\n",
    "len(df)"
   ]
  },
  {
   "cell_type": "markdown",
   "metadata": {},
   "source": [
    "Loads answers (malicious) for dataset and drops unecessary columns (all that aren't in email dataset)"
   ]
  },
  {
   "cell_type": "code",
   "execution_count": 3,
   "metadata": {},
   "outputs": [],
   "source": [
    "# answers_df = pd.read_csv(\"C:\\\\Users\\\\kaigo\\\\Downloads\\\\answers\\\\answers\\\\r6.2-3.csv\", header=None) #kai pc\n",
    "answers_df = pd.read_csv(\"D:\\\\answers\\\\r6.2-3.csv\", header=None)\n",
    "answers_df = answers_df.where(answers_df[0] == 'email')\n",
    "answers_df = answers_df[answers_df[0].notna()]\n",
    "answers_df = answers_df.rename(columns={1: 'id', 2: \"date\", 3: \"user\", 4: \"pc\", 5: \"to\", 6: \"cc\", 7:\"bcc\", 8:\"from\", 9:\"activity\", 10:\"size\", 11: \"attachment\", 13: \"content\" })\n",
    "answers_df = answers_df.drop([0, 12], axis=1)"
   ]
  },
  {
   "cell_type": "markdown",
   "metadata": {},
   "source": [
    "Labels email data with malicious column"
   ]
  },
  {
   "cell_type": "code",
   "execution_count": 4,
   "metadata": {},
   "outputs": [],
   "source": [
    "malicious_ids = answers_df['user'].unique()\n",
    "df['malicious'] = [1 if x in malicious_ids else 0 for x in df['user']]"
   ]
  },
  {
   "cell_type": "markdown",
   "metadata": {},
   "source": [
    "## Undersample data"
   ]
  },
  {
   "cell_type": "markdown",
   "metadata": {},
   "source": [
    "Picks percentage of malicious data wanted and then scales non-malicious down to equal percentage"
   ]
  },
  {
   "cell_type": "code",
   "execution_count": 5,
   "metadata": {},
   "outputs": [],
   "source": [
    "num_non_mal = len(df.loc[df['malicious'] == 0])\n",
    "num_mal = len(df.loc[df['malicious'] == 1])\n",
    "percent_want_mal = 0.1\n",
    "num_non_mal_sample = num_non_mal - int(num_non_mal - (num_non_mal - (num_mal / percent_want_mal - num_mal)))\n",
    "sample = df.loc[df['malicious'] == 0].sample(n = num_non_mal_sample, random_state=42).index.tolist()\n",
    "df = df.drop(sample, axis=0)"
   ]
  },
  {
   "cell_type": "code",
   "execution_count": 6,
   "metadata": {},
   "outputs": [
    {
     "name": "stdout",
     "output_type": "stream",
     "text": [
      "90600 815400\n"
     ]
    }
   ],
   "source": [
    "print(num_mal, len(df) - num_mal)"
   ]
  },
  {
   "cell_type": "markdown",
   "metadata": {},
   "source": [
    "## Feature Extraction"
   ]
  },
  {
   "cell_type": "markdown",
   "metadata": {},
   "source": [
    "Gets number of words in message from message content"
   ]
  },
  {
   "cell_type": "code",
   "execution_count": 7,
   "metadata": {},
   "outputs": [],
   "source": [
    "df['num_words'] = [len(x.split()) for x in df['content']]"
   ]
  },
  {
   "cell_type": "markdown",
   "metadata": {},
   "source": [
    "Gets number of destinations, number of external destinations, and number of external destinations that appear in bcc:"
   ]
  },
  {
   "cell_type": "code",
   "execution_count": 8,
   "metadata": {},
   "outputs": [],
   "source": [
    "df['num_dest'] = df.apply(lambda x: len(re.findall(\"(@)\", x['to'] + \";\" + (x['cc'] if not pd.isnull(x['cc']) else '') + \";\" + (x['bcc'] if not pd.isnull(x['bcc']) else ''))), axis=1)"
   ]
  },
  {
   "cell_type": "code",
   "execution_count": 9,
   "metadata": {},
   "outputs": [],
   "source": [
    "df['num_external'] = df.apply(lambda x: len(set(re.findall(\"(?<=@)[^.]+(?=.)\", x['to'] + \";\" + (x['cc'] if not pd.isnull(x['cc']) else '') + \";\" + (x['bcc'] if not pd.isnull(x['bcc']) else ''))) - set(re.findall(\"(?<=@)[^.]+(?=.)\", x['to']))), axis=1)"
   ]
  },
  {
   "cell_type": "code",
   "execution_count": 10,
   "metadata": {},
   "outputs": [],
   "source": [
    "df['num_external_bcc'] =  df.apply(lambda x: len(set(re.findall(\"(?<=@)[^.]+(?=.)\", x['to'] + \";\" + (x['bcc'] if not pd.isnull(x['bcc']) else ''))) - set(re.findall(\"(?<=@)[^.]+(?=.)\", x['to']))), axis=1)"
   ]
  },
  {
   "cell_type": "markdown",
   "metadata": {},
   "source": [
    "Gets the number of attachments, total size of all attachments, number of different file types of attachments (.pdf, .doc, etc), and number of bcc recipients"
   ]
  },
  {
   "cell_type": "code",
   "execution_count": 11,
   "metadata": {},
   "outputs": [],
   "source": [
    "df['num_attach'] = [len(x.split(\";\")) if type(x) == str else 0 for x in df['attachments']]"
   ]
  },
  {
   "cell_type": "code",
   "execution_count": 12,
   "metadata": {},
   "outputs": [],
   "source": [
    "df['attach_size'] = [sum(map(int, re.findall(\"\\(([^()]+)\\)\", x))) if type(x) == str else 0 for x in df['attachments']]"
   ]
  },
  {
   "cell_type": "code",
   "execution_count": 13,
   "metadata": {},
   "outputs": [],
   "source": [
    "df['num_attach_type'] = [len(set(re.findall(\"\\.(.*?)\\(\", x))) if type(x) == str else 0 for x in df['attachments']]"
   ]
  },
  {
   "cell_type": "code",
   "execution_count": 14,
   "metadata": {},
   "outputs": [],
   "source": [
    "df['num_bcc'] = [len(x.split(\";\")) if type(x) == str else 0 for x in df['bcc']]"
   ]
  },
  {
   "cell_type": "markdown",
   "metadata": {},
   "source": [
    "Creates a new dataframe with only the quantitative data that is able to be parsed"
   ]
  },
  {
   "cell_type": "code",
   "execution_count": 15,
   "metadata": {},
   "outputs": [],
   "source": [
    "df = df[['date', 'num_dest','num_attach','num_attach_type', 'attach_size', 'num_external', 'num_external_bcc', 'size', 'num_words', 'num_bcc', 'malicious']]"
   ]
  },
  {
   "cell_type": "markdown",
   "metadata": {},
   "source": [
    "Create y (malicious or not, not used in model itself since unsupervised)"
   ]
  },
  {
   "cell_type": "code",
   "execution_count": 16,
   "metadata": {},
   "outputs": [],
   "source": [
    "y = df['malicious']\n",
    "df = df.drop('malicious', axis=1)"
   ]
  },
  {
   "cell_type": "markdown",
   "metadata": {},
   "source": [
    "## Normalize Data"
   ]
  },
  {
   "cell_type": "markdown",
   "metadata": {},
   "source": [
    "Scale the features so that the model is more accurate (using `MinMaxScaler()`) and split into train/test data"
   ]
  },
  {
   "cell_type": "code",
   "execution_count": 17,
   "metadata": {},
   "outputs": [],
   "source": [
    "dates = pd.to_datetime(df['date']).values\n",
    "x = df.drop('date', axis=1).values\n",
    "min_max_scaler = preprocessing.MinMaxScaler()\n",
    "x_scaled = min_max_scaler.fit_transform(x)\n",
    "df = pd.DataFrame(x_scaled)\n",
    "# df['date'] = dates"
   ]
  },
  {
   "cell_type": "markdown",
   "metadata": {},
   "source": [
    "## Create and Run Models"
   ]
  },
  {
   "cell_type": "markdown",
   "metadata": {},
   "source": [
    "Split Data into train and test data: 66% train and 33% test"
   ]
  },
  {
   "cell_type": "code",
   "execution_count": 18,
   "metadata": {},
   "outputs": [],
   "source": [
    "X_train, X_test, y_train, y_test = train_test_split(df, y, test_size=0.33, random_state=42)"
   ]
  },
  {
   "cell_type": "markdown",
   "metadata": {},
   "source": [
    "### AutoEncoder"
   ]
  },
  {
   "cell_type": "markdown",
   "metadata": {},
   "source": [
    "Creates model: encoder has 3 dense layers and 3 dropoout layers, repeat vector, and decoder has 3 dense layers and 3 dropoout layers"
   ]
  },
  {
   "cell_type": "code",
   "execution_count": 19,
   "metadata": {},
   "outputs": [
    {
     "name": "stdout",
     "output_type": "stream",
     "text": [
      "Model: \"sequential\"\n",
      "_________________________________________________________________\n",
      " Layer (type)                Output Shape              Param #   \n",
      "=================================================================\n",
      " dense (Dense)               (None, 128)               1280      \n",
      "                                                                 \n",
      " dropout (Dropout)           (None, 128)               0         \n",
      "                                                                 \n",
      " dense_1 (Dense)             (None, 64)                8256      \n",
      "                                                                 \n",
      " dropout_1 (Dropout)         (None, 64)                0         \n",
      "                                                                 \n",
      " dense_2 (Dense)             (None, 32)                2080      \n",
      "                                                                 \n",
      " dense_3 (Dense)             (None, 32)                1056      \n",
      "                                                                 \n",
      " dropout_2 (Dropout)         (None, 32)                0         \n",
      "                                                                 \n",
      " dense_4 (Dense)             (None, 64)                2112      \n",
      "                                                                 \n",
      " dropout_3 (Dropout)         (None, 64)                0         \n",
      "                                                                 \n",
      " dense_5 (Dense)             (None, 9)                 585       \n",
      "                                                                 \n",
      "=================================================================\n",
      "Total params: 15,369\n",
      "Trainable params: 15,369\n",
      "Non-trainable params: 0\n",
      "_________________________________________________________________\n",
      "Epoch 1/15\n",
      "61/61 [==============================] - 2s 20ms/step - loss: 0.0063 - val_loss: 0.0016\n",
      "Epoch 2/15\n",
      "61/61 [==============================] - 1s 19ms/step - loss: 0.0023 - val_loss: 7.1787e-04\n",
      "Epoch 3/15\n",
      "61/61 [==============================] - 1s 19ms/step - loss: 0.0016 - val_loss: 4.9449e-04\n",
      "Epoch 4/15\n",
      "61/61 [==============================] - 1s 19ms/step - loss: 0.0014 - val_loss: 4.0270e-04\n",
      "Epoch 5/15\n",
      "61/61 [==============================] - 1s 19ms/step - loss: 0.0012 - val_loss: 3.6907e-04\n",
      "Epoch 6/15\n",
      "61/61 [==============================] - 1s 20ms/step - loss: 0.0011 - val_loss: 3.4728e-04\n",
      "Epoch 7/15\n",
      "61/61 [==============================] - 1s 19ms/step - loss: 0.0010 - val_loss: 3.3722e-04\n",
      "Epoch 8/15\n",
      "61/61 [==============================] - 1s 19ms/step - loss: 9.7621e-04 - val_loss: 3.4321e-04\n",
      "Epoch 9/15\n",
      "61/61 [==============================] - 1s 19ms/step - loss: 9.2364e-04 - val_loss: 3.5546e-04\n",
      "Epoch 10/15\n",
      "61/61 [==============================] - 1s 19ms/step - loss: 8.7667e-04 - val_loss: 3.3822e-04\n",
      "Epoch 11/15\n",
      "61/61 [==============================] - 1s 19ms/step - loss: 8.3538e-04 - val_loss: 3.3114e-04\n",
      "Epoch 12/15\n",
      "61/61 [==============================] - 1s 19ms/step - loss: 8.0513e-04 - val_loss: 3.2877e-04\n",
      "Epoch 13/15\n",
      "61/61 [==============================] - 1s 18ms/step - loss: 7.6897e-04 - val_loss: 3.3381e-04\n",
      "Epoch 14/15\n",
      "61/61 [==============================] - 1s 18ms/step - loss: 7.4139e-04 - val_loss: 3.5357e-04\n",
      "Epoch 15/15\n",
      "61/61 [==============================] - 1s 19ms/step - loss: 7.1558e-04 - val_loss: 3.3401e-04\n"
     ]
    },
    {
     "data": {
      "text/plain": [
       "<matplotlib.legend.Legend at 0x1ddeffeaf20>"
      ]
     },
     "execution_count": 19,
     "metadata": {},
     "output_type": "execute_result"
    },
    {
     "data": {
      "image/png": "[encoded data removed]",
      "text/plain": [
       "<Figure size 640x480 with 1 Axes>"
      ]
     },
     "metadata": {},
     "output_type": "display_data"
    }
   ],
   "source": [
    "input_dim = X_train.shape[1] #num of predictor variables, \n",
    "encoding_dim = 2\n",
    "\n",
    "# define model\n",
    "model = Sequential()\n",
    "model.add(Input(shape=(input_dim,)))\n",
    "#encoder\n",
    "model.add(Dense(128, activation='relu'))\n",
    "model.add(Dropout(rate=0.2))\n",
    "model.add(Dense(64, activation='relu'))\n",
    "model.add(Dropout(rate=0.2))\n",
    "model.add(Dense(32, activation='relu' ))\n",
    "# model.add(RepeatVector(input_dim))\n",
    "#decoder\n",
    "model.add(Dense(32, activation='relu'))\n",
    "model.add(Dropout(rate=0.2))\n",
    "model.add(Dense(64, activation='relu'))\n",
    "model.add(Dropout(rate=0.2))\n",
    "model.add(Dense(X_train.shape[1], activation='relu'))\n",
    "model.compile(optimizer='adam', loss='mse')\n",
    "model.summary()\n",
    "model\n",
    "# fit model\n",
    "history = model.fit(X_train, X_train, epochs=15, batch_size=10000, validation_data=(X_test, X_test))\n",
    "# plot_model(model, show_shapes=True)\n",
    "plt.plot(history.history['loss'], label='loss')\n",
    "plt.plot(history.history['val_loss'], label='val_loss')\n",
    "plt.title(\"AutoEncoder: Loss and Validation Loss over Epochs\")\n",
    "plt.xlabel('Epochs')\n",
    "plt.ylabel('Loss')\n",
    "plt.legend()"
   ]
  },
  {
   "cell_type": "markdown",
   "metadata": {},
   "source": [
    "Predicts the values using the testing data"
   ]
  },
  {
   "cell_type": "code",
   "execution_count": 20,
   "metadata": {},
   "outputs": [],
   "source": [
    "yhat = model.predict(X_test, verbose=0)"
   ]
  },
  {
   "cell_type": "markdown",
   "metadata": {},
   "source": [
    "Calculates the anomoly score for each input in the testing data by the difference of the sum of the features and the predicted y value. Then established the anomoly cutoff based on the percentage of malicious datapoints in our sample and plots a histogram. This usually is done experimentally, but since we know the percentage of malicious in our dataset, we are able to evaluate the perfomance of the model."
   ]
  },
  {
   "cell_type": "code",
   "execution_count": 21,
   "metadata": {},
   "outputs": [
    {
     "name": "stdout",
     "output_type": "stream",
     "text": [
      "Threshold: 0.12478114545937516\n"
     ]
    },
    {
     "data": {
      "image/png": "[encoded data removed]",
      "text/plain": [
       "<Figure size 640x480 with 1 Axes>"
      ]
     },
     "metadata": {},
     "output_type": "display_data"
    }
   ],
   "source": [
    "diff = [abs(x.sum() - y.sum()) for x, y in zip(X_test.to_numpy(), yhat)]\n",
    "plot = plt.hist(diff, bins='auto')\n",
    "plt.title(\"Total Histogram of Difference\")\n",
    "plt.xlabel(\"Size Differential\")\n",
    "\n",
    "i, total, percent = 0,0,0\n",
    "while percent < .9:\n",
    "    total+=plot[0][i]\n",
    "    percent =  total / X_test.shape[0]\n",
    "    i+=1\n",
    "print(\"Threshold:\", plot[1][i])\n",
    "plt.axvline(plot[1][i], color='red', linestyle='dashed', linewidth=1)\n",
    "plt.show()"
   ]
  },
  {
   "cell_type": "markdown",
   "metadata": {},
   "source": [
    "Seperates the anomolies from the regular data using the threshold value"
   ]
  },
  {
   "cell_type": "code",
   "execution_count": 22,
   "metadata": {},
   "outputs": [
    {
     "data": {
      "image/png": "[encoded data removed]",
      "text/plain": [
       "<Figure size 640x480 with 1 Axes>"
      ]
     },
     "metadata": {},
     "output_type": "display_data"
    }
   ],
   "source": [
    "counts, edges, bars = plt.hist(diff,bins=[0,plot[1][i],1])\n",
    "size_bar = plt.bar_label(bars)\n",
    "plt.title(\"Histogram of Difference\")\n",
    "plt.xlabel(\"Size Difference\")\n",
    "plt.show()"
   ]
  },
  {
   "cell_type": "code",
   "execution_count": 23,
   "metadata": {},
   "outputs": [
    {
     "data": {
      "text/plain": [
       "[0.04607487502459362,\n",
       " 0.013683852358904902,\n",
       " 0.004140241791552035,\n",
       " 0.010716406962418268,\n",
       " 0.03249226566440644,\n",
       " 0.007491619737961308,\n",
       " 0.002433473476494863,\n",
       " 0.020836989315214827,\n",
       " 0.024595038062019903,\n",
       " 0.042006358172928415,\n",
       " 0.031770064387028674,\n",
       " 0.011605552454648171,\n",
       " 0.06326722469312675,\n",
       " 0.08249313289819904,\n",
       " 0.03420967499594818,\n",
       " 0.007095560043750587,\n",
       " 0.0041029870644284094,\n",
       " 0.01183499907764618,\n",
       " 0.00270795018316633,\n",
       " 0.004544371770232369,\n",
       " 0.06808092460506154,\n",
       " 0.017947726567197342,\n",
       " 0.0057497447832079995,\n",
       " 0.004281607094403034,\n",
       " 0.006244301442228095,\n",
       " 0.008924432879265753,\n",
       " 0.0009194905282635668,\n",
       " 0.02183506743769109,\n",
       " 0.033077720045065595,\n",
       " 0.02295635298117138,\n",
       " 0.014530987710934973,\n",
       " 0.007742978497662478,\n",
       " 0.07702942066840768,\n",
       " 0.004986203159914715,\n",
       " 0.020206271720801694,\n",
       " 0.010306731083592646,\n",
       " 0.007609364839461674,\n",
       " 0.005493881899593461,\n",
       " 0.007577446996789555,\n",
       " 0.010966364444384258,\n",
       " 0.06352845056870271,\n",
       " 0.005616376708782622,\n",
       " 0.005730874848491552,\n",
       " 0.0024872457917566315,\n",
       " 0.029490631693357194,\n",
       " 0.01452928972660833,\n",
       " 0.018022232862459353,\n",
       " 0.0019134900688952128,\n",
       " 0.05503681787631243,\n",
       " 0.03018252716442571,\n",
       " 0.013908784618743453,\n",
       " 0.06028246274735771,\n",
       " 0.006123583335532257,\n",
       " 0.02913822051657111,\n",
       " 0.006018931792698079,\n",
       " 0.012644603420716716,\n",
       " 0.04478584702014793,\n",
       " 0.0005232384122993983,\n",
       " 0.09395425032319271,\n",
       " 0.010329967556516384,\n",
       " 0.023383394301494387,\n",
       " 0.026165284181804305,\n",
       " 0.002265034061345983,\n",
       " 0.006645862109522338,\n",
       " 0.00530458009592355,\n",
       " 0.005432966694046526,\n",
       " 0.002383180799163581,\n",
       " 0.01371982474749045,\n",
       " 0.00718125306920836,\n",
       " 0.07414288150944959,\n",
       " 0.007121414530580739,\n",
       " 0.020769065447910684,\n",
       " 0.04682636449621724,\n",
       " 0.060848108192375516,\n",
       " 0.017247286525048408,\n",
       " 0.11931929525131535,\n",
       " 0.00021030465992943892,\n",
       " 0.0012957554577305852,\n",
       " 0.08832879113514969,\n",
       " 0.010360695747577031,\n",
       " 0.0774955676025697,\n",
       " 0.0038602066865899842,\n",
       " 0.16992217458475078,\n",
       " 0.11231090090136742,\n",
       " 0.006562140141108175,\n",
       " 0.07317825981626647,\n",
       " 0.01605724548739218,\n",
       " 0.6240714167157684,\n",
       " 0.00890538388347184,\n",
       " 0.01636059362154313,\n",
       " 0.105524214711195,\n",
       " 0.0036760738736932863,\n",
       " 0.2689903155310942,\n",
       " 0.011177028050322169,\n",
       " 0.0319232365135107,\n",
       " 0.010112769687470102,\n",
       " 0.07481571550230837,\n",
       " 0.673405957968523,\n",
       " 0.06143526833350932,\n",
       " 0.00015449073191287077,\n",
       " 0.007537170203679944,\n",
       " 0.004806449898431042,\n",
       " 0.0309909810480955,\n",
       " 0.0011297531257746796,\n",
       " 0.0054588200286291855,\n",
       " 0.00403909468296787,\n",
       " 0.07414123595121502,\n",
       " 0.001864813567323903,\n",
       " 0.6046929676108022,\n",
       " 0.0065034391617148635,\n",
       " 0.0024716948351201085,\n",
       " 0.029661630075153322,\n",
       " 0.04933315469140043,\n",
       " 0.669274363056263,\n",
       " 0.00038181759458133513,\n",
       " 0.00826170912376395,\n",
       " 0.005394441853918686,\n",
       " 0.010409234078061158,\n",
       " 0.08525988704776477,\n",
       " 0.12093262628220214,\n",
       " 0.023461216586492695,\n",
       " 0.014898188807824064,\n",
       " 0.00033705886484775016,\n",
       " 0.0349554513147361,\n",
       " 0.013686608742838113,\n",
       " 0.019518668177634035,\n",
       " 0.018959843687471,\n",
       " 0.00635737970330863,\n",
       " 0.006826074518453906,\n",
       " 0.010290407871577312,\n",
       " 0.07229383572844983,\n",
       " 0.006771786456706286,\n",
       " 0.0038767756510927898,\n",
       " 0.004548943853369902,\n",
       " 0.002198393511436053,\n",
       " 0.08764897825738638,\n",
       " 0.02365692639145428,\n",
       " 0.0006818924780565561,\n",
       " 0.047963431331599526,\n",
       " 0.0004560426738451362,\n",
       " 0.01848657713356394,\n",
       " 0.019380268933852862,\n",
       " 0.007795052625716559,\n",
       " 0.13234128255486888,\n",
       " 0.08461884249433849,\n",
       " 0.005473296220793289,\n",
       " 0.15513154839276422,\n",
       " 0.007948064071175542,\n",
       " 0.006819705440961332,\n",
       " 0.0028120055515993836,\n",
       " 0.004068430029292858,\n",
       " 0.017034082201963674,\n",
       " 0.006112780951694652,\n",
       " 0.008426390657782445,\n",
       " 0.01874582264836039,\n",
       " 0.007959116848220704,\n",
       " 0.013002640084167016,\n",
       " 0.04778690032220467,\n",
       " 0.00027817868270507695,\n",
       " 0.018993452406867783,\n",
       " 0.04478273499252372,\n",
       " 0.0028791775659854357,\n",
       " 0.026274663114239316,\n",
       " 0.020356944294386198,\n",
       " 0.024130008500273803,\n",
       " 0.006114721864670103,\n",
       " 0.05608221400190694,\n",
       " 0.06631714959745016,\n",
       " 0.1459605281619374,\n",
       " 0.004997499579427245,\n",
       " 0.05090039636650412,\n",
       " 0.07016716745561935,\n",
       " 0.1065139983291572,\n",
       " 0.0017497520586883253,\n",
       " 0.020993601141589102,\n",
       " 0.027662517112662544,\n",
       " 0.03481579314709449,\n",
       " 0.017911151817886273,\n",
       " 0.0190276288782259,\n",
       " 0.015378861694864743,\n",
       " 0.009222064574744282,\n",
       " 0.024482224769573402,\n",
       " 0.0894573863063386,\n",
       " 0.0035044064628445004,\n",
       " 0.16819838315701907,\n",
       " 0.07188009879780322,\n",
       " 0.009793487618406482,\n",
       " 0.31287708388887503,\n",
       " 0.0031440723075948918,\n",
       " 0.013883177886763354,\n",
       " 0.049349886688813904,\n",
       " 0.0005359483877239168,\n",
       " 0.014127447552348793,\n",
       " 0.0006969680865016592,\n",
       " 0.0041263678278182225,\n",
       " 0.04354527683556331,\n",
       " 0.00154581608492807,\n",
       " 0.011665041678766752,\n",
       " 0.005395835317111408,\n",
       " 0.027967566574701452,\n",
       " 0.019187011625266814,\n",
       " 0.001962565372301772,\n",
       " 0.013009408581520956,\n",
       " 0.0014603800305559855,\n",
       " 0.020256201185919642,\n",
       " 0.006439401148322754,\n",
       " 0.014794165849876473,\n",
       " 0.009615284515418099,\n",
       " 0.027419049984508656,\n",
       " 0.0017958303079166071,\n",
       " 0.014761437207191863,\n",
       " 0.005486629230354312,\n",
       " 0.006509630030651414,\n",
       " 0.10799831122495906,\n",
       " 0.007575811462689042,\n",
       " 0.004573461998847672,\n",
       " 0.0039006341125223665,\n",
       " 0.0069836080752703755,\n",
       " 0.0007423538815878872,\n",
       " 0.017438331468667856,\n",
       " 0.02757948485803463,\n",
       " 0.00503868545385705,\n",
       " 0.37732673924728877,\n",
       " 0.0006387991165268669,\n",
       " 0.1826006299484304,\n",
       " 0.04180104395049522,\n",
       " 0.01114851644412862,\n",
       " 0.029529502217979786,\n",
       " 0.025941527473880302,\n",
       " 0.6649138298385187,\n",
       " 0.1535299004204962,\n",
       " 0.008669478289022314,\n",
       " 0.043021119019763354,\n",
       " 0.014220414466534603,\n",
       " 0.191298529902709,\n",
       " 0.005473476602045613,\n",
       " 0.02933833821191345,\n",
       " 0.0563659200859854,\n",
       " 0.042433553473546715,\n",
       " 0.006132621845914121,\n",
       " 0.0007097426095721837,\n",
       " 0.005991914204006021,\n",
       " 0.031639844485199964,\n",
       " 0.027194945600264586,\n",
       " 0.00617514251926396,\n",
       " 0.022429335685193785,\n",
       " 0.0016863842309329247,\n",
       " 0.009312905583483966,\n",
       " 0.00043519892107535263,\n",
       " 0.017498827718159082,\n",
       " 0.0056418307517208666,\n",
       " 0.2043802460733375,\n",
       " 0.05131045319078631,\n",
       " 0.005280338177504784,\n",
       " 0.008715912571303996,\n",
       " 0.007052448469244299,\n",
       " 0.006562367553907267,\n",
       " 0.04397533044086721,\n",
       " 2.167214072351653e-05,\n",
       " 0.020243764109276974,\n",
       " 0.03697314680650776,\n",
       " 0.22029216253037953,\n",
       " 0.002264324480787061,\n",
       " 0.006764628413406193,\n",
       " 0.00047085607734093093,\n",
       " 0.013433584172149349,\n",
       " 0.028426770572301696,\n",
       " 0.013762965160439511,\n",
       " 0.016537563122210996,\n",
       " 0.017470295329970076,\n",
       " 0.020557165117735976,\n",
       " 0.06323381744948464,\n",
       " 0.023959565016036966,\n",
       " 0.01499382841411373,\n",
       " 0.14401582306847827,\n",
       " 0.04087652188010488,\n",
       " 0.01056907103378002,\n",
       " 0.1347134204504874,\n",
       " 0.033497968758658625,\n",
       " 0.01500666138702983,\n",
       " 0.0028009782099139013,\n",
       " 0.00889683285706755,\n",
       " 0.10554183179422605,\n",
       " 0.0008159495606533951,\n",
       " 0.01881319533226683,\n",
       " 0.026686834382364077,\n",
       " 0.015468857295853011,\n",
       " 0.012857890695226304,\n",
       " 0.04708707443188076,\n",
       " 0.021582980261445173,\n",
       " 0.003253322029342698,\n",
       " 0.003978996377594329,\n",
       " 0.005114531695889851,\n",
       " 0.012983274188605787,\n",
       " 0.03584989523047977,\n",
       " 0.013399469070970504,\n",
       " 0.001045864657520934,\n",
       " 0.013551177760906419,\n",
       " 0.019817471294133193,\n",
       " 0.24060459107035426,\n",
       " 0.16506082193446314,\n",
       " 0.007646150376412919,\n",
       " 0.06616499792201513,\n",
       " 0.04338163298686837,\n",
       " 0.01430064711282969,\n",
       " 0.05295350649515185,\n",
       " 0.014379364243198856,\n",
       " 0.013902440251950754,\n",
       " 0.017963665946607754,\n",
       " 0.00024518178899773924,\n",
       " 0.026629897157558147,\n",
       " 0.017966785349630393,\n",
       " 0.0009028494550751831,\n",
       " 0.005893153396133888,\n",
       " 0.005510662804185773,\n",
       " 0.008846394527271206,\n",
       " 0.05815231381957786,\n",
       " 0.17590205268124626,\n",
       " 0.024278893943052826,\n",
       " 0.0011365042364646638,\n",
       " 0.013337094587060228,\n",
       " 0.014462658375168524,\n",
       " 0.006751752606992789,\n",
       " 0.015424874360672303,\n",
       " 0.009631683406075009,\n",
       " 0.364507855440138,\n",
       " 0.013724348368009898,\n",
       " 0.006893493608198076,\n",
       " 0.011654570639442696,\n",
       " 0.03163765353750947,\n",
       " 0.009414024136092047,\n",
       " 0.031020678919717826,\n",
       " 0.016422593760454185,\n",
       " 0.0011602973487822577,\n",
       " 0.05742438482178214,\n",
       " 0.1384488636378709,\n",
       " 0.06804356103231235,\n",
       " 0.29688785852704225,\n",
       " 0.0029669468124166876,\n",
       " 0.009272841106893526,\n",
       " 0.03980282286331405,\n",
       " 0.0010293984786918786,\n",
       " 0.12142955801792621,\n",
       " 0.016110289792902632,\n",
       " 0.01307130920793148,\n",
       " 0.10930510700262941,\n",
       " 0.00732736444397325,\n",
       " 0.006898758475942124,\n",
       " 0.01696560346360587,\n",
       " 0.008835025300949817,\n",
       " 0.009370837188594383,\n",
       " 0.0022972878625837634,\n",
       " 0.00011355371819804505,\n",
       " 0.7807322787469126,\n",
       " 0.015504196847782259,\n",
       " 0.006754106266450455,\n",
       " 0.005332657437104593,\n",
       " 0.004128590387233566,\n",
       " 0.01349985670646725,\n",
       " 0.03587164009286403,\n",
       " 0.03639288566360399,\n",
       " 0.02895768537883936,\n",
       " 0.015277282539334136,\n",
       " 0.25374527631744725,\n",
       " 0.014632409246226219,\n",
       " 0.31321367828578506,\n",
       " 0.0007977448353926331,\n",
       " 0.05613251097277372,\n",
       " 0.003440573500747668,\n",
       " 0.0032387225183607704,\n",
       " 0.007720387902802273,\n",
       " 0.0033236965107824035,\n",
       " 0.01528300311876371,\n",
       " 0.05452469198187315,\n",
       " 0.0043101549325941235,\n",
       " 0.003131714477870806,\n",
       " 0.034881374937461684,\n",
       " 0.04601773657522301,\n",
       " 0.067983945921265,\n",
       " 0.15796418875383433,\n",
       " 0.13018431642224515,\n",
       " 0.04995877343638455,\n",
       " 0.17526061229801448,\n",
       " 0.02932364075716909,\n",
       " 0.057498268835944444,\n",
       " 0.007430617841949094,\n",
       " 0.027928472759037204,\n",
       " 0.0009282391447164862,\n",
       " 0.12128191463710625,\n",
       " 0.10878108215706472,\n",
       " 0.0010051897928317066,\n",
       " 0.0079349727981603,\n",
       " 0.007027084095009184,\n",
       " 0.45114485319244135,\n",
       " 0.016935731910678153,\n",
       " 0.13183808450561463,\n",
       " 0.0020614518047900876,\n",
       " 0.013783623398854805,\n",
       " 0.027450371407727714,\n",
       " 0.006373994465636634,\n",
       " 0.002595132005110079,\n",
       " 0.030779724374219608,\n",
       " 0.0019025955166408204,\n",
       " 0.00865247403844302,\n",
       " 0.12135087302204695,\n",
       " 0.015523263155940326,\n",
       " 0.0050916088901450385,\n",
       " 0.059561483681149774,\n",
       " 0.007250704338005648,\n",
       " 0.016965582527311784,\n",
       " 0.005697835905646098,\n",
       " 0.014568292805996585,\n",
       " 0.02059201271393518,\n",
       " 0.03175446690057804,\n",
       " 0.0038789072472076025,\n",
       " 0.0010985294775048282,\n",
       " 0.0007588866544885331,\n",
       " 0.006473537563122134,\n",
       " 0.041386761687845386,\n",
       " 0.005752527589569345,\n",
       " 0.006678913145048759,\n",
       " 0.002818584143881364,\n",
       " 0.014090592257058221,\n",
       " 0.01080159648949608,\n",
       " 0.002270971537827793,\n",
       " 0.02182308021021273,\n",
       " 0.1963121540736794,\n",
       " 0.006651743127325915,\n",
       " 0.014241997155066244,\n",
       " 0.006030930980472388,\n",
       " 0.256473585885687,\n",
       " 0.020334505991325857,\n",
       " 0.005996952016315782,\n",
       " 0.006125594345469443,\n",
       " 0.009306809621945966,\n",
       " 0.04547721995316534,\n",
       " 0.014259190411420375,\n",
       " 0.002025843143339784,\n",
       " 0.006478594058019094,\n",
       " 0.06969995474976365,\n",
       " 0.0009722377049526942,\n",
       " 0.1432326624077982,\n",
       " 0.547068027188482,\n",
       " 0.015445747155867662,\n",
       " 0.1081878521296723,\n",
       " 0.013061026493367933,\n",
       " 0.017504065247271716,\n",
       " 0.26653961093207057,\n",
       " 0.21346522396389522,\n",
       " 0.013507529830534715,\n",
       " 0.06667150832297931,\n",
       " 0.00955001751455542,\n",
       " 0.0013806214753390167,\n",
       " 0.010189957547511341,\n",
       " 0.005033130345409059,\n",
       " 0.007091933565974484,\n",
       " 0.04461686027705247,\n",
       " 0.0464547410660157,\n",
       " 0.006505429234407223,\n",
       " 0.07973374951537882,\n",
       " 0.016895309835831374,\n",
       " 0.05475207391313419,\n",
       " 0.004599409339599292,\n",
       " 0.13954711864514469,\n",
       " 0.0006904976077415359,\n",
       " 0.0022308883620054676,\n",
       " 0.001282605864772357,\n",
       " 0.43690522720484726,\n",
       " 0.14369675694931772,\n",
       " 0.037003040959297795,\n",
       " 0.17809680484913426,\n",
       " 0.025687841094534813,\n",
       " 0.01937971316868481,\n",
       " 0.01206259325089476,\n",
       " 0.012126906404265309,\n",
       " 0.028152119498096373,\n",
       " 0.004675032320736072,\n",
       " 0.00813447921884447,\n",
       " 0.0006216009119733856,\n",
       " 0.00625341137708646,\n",
       " 0.006641321673833245,\n",
       " 0.0005626014847134875,\n",
       " 0.004296599280597058,\n",
       " 0.004937443523982898,\n",
       " 0.009111184954850554,\n",
       " 0.024578783814102056,\n",
       " 0.10301653626507162,\n",
       " 0.0991387998775064,\n",
       " 0.001725640397970185,\n",
       " 0.17342527755851966,\n",
       " 0.0006114431962235267,\n",
       " 0.01280969031985052,\n",
       " 0.11818864944635399,\n",
       " 0.030684443501000525,\n",
       " 0.008519225089164917,\n",
       " 0.02066540403164474,\n",
       " 0.0014272178435332794,\n",
       " 0.0054920068011152234,\n",
       " 0.007545769835066163,\n",
       " 0.004845621017602275,\n",
       " 0.1696504082807957,\n",
       " 0.006220188723005171,\n",
       " 0.014440414891196907,\n",
       " 0.03466873594432279,\n",
       " 0.0005598369183439922,\n",
       " 0.00677259154823584,\n",
       " 0.0012384567744495034,\n",
       " 0.006078073213302393,\n",
       " 0.0050732100751028075,\n",
       " 0.0005354165863005189,\n",
       " 0.07651293986272889,\n",
       " 0.19842896068032623,\n",
       " 0.0014434768923800023,\n",
       " 0.7308427478198789,\n",
       " 0.005660035648581141,\n",
       " 0.13445292835975087,\n",
       " 0.003405904346145794,\n",
       " 0.04375050380265877,\n",
       " 0.012571293511183246,\n",
       " 0.0009057142855117273,\n",
       " 0.008159830406116175,\n",
       " 0.029642752006820428,\n",
       " 0.06231422082330074,\n",
       " 0.007362206061161558,\n",
       " 0.004401675101106173,\n",
       " 0.024870335513758057,\n",
       " 0.007520890250836132,\n",
       " 0.10571146068416981,\n",
       " 0.09408507968596647,\n",
       " 0.013877973925377762,\n",
       " 0.005604582990969664,\n",
       " 0.0018733625756552352,\n",
       " 0.019970925724421162,\n",
       " 0.007889766356528216,\n",
       " 0.0015963139404837623,\n",
       " 0.0325935823630199,\n",
       " 0.010859245411636298,\n",
       " 0.005293772341600056,\n",
       " 0.004772530677916775,\n",
       " 0.014802448609223862,\n",
       " 0.32235367065664144,\n",
       " 0.014756169385599927,\n",
       " 0.010740075967877849,\n",
       " 0.027785210308952035,\n",
       " 0.0012338579755393764,\n",
       " 0.20166756509762074,\n",
       " 0.4398221146468657,\n",
       " 0.00048388309345892555,\n",
       " 0.016039547940146615,\n",
       " 0.006362168713576477,\n",
       " 0.0047101060026998876,\n",
       " 0.018586039816510525,\n",
       " 0.01809220542772605,\n",
       " 0.01684034241956961,\n",
       " 0.38054970861340687,\n",
       " 0.020399910879385585,\n",
       " 0.03284423301356207,\n",
       " 0.08112572242947069,\n",
       " 0.029477109960512893,\n",
       " 0.008109756849255023,\n",
       " 0.0009859245179101306,\n",
       " 0.06072999869615159,\n",
       " 0.007821813333673266,\n",
       " 0.04670350054500405,\n",
       " 0.1929222173917866,\n",
       " 0.06152189032996391,\n",
       " 0.003100013642924837,\n",
       " 0.00542814688912141,\n",
       " 0.008071904113547912,\n",
       " 0.24716320040353912,\n",
       " 0.005786811425162852,\n",
       " 0.006942046364588672,\n",
       " 0.09367691244692988,\n",
       " 0.01151136639216066,\n",
       " 0.014190581748598607,\n",
       " 0.027029359128357036,\n",
       " 0.01979830188140097,\n",
       " 0.032642801133268895,\n",
       " 0.003209588810485886,\n",
       " 0.028608690050166585,\n",
       " 6.783487203426697e-05,\n",
       " 0.005890522053275116,\n",
       " 0.01468814767505211,\n",
       " 0.005257658012717881,\n",
       " 0.0010368306091208535,\n",
       " 0.027819593370642492,\n",
       " 0.01400303589131624,\n",
       " 0.01682465531205346,\n",
       " 0.013937659690768656,\n",
       " 0.005917598927092094,\n",
       " 0.02194875779322336,\n",
       " 0.020377136540101204,\n",
       " 0.014116447060165127,\n",
       " 0.012784314282057896,\n",
       " 0.10177149163215793,\n",
       " 0.004428910824824661,\n",
       " 0.004458331888475386,\n",
       " 0.004001276640144491,\n",
       " 0.12364541382645156,\n",
       " 0.012887815140924325,\n",
       " 0.511143592533529,\n",
       " 0.0032831478383203994,\n",
       " 0.0020604215798731007,\n",
       " 0.033319686765715506,\n",
       " 0.00516888320827133,\n",
       " 0.016897926240956096,\n",
       " 0.04487395358379764,\n",
       " 0.009386123649780864,\n",
       " 0.006101122992423991,\n",
       " 0.011062881457966856,\n",
       " 0.028169130178648416,\n",
       " 0.01765515517944366,\n",
       " 0.0015009438737884073,\n",
       " 0.014826809920554462,\n",
       " 0.008097351964472699,\n",
       " 0.004625994963447622,\n",
       " 0.004583135569870889,\n",
       " 0.014708766314451616,\n",
       " 0.019308648365104986,\n",
       " 0.0006847795211295526,\n",
       " 0.013873812792982887,\n",
       " 0.010044666126635238,\n",
       " 0.00043376248457843714,\n",
       " 0.008729804838599253,\n",
       " 0.2430017310872843,\n",
       " 0.014002533603150957,\n",
       " 0.017321862233750984,\n",
       " 0.19201639347325328,\n",
       " 0.01413971289344812,\n",
       " 0.05389266488628175,\n",
       " 0.009340473759079704,\n",
       " 0.0016180081608928587,\n",
       " 0.010506818523364214,\n",
       " 0.07547596238872822,\n",
       " 0.01627300599024395,\n",
       " 0.37962931945470846,\n",
       " 0.12988514454734312,\n",
       " 0.08805704369747502,\n",
       " 0.0035800391494255346,\n",
       " 0.020172174333307646,\n",
       " 0.0055085392397843935,\n",
       " 0.017380065102131803,\n",
       " 0.02531105448463966,\n",
       " 0.01443486327906729,\n",
       " 0.01674583441292321,\n",
       " 0.02120587018055886,\n",
       " 0.2871525093559635,\n",
       " 0.013418854565868277,\n",
       " 0.0056098312706578946,\n",
       " 0.01690599482249322,\n",
       " 0.001630074921841529,\n",
       " 0.013914430609896389,\n",
       " 0.014953718352895384,\n",
       " 0.07545066786092436,\n",
       " 0.03128436828838055,\n",
       " 0.03435040641922282,\n",
       " 0.0014527733144408528,\n",
       " 0.002634223382856904,\n",
       " 0.0386058621889776,\n",
       " 0.0028022830913084773,\n",
       " 0.019944555794547236,\n",
       " 0.017906556299281506,\n",
       " 0.04368669339402653,\n",
       " 0.004808598430608768,\n",
       " 0.0238899852686551,\n",
       " 0.024643878864602453,\n",
       " 0.13720114337362843,\n",
       " 0.11311780616662381,\n",
       " 0.006344201555309292,\n",
       " 0.013375418193438071,\n",
       " 0.007556284387553069,\n",
       " 0.008126013456349224,\n",
       " 0.11682195021653285,\n",
       " 0.02885744037805571,\n",
       " 0.03172748869600717,\n",
       " 0.006061967379022315,\n",
       " 0.00695764589104092,\n",
       " 0.014535863183650355,\n",
       " 0.221525818825685,\n",
       " 0.2759995862104965,\n",
       " 0.2552494497382056,\n",
       " 0.02293252681877822,\n",
       " 0.04082970093959215,\n",
       " 0.039085805086959136,\n",
       " 0.000692799801160271,\n",
       " 0.002602407942974616,\n",
       " 0.24039692802259616,\n",
       " 0.1672914156502805,\n",
       " 0.00531822332346904,\n",
       " 0.14045492248152547,\n",
       " 0.006399168680996881,\n",
       " 0.012807973929502392,\n",
       " 0.199361927293064,\n",
       " 0.008657487828718835,\n",
       " 0.12606239771479377,\n",
       " 0.06405462368509773,\n",
       " 0.015195390293341882,\n",
       " 0.005325569289165444,\n",
       " 0.008793191177691784,\n",
       " 0.005977671685029828,\n",
       " 0.06410253043689074,\n",
       " 0.01645738391135665,\n",
       " 0.007580879492334103,\n",
       " 0.002372191020514336,\n",
       " 0.14620146733120132,\n",
       " 0.005477962640049516,\n",
       " 0.008992737749614788,\n",
       " 0.029429378397707096,\n",
       " 0.005318727241278576,\n",
       " 0.0984116266110252,\n",
       " 0.0016240126769708763,\n",
       " 0.021572386382788578,\n",
       " 0.008135182801640106,\n",
       " 0.008167367394329994,\n",
       " 0.0010983210175263824,\n",
       " 0.005615081779761444,\n",
       " 0.04202445132707178,\n",
       " 0.010336709295205582,\n",
       " 0.05731907938390124,\n",
       " 0.006967454119140626,\n",
       " 0.14631412366735974,\n",
       " 0.13458147355399497,\n",
       " 0.032533024107458175,\n",
       " 0.00647444564791555,\n",
       " 0.00584433838999715,\n",
       " 0.0022393760186769085,\n",
       " 0.00629301200168475,\n",
       " 0.00819862983740538,\n",
       " 0.006222150921505659,\n",
       " 0.03914046425645956,\n",
       " 0.025453732506368176,\n",
       " 0.09815362025783725,\n",
       " 0.20512919183169753,\n",
       " 0.08701865423070188,\n",
       " 0.08365048571331779,\n",
       " 0.04525436499843764,\n",
       " 0.006435625280777069,\n",
       " 0.004802210397365669,\n",
       " 0.001183223236941533,\n",
       " 0.023418864507486203,\n",
       " 0.012473385704164952,\n",
       " 0.008188379649624267,\n",
       " 0.13949288439963659,\n",
       " 0.0015320449951434778,\n",
       " 0.01702110869085738,\n",
       " 0.0037243114537191535,\n",
       " 0.005782730730794661,\n",
       " 0.17043705076798799,\n",
       " 0.07776755843570515,\n",
       " 0.035262412653188635,\n",
       " 0.0011201282232105592,\n",
       " 0.006524832271204872,\n",
       " 0.05682704966362673,\n",
       " 0.005301246484755051,\n",
       " 0.01069187039405417,\n",
       " 0.11214305378132439,\n",
       " 0.002065834352306034,\n",
       " 0.09693064535213969,\n",
       " 0.006172120645425605,\n",
       " 0.026197342198704288,\n",
       " 0.029337220075189907,\n",
       " 0.021287957599428253,\n",
       " 0.004671794871358659,\n",
       " 0.05432122586636544,\n",
       " 0.007232762158364103,\n",
       " 0.1963468179228729,\n",
       " 0.017215212349622866,\n",
       " 0.04381186655828739,\n",
       " 0.000659896133310578,\n",
       " 0.08875688397379122,\n",
       " 0.003469831383265176,\n",
       " 0.0008838780340728047,\n",
       " 0.03623123418038121,\n",
       " 0.012629352937696625,\n",
       " 0.007788572116681325,\n",
       " 0.0016465728621903875,\n",
       " 0.03988191764271712,\n",
       " 0.049358319306316956,\n",
       " 0.00313996978682185,\n",
       " 0.017852042815779512,\n",
       " 0.18661814730736181,\n",
       " 0.0016190939981054475,\n",
       " 0.0017288273104896779,\n",
       " 0.006737208600771705,\n",
       " 0.08718427676542118,\n",
       " 0.039219162906452,\n",
       " 0.01052130867838802,\n",
       " 0.013161146502860877,\n",
       " 0.04744716240239541,\n",
       " 0.07313802466034158,\n",
       " 0.2490719311264158,\n",
       " 0.28259831781076183,\n",
       " 0.010259156017589421,\n",
       " 0.012304563806335489,\n",
       " 0.008518691996343253,\n",
       " 0.025572986413061882,\n",
       " 0.23946908625477703,\n",
       " 0.003809611809741209,\n",
       " 0.006256508655222093,\n",
       " 0.0015928705830786094,\n",
       " 0.07652599762727752,\n",
       " 0.014637428785264917,\n",
       " 0.09845034983498135,\n",
       " 0.008815251063630514,\n",
       " 0.175225731351057,\n",
       " 0.0012579501127472636,\n",
       " 0.005037084018335691,\n",
       " 0.006407531428373192,\n",
       " 0.004332744043039294,\n",
       " 0.002310227309626045,\n",
       " 0.015497568196706057,\n",
       " 0.005485487483173401,\n",
       " 0.07926899420670863,\n",
       " 0.00968100901039809,\n",
       " 0.022181865237610232,\n",
       " 0.015017152877850493,\n",
       " 0.0030606035356701145,\n",
       " 0.05200102707201193,\n",
       " 0.19769948322289577,\n",
       " 0.004271007646642344,\n",
       " 0.05651032507160125,\n",
       " 0.36062920733626314,\n",
       " 0.059123752025709964,\n",
       " 0.004184282453426946,\n",
       " 0.20989276839228532,\n",
       " 0.014764875215740408,\n",
       " 0.004943257586407124,\n",
       " 0.035004733282608336,\n",
       " 0.022441515469242224,\n",
       " 0.017918867144752104,\n",
       " 0.007230047340081036,\n",
       " 0.0046913421824311685,\n",
       " 0.0372491974096365,\n",
       " 0.01750496050701905,\n",
       " 0.008975977455576323,\n",
       " 0.03084330607346919,\n",
       " 0.03345695372960855,\n",
       " 0.01630223178084944,\n",
       " 0.007218017936829746,\n",
       " 0.008687618388659613,\n",
       " 0.008637107277361111,\n",
       " 0.00017382076963615156,\n",
       " 0.023012857670174247,\n",
       " 0.016191926763593323,\n",
       " 0.012979922011051637,\n",
       " 0.0016260232600828206,\n",
       " 0.013355017588406959,\n",
       " 0.01858452852356829,\n",
       " 0.0022279761273534815,\n",
       " 0.00665258074641889,\n",
       " 0.019568170555700037,\n",
       " 9.638296274872005e-06,\n",
       " 0.00024369822740810676,\n",
       " 0.030138058578187854,\n",
       " 0.003158696496612212,\n",
       " 0.006836032875223497,\n",
       " 0.0042513381000734984,\n",
       " 0.09799864642755352,\n",
       " 0.009266645809798302,\n",
       " 0.07377881252029805,\n",
       " 0.0013742544629005704,\n",
       " 0.015496024924872787,\n",
       " 0.009106802685635518,\n",
       " 0.006493921216171039,\n",
       " 0.014849740215459983,\n",
       " 0.018602865843031002,\n",
       " 0.004994222060349496,\n",
       " 0.0104310827679438,\n",
       " 0.06848137460289583,\n",
       " 0.02112506399114955,\n",
       " 0.00732342224769883,\n",
       " 0.02061273654695639,\n",
       " 0.0002378229924543951,\n",
       " 0.048694145175567416,\n",
       " 0.03634149045151386,\n",
       " 0.01828892452576636,\n",
       " 0.13012414045049514,\n",
       " 0.02251531950376301,\n",
       " 0.00598630210886647,\n",
       " 0.007594651125455182,\n",
       " 0.07323901343095618,\n",
       " 0.009078562147114111,\n",
       " 0.02970069974057643,\n",
       " 0.0030587046620831337,\n",
       " 0.020789878688597052,\n",
       " 0.005448716656671071,\n",
       " 0.19955358000363477,\n",
       " 0.0007285587702929308,\n",
       " 0.00527859426903754,\n",
       " 0.005531124489166039,\n",
       " 0.018975328098282396,\n",
       " 0.0028445634088636873,\n",
       " 2.0364498265701414e-05,\n",
       " 0.006702834854689421,\n",
       " 0.014790893777106406,\n",
       " 0.16835952804761933,\n",
       " 0.013906775317312048,\n",
       " 0.16876797820909606,\n",
       " 0.009850329162019444,\n",
       " 0.016881645381807586,\n",
       " 0.04653935608950477,\n",
       " 0.02601988177332515,\n",
       " 0.013979777691999762,\n",
       " 0.004770394374729592,\n",
       " 0.005105285283078409,\n",
       " 0.002156669510748055,\n",
       " 0.017252375760160976,\n",
       " 0.28424914312128635,\n",
       " 0.020546422796115404,\n",
       " 0.007423340257158517,\n",
       " 0.003067020573022855,\n",
       " 0.01654558223547975,\n",
       " 0.14572921586680598,\n",
       " 0.08721003475358402,\n",
       " 0.04920524198661691,\n",
       " 0.01186896880821331,\n",
       " 0.0009603453926625705,\n",
       " 0.012099948609980649,\n",
       " 0.07966603586080656,\n",
       " 0.017890649219358318,\n",
       " 0.008490193487038722,\n",
       " 0.004432767006823435,\n",
       " 0.0012856550974378878,\n",
       " 0.00960293106200788,\n",
       " 0.03538874359126054,\n",
       " 0.006755596618510773,\n",
       " 0.0030076423888996673,\n",
       " 0.00040495755566788416,\n",
       " 0.06622727091507596,\n",
       " 0.03366432776721173,\n",
       " 0.005864941228112486,\n",
       " 0.010602190886017215,\n",
       " 0.004065037019579887,\n",
       " 0.0016889356262451694,\n",
       " 0.0015723487898016697,\n",
       " 0.10199812539080466,\n",
       " 0.017319232767315063,\n",
       " 0.1552474074333352,\n",
       " 0.006519749370131889,\n",
       " 0.015143209345134023,\n",
       " 0.0012955415403364812,\n",
       " 0.028216660614887923,\n",
       " 0.019070571857648377,\n",
       " 0.16080579177829746,\n",
       " 0.05945731935619292,\n",
       " 0.0009315835803237471,\n",
       " 0.02180845122342767,\n",
       " 0.04016737834110462,\n",
       " 0.001182104469858114,\n",
       " 0.04180881356588373,\n",
       " 0.009718826590255025,\n",
       " 0.013732886353168106,\n",
       " 0.0014626213783268394,\n",
       " 0.06646350473091633,\n",
       " 0.0005534928515821269,\n",
       " 0.033660853541751745,\n",
       " 0.0683620449057647,\n",
       " 0.0023809042300967365,\n",
       " 0.0760993006538182,\n",
       " 0.0028381526390968415,\n",
       " 0.09691896182933113,\n",
       " 0.0072857938146976275,\n",
       " 0.06441244435816107,\n",
       " 0.0013661783633640567,\n",
       " 0.027616821343229736,\n",
       " 0.01003605062065055,\n",
       " 0.09273642350365296,\n",
       " 0.019258822590417668,\n",
       " 0.0356919787490555,\n",
       " 0.16278103031963265,\n",
       " 0.3145041790009535,\n",
       " 0.025719868636578214,\n",
       " 0.017186373711969016,\n",
       " 0.009501495315012098,\n",
       " 0.0007416776431159455,\n",
       " 0.013007294826780813,\n",
       " 0.08784646280757769,\n",
       " 0.006571366090305397,\n",
       " 0.11273674784088383,\n",
       " 0.03761016021404684,\n",
       " 0.008953107195690868,\n",
       " 0.007957285196855068,\n",
       " 0.004225938300799981,\n",
       " 0.14179123976140895,\n",
       " 0.025174431513645956,\n",
       " 0.006934855598250411,\n",
       " 0.003823131714838668,\n",
       " 0.008493057189049247,\n",
       " 0.0014061747462709717,\n",
       " 0.011589573247875573,\n",
       " 0.016464876596841954,\n",
       " 0.003881916256801954,\n",
       " 0.2698322716573496,\n",
       " 0.03426684402872715,\n",
       " 0.010772999406202577,\n",
       " 0.1656514708854424,\n",
       " 0.005477675151545874,\n",
       " 0.0054955554267125395,\n",
       " 0.019287355049348198,\n",
       " 0.00955001751455542,\n",
       " ...]"
      ]
     },
     "execution_count": 23,
     "metadata": {},
     "output_type": "execute_result"
    }
   ],
   "source": [
    "diff"
   ]
  },
  {
   "cell_type": "code",
   "execution_count": 24,
   "metadata": {},
   "outputs": [
    {
     "data": {
      "text/plain": [
       "0.8212087765067898"
      ]
     },
     "execution_count": 24,
     "metadata": {},
     "output_type": "execute_result"
    }
   ],
   "source": [
    "threshold = plot[1][i]\n",
    "thresh_classification = [0 if x < threshold else 1 for x in diff]\n",
    "\n",
    "accuracy = sum([1 if i == j else 0 for i, j in zip(thresh_classification, y_test)]) / len(y_test)\n",
    "accuracy"
   ]
  },
  {
   "cell_type": "markdown",
   "metadata": {},
   "source": [
    "### LSTM w/ timeseries"
   ]
  },
  {
   "cell_type": "markdown",
   "metadata": {},
   "source": [
    "This creates timesteps that are 1 day apart. However, each day does not have an equal number of datapoints"
   ]
  },
  {
   "cell_type": "code",
   "execution_count": 25,
   "metadata": {},
   "outputs": [],
   "source": [
    "# def get_days(x, i, current_time):\n",
    "#     start_day = current_time\n",
    "#     while current_time == start_day and i < len(x):\n",
    "#         current_time = x.iloc[i]['date']\n",
    "#         i+=1\n",
    "#     return i, current_time\n",
    "\n",
    "\n",
    "# def to_sequences(x, y):\n",
    "#     x_values = []\n",
    "#     y_values = []\n",
    "#     current_time = x['date'].iloc[0]\n",
    "#     end_time = x['date'].iloc[-1]\n",
    "#     j = 0\n",
    "#     while current_time <= end_time:\n",
    "#         step, next_day = get_days(x,j,current_time)\n",
    "#         if step < len(x):\n",
    "#             x_values.append(x.iloc[j:step].values)\n",
    "#             y_values.append(y.iloc[step])            \n",
    "#             current_time = next_day\n",
    "#         else:\n",
    "#             x_values.append(x.iloc[j:step-1].values)\n",
    "#             y_values.append(y.iloc[step-1])\n",
    "#             break   \n",
    "#         j=step\n",
    "#     return np.array(x_values), np.array(y_values)"
   ]
  },
  {
   "cell_type": "markdown",
   "metadata": {},
   "source": [
    "Seperates into equal siaed timesteps"
   ]
  },
  {
   "cell_type": "code",
   "execution_count": 26,
   "metadata": {},
   "outputs": [],
   "source": [
    "def to_sequences_homogenous(x, y, seq_size=1):\n",
    "    x_values = [x.iloc[i:(i+seq_size)].values for i in range(len(x)-seq_size)]\n",
    "    y_values = [y.iloc[i:i+seq_size] for i in range(len(x)-seq_size)]\n",
    "        \n",
    "    return np.array(x_values), np.array(y_values)"
   ]
  },
  {
   "cell_type": "markdown",
   "metadata": {},
   "source": [
    "Pick timesteps and split into train and test"
   ]
  },
  {
   "cell_type": "code",
   "execution_count": 27,
   "metadata": {},
   "outputs": [],
   "source": [
    "# xtrain, ytrain = to_sequences(df, df.drop('date', axis=1))\n",
    "X_timeseries, _ = to_sequences_homogenous(df, df, 50)"
   ]
  },
  {
   "cell_type": "code",
   "execution_count": 34,
   "metadata": {},
   "outputs": [
    {
     "name": "stderr",
     "output_type": "stream",
     "text": [
      "C:\\Users\\zlaw6\\AppData\\Local\\Temp\\ipykernel_23392\\2723171822.py:1: FutureWarning: The behavior of `series[i:j]` with an integer-dtype index is deprecated. In a future version, this will be treated as *label-based* indexing, consistent with e.g. `series[i]` lookups. To retain the old behavior, use `series.iloc[i:j]`. To get the future behavior, use `series.loc[i:j]`.\n",
      "  X_train, X_test, y_train, y_test = train_test_split(X_timeseries, y[:-50], test_size=0.33, random_state=42)\n"
     ]
    }
   ],
   "source": [
    "X_train, X_test, y_train, y_test = train_test_split(X_timeseries, y[:-50], test_size=0.33, random_state=42)"
   ]
  },
  {
   "cell_type": "markdown",
   "metadata": {},
   "source": [
    "Creates model: encoder has 1 LSTM layer and dropoout layer, repeat vector, and decoder has 1 LSTM and dropout layer and then processes timeseries data with the TimeDistributed wrapper "
   ]
  },
  {
   "cell_type": "code",
   "execution_count": null,
   "metadata": {},
   "outputs": [
    {
     "name": "stdout",
     "output_type": "stream",
     "text": [
      "Model: \"sequential_1\"\n",
      "_________________________________________________________________\n",
      " Layer (type)                Output Shape              Param #   \n",
      "=================================================================\n",
      " lstm (LSTM)                 (None, 128)               70656     \n",
      "                                                                 \n",
      " dropout_4 (Dropout)         (None, 128)               0         \n",
      "                                                                 \n",
      " repeat_vector (RepeatVector  (None, 50, 128)          0         \n",
      " )                                                               \n",
      "                                                                 \n",
      " lstm_1 (LSTM)               (None, 50, 128)           131584    \n",
      "                                                                 \n",
      " dropout_5 (Dropout)         (None, 50, 128)           0         \n",
      "                                                                 \n",
      " time_distributed (TimeDistr  (None, 50, 9)            1161      \n",
      " ibuted)                                                         \n",
      "                                                                 \n",
      "=================================================================\n",
      "Total params: 203,401\n",
      "Trainable params: 203,401\n",
      "Non-trainable params: 0\n",
      "_________________________________________________________________\n"
     ]
    }
   ],
   "source": [
    "model = Sequential()\n",
    "model.add(LSTM(128, input_shape=(X_train.shape[1], X_train.shape[2])))\n",
    "model.add(Dropout(rate=0.2))\n",
    "\n",
    "model.add(RepeatVector(X_train.shape[1]))\n",
    "\n",
    "model.add(LSTM(128, return_sequences=True))\n",
    "model.add(Dropout(rate=0.2))\n",
    "model.add(TimeDistributed(Dense(X_train.shape[2])))\n",
    "model.compile(optimizer='adam', loss='mae')\n",
    "model.summary()"
   ]
  },
  {
   "cell_type": "markdown",
   "metadata": {},
   "source": [
    "Fits model and calculates the losses"
   ]
  },
  {
   "cell_type": "markdown",
   "metadata": {},
   "source": [
    "Creates model: encoder has 1 LSTM layer and dropoout layer, repeat vector, and decoder has 1 LSTM and dropout layer and then processes timeseries data with the TimeDistributed wrapper "
   ]
  },
  {
   "cell_type": "code",
   "execution_count": null,
   "metadata": {},
   "outputs": [
    {
     "name": "stdout",
     "output_type": "stream",
     "text": [
      "Epoch 1/10\n",
      " 1012/12140 [=>............................] - ETA: 16:10 - loss: 0.0428"
     ]
    },
    {
     "ename": "KeyboardInterrupt",
     "evalue": "",
     "output_type": "error",
     "traceback": [
      "\u001b[1;31m---------------------------------------------------------------------------\u001b[0m",
      "\u001b[1;31mKeyboardInterrupt\u001b[0m                         Traceback (most recent call last)",
      "Cell \u001b[1;32mIn[29], line 1\u001b[0m\n\u001b[1;32m----> 1\u001b[0m history \u001b[39m=\u001b[39m model\u001b[39m.\u001b[39;49mfit(X_train, X_train, epochs\u001b[39m=\u001b[39;49m\u001b[39m10\u001b[39;49m, batch_size\u001b[39m=\u001b[39;49mX_train\u001b[39m.\u001b[39;49mshape[\u001b[39m1\u001b[39;49m], validation_data\u001b[39m=\u001b[39;49m(X_test, X_test), verbose\u001b[39m=\u001b[39;49m\u001b[39m1\u001b[39;49m)\n\u001b[0;32m      2\u001b[0m plt\u001b[39m.\u001b[39mplot(history\u001b[39m.\u001b[39mhistory[\u001b[39m'\u001b[39m\u001b[39mloss\u001b[39m\u001b[39m'\u001b[39m], label\u001b[39m=\u001b[39m\u001b[39m'\u001b[39m\u001b[39mloss\u001b[39m\u001b[39m'\u001b[39m)\n\u001b[0;32m      3\u001b[0m plt\u001b[39m.\u001b[39mplot(history\u001b[39m.\u001b[39mhistory[\u001b[39m'\u001b[39m\u001b[39mval_loss\u001b[39m\u001b[39m'\u001b[39m], label\u001b[39m=\u001b[39m\u001b[39m'\u001b[39m\u001b[39mval_loss\u001b[39m\u001b[39m'\u001b[39m)\n",
      "File \u001b[1;32m~\\AppData\\Local\\Packages\\PythonSoftwareFoundation.Python.3.10_qbz5n2kfra8p0\\LocalCache\\local-packages\\Python310\\site-packages\\keras\\utils\\traceback_utils.py:65\u001b[0m, in \u001b[0;36mfilter_traceback.<locals>.error_handler\u001b[1;34m(*args, **kwargs)\u001b[0m\n\u001b[0;32m     63\u001b[0m filtered_tb \u001b[39m=\u001b[39m \u001b[39mNone\u001b[39;00m\n\u001b[0;32m     64\u001b[0m \u001b[39mtry\u001b[39;00m:\n\u001b[1;32m---> 65\u001b[0m     \u001b[39mreturn\u001b[39;00m fn(\u001b[39m*\u001b[39margs, \u001b[39m*\u001b[39m\u001b[39m*\u001b[39mkwargs)\n\u001b[0;32m     66\u001b[0m \u001b[39mexcept\u001b[39;00m \u001b[39mException\u001b[39;00m \u001b[39mas\u001b[39;00m e:\n\u001b[0;32m     67\u001b[0m     filtered_tb \u001b[39m=\u001b[39m _process_traceback_frames(e\u001b[39m.\u001b[39m__traceback__)\n",
      "File \u001b[1;32m~\\AppData\\Local\\Packages\\PythonSoftwareFoundation.Python.3.10_qbz5n2kfra8p0\\LocalCache\\local-packages\\Python310\\site-packages\\keras\\engine\\training.py:1650\u001b[0m, in \u001b[0;36mModel.fit\u001b[1;34m(self, x, y, batch_size, epochs, verbose, callbacks, validation_split, validation_data, shuffle, class_weight, sample_weight, initial_epoch, steps_per_epoch, validation_steps, validation_batch_size, validation_freq, max_queue_size, workers, use_multiprocessing)\u001b[0m\n\u001b[0;32m   1642\u001b[0m \u001b[39mwith\u001b[39;00m tf\u001b[39m.\u001b[39mprofiler\u001b[39m.\u001b[39mexperimental\u001b[39m.\u001b[39mTrace(\n\u001b[0;32m   1643\u001b[0m     \u001b[39m\"\u001b[39m\u001b[39mtrain\u001b[39m\u001b[39m\"\u001b[39m,\n\u001b[0;32m   1644\u001b[0m     epoch_num\u001b[39m=\u001b[39mepoch,\n\u001b[1;32m   (...)\u001b[0m\n\u001b[0;32m   1647\u001b[0m     _r\u001b[39m=\u001b[39m\u001b[39m1\u001b[39m,\n\u001b[0;32m   1648\u001b[0m ):\n\u001b[0;32m   1649\u001b[0m     callbacks\u001b[39m.\u001b[39mon_train_batch_begin(step)\n\u001b[1;32m-> 1650\u001b[0m     tmp_logs \u001b[39m=\u001b[39m \u001b[39mself\u001b[39;49m\u001b[39m.\u001b[39;49mtrain_function(iterator)\n\u001b[0;32m   1651\u001b[0m     \u001b[39mif\u001b[39;00m data_handler\u001b[39m.\u001b[39mshould_sync:\n\u001b[0;32m   1652\u001b[0m         context\u001b[39m.\u001b[39masync_wait()\n",
      "File \u001b[1;32m~\\AppData\\Local\\Packages\\PythonSoftwareFoundation.Python.3.10_qbz5n2kfra8p0\\LocalCache\\local-packages\\Python310\\site-packages\\tensorflow\\python\\util\\traceback_utils.py:150\u001b[0m, in \u001b[0;36mfilter_traceback.<locals>.error_handler\u001b[1;34m(*args, **kwargs)\u001b[0m\n\u001b[0;32m    148\u001b[0m filtered_tb \u001b[39m=\u001b[39m \u001b[39mNone\u001b[39;00m\n\u001b[0;32m    149\u001b[0m \u001b[39mtry\u001b[39;00m:\n\u001b[1;32m--> 150\u001b[0m   \u001b[39mreturn\u001b[39;00m fn(\u001b[39m*\u001b[39margs, \u001b[39m*\u001b[39m\u001b[39m*\u001b[39mkwargs)\n\u001b[0;32m    151\u001b[0m \u001b[39mexcept\u001b[39;00m \u001b[39mException\u001b[39;00m \u001b[39mas\u001b[39;00m e:\n\u001b[0;32m    152\u001b[0m   filtered_tb \u001b[39m=\u001b[39m _process_traceback_frames(e\u001b[39m.\u001b[39m__traceback__)\n",
      "File \u001b[1;32m~\\AppData\\Local\\Packages\\PythonSoftwareFoundation.Python.3.10_qbz5n2kfra8p0\\LocalCache\\local-packages\\Python310\\site-packages\\tensorflow\\python\\eager\\polymorphic_function\\polymorphic_function.py:880\u001b[0m, in \u001b[0;36mFunction.__call__\u001b[1;34m(self, *args, **kwds)\u001b[0m\n\u001b[0;32m    877\u001b[0m compiler \u001b[39m=\u001b[39m \u001b[39m\"\u001b[39m\u001b[39mxla\u001b[39m\u001b[39m\"\u001b[39m \u001b[39mif\u001b[39;00m \u001b[39mself\u001b[39m\u001b[39m.\u001b[39m_jit_compile \u001b[39melse\u001b[39;00m \u001b[39m\"\u001b[39m\u001b[39mnonXla\u001b[39m\u001b[39m\"\u001b[39m\n\u001b[0;32m    879\u001b[0m \u001b[39mwith\u001b[39;00m OptionalXlaContext(\u001b[39mself\u001b[39m\u001b[39m.\u001b[39m_jit_compile):\n\u001b[1;32m--> 880\u001b[0m   result \u001b[39m=\u001b[39m \u001b[39mself\u001b[39m\u001b[39m.\u001b[39m_call(\u001b[39m*\u001b[39margs, \u001b[39m*\u001b[39m\u001b[39m*\u001b[39mkwds)\n\u001b[0;32m    882\u001b[0m new_tracing_count \u001b[39m=\u001b[39m \u001b[39mself\u001b[39m\u001b[39m.\u001b[39mexperimental_get_tracing_count()\n\u001b[0;32m    883\u001b[0m without_tracing \u001b[39m=\u001b[39m (tracing_count \u001b[39m==\u001b[39m new_tracing_count)\n",
      "File \u001b[1;32m~\\AppData\\Local\\Packages\\PythonSoftwareFoundation.Python.3.10_qbz5n2kfra8p0\\LocalCache\\local-packages\\Python310\\site-packages\\tensorflow\\python\\eager\\polymorphic_function\\polymorphic_function.py:912\u001b[0m, in \u001b[0;36mFunction._call\u001b[1;34m(self, *args, **kwds)\u001b[0m\n\u001b[0;32m    909\u001b[0m   \u001b[39mself\u001b[39m\u001b[39m.\u001b[39m_lock\u001b[39m.\u001b[39mrelease()\n\u001b[0;32m    910\u001b[0m   \u001b[39m# In this case we have created variables on the first call, so we run the\u001b[39;00m\n\u001b[0;32m    911\u001b[0m   \u001b[39m# defunned version which is guaranteed to never create variables.\u001b[39;00m\n\u001b[1;32m--> 912\u001b[0m   \u001b[39mreturn\u001b[39;00m \u001b[39mself\u001b[39m\u001b[39m.\u001b[39m_no_variable_creation_fn(\u001b[39m*\u001b[39margs, \u001b[39m*\u001b[39m\u001b[39m*\u001b[39mkwds)  \u001b[39m# pylint: disable=not-callable\u001b[39;00m\n\u001b[0;32m    913\u001b[0m \u001b[39melif\u001b[39;00m \u001b[39mself\u001b[39m\u001b[39m.\u001b[39m_variable_creation_fn \u001b[39mis\u001b[39;00m \u001b[39mnot\u001b[39;00m \u001b[39mNone\u001b[39;00m:\n\u001b[0;32m    914\u001b[0m   \u001b[39m# Release the lock early so that multiple threads can perform the call\u001b[39;00m\n\u001b[0;32m    915\u001b[0m   \u001b[39m# in parallel.\u001b[39;00m\n\u001b[0;32m    916\u001b[0m   \u001b[39mself\u001b[39m\u001b[39m.\u001b[39m_lock\u001b[39m.\u001b[39mrelease()\n",
      "File \u001b[1;32m~\\AppData\\Local\\Packages\\PythonSoftwareFoundation.Python.3.10_qbz5n2kfra8p0\\LocalCache\\local-packages\\Python310\\site-packages\\tensorflow\\python\\eager\\polymorphic_function\\tracing_compiler.py:134\u001b[0m, in \u001b[0;36mTracingCompiler.__call__\u001b[1;34m(self, *args, **kwargs)\u001b[0m\n\u001b[0;32m    131\u001b[0m \u001b[39mwith\u001b[39;00m \u001b[39mself\u001b[39m\u001b[39m.\u001b[39m_lock:\n\u001b[0;32m    132\u001b[0m   (concrete_function,\n\u001b[0;32m    133\u001b[0m    filtered_flat_args) \u001b[39m=\u001b[39m \u001b[39mself\u001b[39m\u001b[39m.\u001b[39m_maybe_define_function(args, kwargs)\n\u001b[1;32m--> 134\u001b[0m \u001b[39mreturn\u001b[39;00m concrete_function\u001b[39m.\u001b[39;49m_call_flat(\n\u001b[0;32m    135\u001b[0m     filtered_flat_args, captured_inputs\u001b[39m=\u001b[39;49mconcrete_function\u001b[39m.\u001b[39;49mcaptured_inputs)\n",
      "File \u001b[1;32m~\\AppData\\Local\\Packages\\PythonSoftwareFoundation.Python.3.10_qbz5n2kfra8p0\\LocalCache\\local-packages\\Python310\\site-packages\\tensorflow\\python\\eager\\polymorphic_function\\monomorphic_function.py:1745\u001b[0m, in \u001b[0;36mConcreteFunction._call_flat\u001b[1;34m(self, args, captured_inputs, cancellation_manager)\u001b[0m\n\u001b[0;32m   1741\u001b[0m possible_gradient_type \u001b[39m=\u001b[39m gradients_util\u001b[39m.\u001b[39mPossibleTapeGradientTypes(args)\n\u001b[0;32m   1742\u001b[0m \u001b[39mif\u001b[39;00m (possible_gradient_type \u001b[39m==\u001b[39m gradients_util\u001b[39m.\u001b[39mPOSSIBLE_GRADIENT_TYPES_NONE\n\u001b[0;32m   1743\u001b[0m     \u001b[39mand\u001b[39;00m executing_eagerly):\n\u001b[0;32m   1744\u001b[0m   \u001b[39m# No tape is watching; skip to running the function.\u001b[39;00m\n\u001b[1;32m-> 1745\u001b[0m   \u001b[39mreturn\u001b[39;00m \u001b[39mself\u001b[39m\u001b[39m.\u001b[39m_build_call_outputs(\u001b[39mself\u001b[39;49m\u001b[39m.\u001b[39;49m_inference_function\u001b[39m.\u001b[39;49mcall(\n\u001b[0;32m   1746\u001b[0m       ctx, args, cancellation_manager\u001b[39m=\u001b[39;49mcancellation_manager))\n\u001b[0;32m   1747\u001b[0m forward_backward \u001b[39m=\u001b[39m \u001b[39mself\u001b[39m\u001b[39m.\u001b[39m_select_forward_and_backward_functions(\n\u001b[0;32m   1748\u001b[0m     args,\n\u001b[0;32m   1749\u001b[0m     possible_gradient_type,\n\u001b[0;32m   1750\u001b[0m     executing_eagerly)\n\u001b[0;32m   1751\u001b[0m forward_function, args_with_tangents \u001b[39m=\u001b[39m forward_backward\u001b[39m.\u001b[39mforward()\n",
      "File \u001b[1;32m~\\AppData\\Local\\Packages\\PythonSoftwareFoundation.Python.3.10_qbz5n2kfra8p0\\LocalCache\\local-packages\\Python310\\site-packages\\tensorflow\\python\\eager\\polymorphic_function\\monomorphic_function.py:378\u001b[0m, in \u001b[0;36m_EagerDefinedFunction.call\u001b[1;34m(self, ctx, args, cancellation_manager)\u001b[0m\n\u001b[0;32m    376\u001b[0m \u001b[39mwith\u001b[39;00m _InterpolateFunctionError(\u001b[39mself\u001b[39m):\n\u001b[0;32m    377\u001b[0m   \u001b[39mif\u001b[39;00m cancellation_manager \u001b[39mis\u001b[39;00m \u001b[39mNone\u001b[39;00m:\n\u001b[1;32m--> 378\u001b[0m     outputs \u001b[39m=\u001b[39m execute\u001b[39m.\u001b[39;49mexecute(\n\u001b[0;32m    379\u001b[0m         \u001b[39mstr\u001b[39;49m(\u001b[39mself\u001b[39;49m\u001b[39m.\u001b[39;49msignature\u001b[39m.\u001b[39;49mname),\n\u001b[0;32m    380\u001b[0m         num_outputs\u001b[39m=\u001b[39;49m\u001b[39mself\u001b[39;49m\u001b[39m.\u001b[39;49m_num_outputs,\n\u001b[0;32m    381\u001b[0m         inputs\u001b[39m=\u001b[39;49margs,\n\u001b[0;32m    382\u001b[0m         attrs\u001b[39m=\u001b[39;49mattrs,\n\u001b[0;32m    383\u001b[0m         ctx\u001b[39m=\u001b[39;49mctx)\n\u001b[0;32m    384\u001b[0m   \u001b[39melse\u001b[39;00m:\n\u001b[0;32m    385\u001b[0m     outputs \u001b[39m=\u001b[39m execute\u001b[39m.\u001b[39mexecute_with_cancellation(\n\u001b[0;32m    386\u001b[0m         \u001b[39mstr\u001b[39m(\u001b[39mself\u001b[39m\u001b[39m.\u001b[39msignature\u001b[39m.\u001b[39mname),\n\u001b[0;32m    387\u001b[0m         num_outputs\u001b[39m=\u001b[39m\u001b[39mself\u001b[39m\u001b[39m.\u001b[39m_num_outputs,\n\u001b[1;32m   (...)\u001b[0m\n\u001b[0;32m    390\u001b[0m         ctx\u001b[39m=\u001b[39mctx,\n\u001b[0;32m    391\u001b[0m         cancellation_manager\u001b[39m=\u001b[39mcancellation_manager)\n",
      "File \u001b[1;32m~\\AppData\\Local\\Packages\\PythonSoftwareFoundation.Python.3.10_qbz5n2kfra8p0\\LocalCache\\local-packages\\Python310\\site-packages\\tensorflow\\python\\eager\\execute.py:52\u001b[0m, in \u001b[0;36mquick_execute\u001b[1;34m(op_name, num_outputs, inputs, attrs, ctx, name)\u001b[0m\n\u001b[0;32m     50\u001b[0m \u001b[39mtry\u001b[39;00m:\n\u001b[0;32m     51\u001b[0m   ctx\u001b[39m.\u001b[39mensure_initialized()\n\u001b[1;32m---> 52\u001b[0m   tensors \u001b[39m=\u001b[39m pywrap_tfe\u001b[39m.\u001b[39;49mTFE_Py_Execute(ctx\u001b[39m.\u001b[39;49m_handle, device_name, op_name,\n\u001b[0;32m     53\u001b[0m                                       inputs, attrs, num_outputs)\n\u001b[0;32m     54\u001b[0m \u001b[39mexcept\u001b[39;00m core\u001b[39m.\u001b[39m_NotOkStatusException \u001b[39mas\u001b[39;00m e:\n\u001b[0;32m     55\u001b[0m   \u001b[39mif\u001b[39;00m name \u001b[39mis\u001b[39;00m \u001b[39mnot\u001b[39;00m \u001b[39mNone\u001b[39;00m:\n",
      "\u001b[1;31mKeyboardInterrupt\u001b[0m: "
     ]
    }
   ],
   "source": [
    "history = model.fit(X_train, X_train, epochs=10, batch_size=X_train.shape[1], validation_data=(X_test, X_test), verbose=1)\n",
    "plt.plot(history.history['loss'], label='loss')\n",
    "plt.plot(history.history['val_loss'], label='val_loss')\n",
    "plt.title(\"TimeSeries AutoEncoder LSTM: Loss and Validation Loss over Epochs\")\n",
    "plt.xlabel('Epochs')\n",
    "plt.ylabel('Loss')\n",
    "plt.legend()"
   ]
  },
  {
   "cell_type": "markdown",
   "metadata": {},
   "source": [
    "Predicts the values using the testing data"
   ]
  },
  {
   "cell_type": "code",
   "execution_count": null,
   "metadata": {},
   "outputs": [],
   "source": [
    "yhat = model.predict(X_test, verbose=0)"
   ]
  },
  {
   "cell_type": "markdown",
   "metadata": {},
   "source": [
    "Calculates the anomoly score for each input in the testing data by the difference of the sum of the features and the predicted y value. Then established the anomoly cutoff based on the percentage of malicious datapoints in our sample and plots a histogram. This usually is done experimentally, but since we know the percentage of malicious in our dataset, we are able to evaluate the perfomance of the model."
   ]
  },
  {
   "cell_type": "code",
   "execution_count": null,
   "metadata": {},
   "outputs": [
    {
     "name": "stdout",
     "output_type": "stream",
     "text": [
      "Threshold: 0.4164280786209767\n"
     ]
    },
    {
     "data": {
      "image/png": "[encoded data removed]",
      "text/plain": [
       "<Figure size 640x480 with 1 Axes>"
      ]
     },
     "metadata": {},
     "output_type": "display_data"
    }
   ],
   "source": [
    "diff = [abs(x.sum() - y.sum())/X_test.shape[1] for x, y in zip(X_test, yhat)]\n",
    "plot = plt.hist(diff, bins='auto')\n",
    "plt.title(\"Total Histogram of Difference\")\n",
    "plt.xlabel(\"Size Differential\")\n",
    "\n",
    "i, total, percent = 0,0,0\n",
    "while percent < .9:\n",
    "    total+=plot[0][i]\n",
    "    percent =  total / X_test.shape[0]\n",
    "    i+=1\n",
    "print(\"Threshold:\", plot[1][i])\n",
    "plt.axvline(plot[1][i], color='red', linestyle='dashed', linewidth=1)\n",
    "plt.show()"
   ]
  },
  {
   "cell_type": "markdown",
   "metadata": {},
   "source": [
    "Seperates the anomolies from the regular data using the threshold value"
   ]
  },
  {
   "cell_type": "code",
   "execution_count": null,
   "metadata": {},
   "outputs": [
    {
     "data": {
      "image/png": "[encoded data removed]",
      "text/plain": [
       "<Figure size 640x480 with 1 Axes>"
      ]
     },
     "metadata": {},
     "output_type": "display_data"
    }
   ],
   "source": [
    "counts, edges, bars = plt.hist(diff,bins=[0,plot[1][i],1])\n",
    "size_bar = plt.bar_label(bars)\n",
    "plt.title(\"Histogram of Difference\")\n",
    "plt.xlabel(\"Size Difference\")\n",
    "plt.show()"
   ]
  },
  {
   "cell_type": "code",
   "execution_count": null,
   "metadata": {},
   "outputs": [],
   "source": [
    "threshold = plot[1][i]\n",
    "thresh_classification = [0 if x < threshold else 1 for x in diff]\n",
    "\n",
    "accuracy = sum([1 if i == j else 0 for i, j in zip(thresh_classification, y_test)]) / len(y_test)\n",
    "accuracy"
   ]
  },
  {
   "cell_type": "markdown",
   "metadata": {},
   "source": [
    "### SVM"
   ]
  },
  {
   "cell_type": "code",
   "execution_count": 35,
   "metadata": {},
   "outputs": [],
   "source": [
    "X_train, X_test, y_train, y_test = train_test_split(df, y, test_size=0.33, random_state=42)"
   ]
  },
  {
   "cell_type": "code",
   "execution_count": 36,
   "metadata": {},
   "outputs": [],
   "source": [
    "one_class_svm = OneClassSVM(nu=0.1, kernel = 'rbf', gamma = 'auto', verbose=1)"
   ]
  },
  {
   "cell_type": "code",
   "execution_count": 37,
   "metadata": {},
   "outputs": [
    {
     "name": "stdout",
     "output_type": "stream",
     "text": [
      "[LibSVM]"
     ]
    }
   ],
   "source": [
    "one_class_svm.fit(X_train)"
   ]
  },
  {
   "cell_type": "code",
   "execution_count": null,
   "metadata": {},
   "outputs": [],
   "source": [
    "ypred = one_class_svm.predict(X_test)\n",
    "prediction = [1 if i==-1 else 0 for i in ypred]\n",
    "print(classification_report(y_test, prediction))"
   ]
  },
  {
   "cell_type": "markdown",
   "metadata": {},
   "source": [
    "### Isolation Forest"
   ]
  },
  {
   "cell_type": "markdown",
   "metadata": {},
   "source": [
    "Creates Isolation Forest model"
   ]
  },
  {
   "cell_type": "code",
   "execution_count": 69,
   "metadata": {},
   "outputs": [],
   "source": [
    "model=IsolationForest(n_estimators=100,max_samples='auto',random_state=42,contamination=float(.1),n_jobs=-1, max_features=9, verbose=True)"
   ]
  },
  {
   "cell_type": "markdown",
   "metadata": {},
   "source": [
    "Trains model based on training data"
   ]
  },
  {
   "cell_type": "code",
   "execution_count": 70,
   "metadata": {},
   "outputs": [
    {
     "name": "stderr",
     "output_type": "stream",
     "text": [
      "[Parallel(n_jobs=20)]: Using backend ThreadingBackend with 20 concurrent workers.\n",
      "[Parallel(n_jobs=20)]: Done   2 out of  20 | elapsed:    0.7s remaining:    7.5s\n",
      "[Parallel(n_jobs=20)]: Done  20 out of  20 | elapsed:    0.9s finished\n"
     ]
    },
    {
     "name": "stdout",
     "output_type": "stream",
     "text": [
      "{'bootstrap': False, 'contamination': 0.1, 'max_features': 9, 'max_samples': 'auto', 'n_estimators': 100, 'n_jobs': -1, 'random_state': 42, 'verbose': True, 'warm_start': False}\n"
     ]
    }
   ],
   "source": [
    "model.fit(X_train)\n",
    "print(model.get_params())"
   ]
  },
  {
   "cell_type": "markdown",
   "metadata": {},
   "source": [
    "Predicts anomaly score and plots a histogram. Establishes threshold to classify data as malicious."
   ]
  },
  {
   "cell_type": "code",
   "execution_count": 71,
   "metadata": {},
   "outputs": [
    {
     "data": {
      "image/png": "[encoded data removed]",
      "text/plain": [
       "<Figure size 640x480 with 1 Axes>"
      ]
     },
     "metadata": {},
     "output_type": "display_data"
    }
   ],
   "source": [
    "anomaly_scores = model.predict(X_test)\n",
    "counts, edges, bars = plt.hist(anomaly_scores,bins=2)\n",
    "size_bar = plt.bar_label(bars)\n",
    "plt.title(\"Histogram of Anomaly Scores (Isolation Forest)\")\n",
    "plt.xlabel(\"Anomaly Score\")\n",
    "plt.show()"
   ]
  },
  {
   "cell_type": "markdown",
   "metadata": {},
   "source": [
    "Uses the threshold to find accurracy of model."
   ]
  },
  {
   "cell_type": "code",
   "execution_count": 79,
   "metadata": {},
   "outputs": [
    {
     "data": {
      "text/plain": [
       "30355"
      ]
     },
     "execution_count": 79,
     "metadata": {},
     "output_type": "execute_result"
    }
   ],
   "source": [
    "len(list(filter(lambda x: x < 0, anomaly_scores)))"
   ]
  },
  {
   "cell_type": "code",
   "execution_count": 80,
   "metadata": {},
   "outputs": [],
   "source": [
    "converted_anomaly_scores = [0 if x == 1 else 1 for x in anomaly_scores]"
   ]
  },
  {
   "cell_type": "code",
   "execution_count": 81,
   "metadata": {},
   "outputs": [
    {
     "data": {
      "text/plain": [
       "0.8192220215399023"
      ]
     },
     "execution_count": 81,
     "metadata": {},
     "output_type": "execute_result"
    }
   ],
   "source": [
    "thresh_classification = [0 if x < threshold else 1 for x in converted_anomaly_scores]\n",
    "accuracy = sum([1 if i == j else 0 for i, j in zip(converted_anomaly_scores, y_test)]) / len(y_test)\n",
    "accuracy"
   ]
  }
 ],
 "metadata": {
  "kernelspec": {
   "display_name": "Python 3.10.8 64-bit (microsoft store)",
   "language": "python",
   "name": "python3"
  },
  "language_info": {
   "codemirror_mode": {
    "name": "ipython",
    "version": 3
   },
   "file_extension": ".py",
   "mimetype": "text/x-python",
   "name": "python",
   "nbconvert_exporter": "python",
   "pygments_lexer": "ipython3",
   "version": "3.10.8"
  },
  "orig_nbformat": 4,
  "vscode": {
   "interpreter": {
    "hash": "7d304f8a788dc357851e8e26f4f2d0b96a5ad1a5f24ff2e713e3216619007ad4"
   }
  }
 },
 "nbformat": 4,
 "nbformat_minor": 2
}
